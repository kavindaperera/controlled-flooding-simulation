{
 "cells": [
  {
   "cell_type": "code",
   "execution_count": 1,
   "metadata": {},
   "outputs": [],
   "source": [
    "import pandas as pd\n",
    "import numpy as np\n",
    "import matplotlib.pyplot as plt\n",
    "import seaborn as sns\n",
    "import re\n",
    "import matplotlib.patches as mpatches\n"
   ]
  },
  {
   "cell_type": "code",
   "execution_count": 2,
   "metadata": {},
   "outputs": [],
   "source": [
    "df_sdp_60_1 = pd.read_csv('C:\\\\omnetpp-5.6.2\\\\samples\\\\tarp-sim\\\\results\\\\data_1\\\\data_sdp_60_1.csv')\n",
    "df_dd_60 = pd.read_csv('C:\\\\omnetpp-5.6.2\\\\samples\\\\tarp-sim\\\\results\\\\data_1\\\\data_dd_60.csv')"
   ]
  },
  {
   "cell_type": "code",
   "execution_count": 3,
   "metadata": {},
   "outputs": [],
   "source": [
    "df_sdp_60_1.Module = df_sdp_60_1.Module.str.split('[',expand=True)[1].str.split(']',expand=True)[0]\n",
    "df_dd_60.Module = df_dd_60.Module.str.split('[',expand=True)[1].str.split(']',expand=True)[0]"
   ]
  },
  {
   "cell_type": "code",
   "execution_count": 4,
   "metadata": {},
   "outputs": [
    {
     "data": {
      "text/plain": [
       "623.2544444444444"
      ]
     },
     "execution_count": 4,
     "metadata": {},
     "output_type": "execute_result"
    }
   ],
   "source": [
    "df_sdp_60_1.nbDataPacketsForwarded.mean()"
   ]
  },
  {
   "cell_type": "code",
   "execution_count": 5,
   "metadata": {},
   "outputs": [
    {
     "data": {
      "text/plain": [
       "1936.76"
      ]
     },
     "execution_count": 5,
     "metadata": {},
     "output_type": "execute_result"
    }
   ],
   "source": [
    "df_dd_60.nbDataPacketsForwarded.mean()"
   ]
  },
  {
   "cell_type": "code",
   "execution_count": 6,
   "metadata": {},
   "outputs": [
    {
     "data": {
      "image/png": "[encoded data removed]",
      "text/plain": [
       "<Figure size 432x288 with 1 Axes>"
      ]
     },
     "metadata": {
      "needs_background": "light"
     },
     "output_type": "display_data"
    }
   ],
   "source": [
    "x = ['DD', 'SPD']\n",
    "y = [df_dd_60.nbDataPacketsForwarded.mean(),  df_sdp_60_1.nbDataPacketsForwarded.mean()]\n",
    "\n",
    "sns.barplot(x, y)\n",
    "plt.xlabel(\"Protocol\")\n",
    "plt.ylabel(\"Avg. No of Pkts Forwarded\")\n",
    "plt.title(\"Random Waypoint Mobility\") # You can comment this line out if you don't need title\n",
    "\n",
    "plt.show()"
   ]
  },
  {
   "cell_type": "code",
   "execution_count": null,
   "metadata": {},
   "outputs": [],
   "source": []
  },
  {
   "cell_type": "code",
   "execution_count": null,
   "metadata": {},
   "outputs": [],
   "source": []
  },
  {
   "cell_type": "code",
   "execution_count": null,
   "metadata": {},
   "outputs": [],
   "source": []
  },
  {
   "cell_type": "code",
   "execution_count": null,
   "metadata": {},
   "outputs": [],
   "source": []
  },
  {
   "cell_type": "code",
   "execution_count": null,
   "metadata": {},
   "outputs": [],
   "source": []
  },
  {
   "cell_type": "code",
   "execution_count": 515,
   "metadata": {},
   "outputs": [],
   "source": [
    "# df = pd.read_csv('C:\\\\omnetpp-5.6.2\\\\samples\\\\tarp-sim\\\\results\\\\data_3\\\\data_spd_n_60_w_0.csv')\n",
    "df = pd.read_csv('C:\\\\Users\\\\KAVINDA\\\\Documents\\\\Sem 6B\\\\FYP\\\\OMNET++\\\\adhoc-sim\\\\results\\\\data_1\\\\data_aodv_n_60_w_900.csv')"
   ]
  },
  {
   "cell_type": "code",
   "execution_count": 516,
   "metadata": {},
   "outputs": [],
   "source": [
    "# df.head()"
   ]
  },
  {
   "cell_type": "code",
   "execution_count": 517,
   "metadata": {},
   "outputs": [],
   "source": [
    "df.Module = df.Module.str.split('[',expand=True)[1].str.split(']',expand=True)[0]"
   ]
  },
  {
   "cell_type": "code",
   "execution_count": 518,
   "metadata": {},
   "outputs": [],
   "source": [
    "df = df.sort_values(by=['repetition'])"
   ]
  },
  {
   "cell_type": "code",
   "execution_count": null,
   "metadata": {},
   "outputs": [],
   "source": []
  },
  {
   "cell_type": "code",
   "execution_count": 519,
   "metadata": {},
   "outputs": [
    {
     "name": "stdout",
     "output_type": "stream",
     "text": [
      "[0.9855, 0.9741, 0.9843, 0.9826, 0.9905, 0.9978, 0.9842, 0.9516, 0.9831, 0.9718, 0.9611, 0.9659, 0.9712, 0.9791, 0.9837, 0.978, 0.986, 0.9826, 0.9798, 0.9683, 0.9944, 0.1501, 0.991, 0.9313, 0.995, 0.9922, 0.9955, 0.0829, 0.9549, 0.2734]\n"
     ]
    }
   ],
   "source": [
    "df_17 = df.loc[df['Module'] == '17']\n",
    "df_22 = df.loc[df['Module'] == '22']\n",
    "\n",
    "results = []\n",
    "results_x = []\n",
    "count = 0\n",
    "\n",
    "for index, row in df_17.iterrows():\n",
    "        x = df_22.iloc[count][\"echoedPk:count\"]\n",
    "        res = round((row['packetReceived:count'] + x)/(x + row['packetSent:count']), 4) \n",
    "        results.append(res)\n",
    "        res_x = round((x)/(row['packetSent:count']), 4) \n",
    "        results_x.append(res_x)\n",
    "        count+=1\n",
    "        \n",
    "print (results)   \n"
   ]
  },
  {
   "cell_type": "code",
   "execution_count": 520,
   "metadata": {},
   "outputs": [
    {
     "name": "stdout",
     "output_type": "stream",
     "text": [
      "[0.9878, 0.9722, 0.9822, 0.98, 0.9856, 0.9956, 0.9722, 0.95, 0.9778, 0.9711, 0.9433, 0.9544, 0.97, 0.9667, 0.9767, 0.9656, 0.98, 0.9744, 0.9789, 0.9633, 0.9911, 0.0811, 0.9856, 0.9233, 0.9933, 0.9878, 0.9944, 0.0456, 0.9222, 0.1622]\n"
     ]
    }
   ],
   "source": [
    "print (results_x) "
   ]
  },
  {
   "cell_type": "code",
   "execution_count": 521,
   "metadata": {},
   "outputs": [
    {
     "name": "stdout",
     "output_type": "stream",
     "text": [
      "Mean: 89.74\n"
     ]
    }
   ],
   "source": [
    "print(\"Mean:\", round(sum(results) / len(results)*100,2))"
   ]
  },
  {
   "cell_type": "code",
   "execution_count": 522,
   "metadata": {},
   "outputs": [
    {
     "name": "stdout",
     "output_type": "stream",
     "text": [
      "Mean: 88.45\n"
     ]
    }
   ],
   "source": [
    "print(\"Mean:\", round(sum(results_x) / len(results_x)*100,2))"
   ]
  },
  {
   "cell_type": "code",
   "execution_count": 523,
   "metadata": {},
   "outputs": [],
   "source": [
    "# df_17"
   ]
  },
  {
   "cell_type": "code",
   "execution_count": 524,
   "metadata": {},
   "outputs": [],
   "source": [
    "# df_22"
   ]
  },
  {
   "cell_type": "code",
   "execution_count": 550,
   "metadata": {},
   "outputs": [],
   "source": [
    "df_spd = pd.DataFrame({'PauseTime':[0, 50, 100, 300, 600, 900],\n",
    "                       'PDF':[74.71, 72.25, 72.94, 76.31, 74.92,78.56]})\n",
    "\n",
    "df_spd_x = pd.DataFrame({'PauseTime':[0, 50, 100, 300, 600, 900],\n",
    "                       'PDF':[84.16, 82.97, 81.68, 81.86, 83.03, 86.51]})\n",
    "\n",
    "\n",
    "df_aodv = pd.DataFrame({'PauseTime':[0, 50, 100, 300, 600, 900],\n",
    "                       'PDF':[83.27, 86.24, 85.42, 89.09, 89.58, 89.74]})\n",
    "\n",
    "df_aodv_x = pd.DataFrame({'PauseTime':[0, 50, 100, 300, 600, 900],\n",
    "                       'PDF':[77.24, 81.13, 79.55, 84.9, 85.81, 88.45]})\n",
    "\n",
    "\n",
    "df_spd_b = pd.DataFrame({'PauseTime':[0, 50, 100, 300, 600, 900],\n",
    "                       'PDF':[74.71, 72.25, 72.94, 76.31, 74.92,78.56]})\n",
    "\n",
    "df_spd_b_x = pd.DataFrame({'PauseTime':[0, 50, 100, 300, 600, 900],\n",
    "                       'PDF':[84.16, 82.97, 81.68, 81.86, 83.03, 86.51]})"
   ]
  },
  {
   "cell_type": "code",
   "execution_count": 551,
   "metadata": {},
   "outputs": [],
   "source": [
    "# sns.lineplot(data=df_spd, x=\"PauseTime\", y=\"PDF\" , markers=True)"
   ]
  },
  {
   "cell_type": "code",
   "execution_count": 552,
   "metadata": {},
   "outputs": [
    {
     "data": {
      "image/png": "[encoded data removed]",
      "text/plain": [
       "<Figure size 936x432 with 1 Axes>"
      ]
     },
     "metadata": {
      "needs_background": "light"
     },
     "output_type": "display_data"
    }
   ],
   "source": [
    "plt.xlabel(\"Pause Time (sec)\")\n",
    "plt.ylabel(\"PDF%\")\n",
    "plt.title(\"Random Waypoint Mobility - 60 Nodes\")\n",
    "\n",
    "plt.xticks(np.arange(0,901, 50))\n",
    "plt.yticks(np.arange(0,102, 1))\n",
    "# plt.grid()\n",
    "\n",
    "# plt.plot(df_spd.PauseTime, df_spd.PDF,  'b-o') \n",
    "plt.plot(df_spd_x.PauseTime, df_spd_x.PDF,  'b-x') \n",
    "\n",
    "# plt.plot(df_aodv.PauseTime, df_aodv.PDF,  'g-o') \n",
    "plt.plot(df_aodv_x.PauseTime, df_aodv_x.PDF,  'g-x') \n",
    "\n",
    "# plt.plot(df_spd_b.PauseTime, df_spd_b.PDF,  'r-o') \n",
    "plt.plot(df_spd_b_x.PauseTime, df_spd_b_x.PDF,  'r-x') \n",
    "\n",
    "red_patch = mpatches.Patch(color='red', label='TARP-B')\n",
    "green_patch = mpatches.Patch(color='green', label='AODV')\n",
    "blue_patch = mpatches.Patch(color='blue', label='TARP-A')\n",
    "\n",
    "plt.legend(handles=[ red_patch, green_patch, blue_patch,])\n",
    "\n",
    "fig = plt.gcf()\n",
    "fig.set_size_inches(13, 6)"
   ]
  },
  {
   "cell_type": "code",
   "execution_count": null,
   "metadata": {},
   "outputs": [],
   "source": []
  },
  {
   "cell_type": "code",
   "execution_count": null,
   "metadata": {},
   "outputs": [],
   "source": []
  },
  {
   "cell_type": "code",
   "execution_count": null,
   "metadata": {},
   "outputs": [],
   "source": []
  },
  {
   "cell_type": "code",
   "execution_count": null,
   "metadata": {},
   "outputs": [],
   "source": []
  },
  {
   "cell_type": "code",
   "execution_count": null,
   "metadata": {},
   "outputs": [],
   "source": []
  },
  {
   "cell_type": "code",
   "execution_count": null,
   "metadata": {},
   "outputs": [],
   "source": []
  }
 ],
 "metadata": {
  "kernelspec": {
   "display_name": "Python 3",
   "language": "python",
   "name": "python3"
  },
  "language_info": {
   "codemirror_mode": {
    "name": "ipython",
    "version": 3
   },
   "file_extension": ".py",
   "mimetype": "text/x-python",
   "name": "python",
   "nbconvert_exporter": "python",
   "pygments_lexer": "ipython3",
   "version": "3.8.3"
  }
 },
 "nbformat": 4,
 "nbformat_minor": 4
}
