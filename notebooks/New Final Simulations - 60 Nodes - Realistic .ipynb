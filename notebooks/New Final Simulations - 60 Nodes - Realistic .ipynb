{
 "cells": [
  {
   "cell_type": "code",
   "execution_count": 3,
   "metadata": {},
   "outputs": [],
   "source": [
    "import pandas as pd\n",
    "import numpy as np\n",
    "import matplotlib.pyplot as plt\n",
    "import seaborn as sns\n",
    "import re\n",
    "import matplotlib.patches as mpatches"
   ]
  },
  {
   "cell_type": "markdown",
   "metadata": {},
   "source": [
    "## SPD - with interference- 60 Nodes - 200mx200m - 40m range"
   ]
  },
  {
   "cell_type": "code",
   "execution_count": 37,
   "metadata": {},
   "outputs": [],
   "source": [
    "df = pd.read_csv('C:\\\\omnetpp-5.6.2\\\\samples\\\\tarp-sim\\\\results\\\\new\\\\data_17\\\\data_spd_2_n_60_p_600_pdf_csma.csv')"
   ]
  },
  {
   "cell_type": "code",
   "execution_count": 38,
   "metadata": {},
   "outputs": [
    {
     "data": {
      "text/html": [
       "<div>\n",
       "<style scoped>\n",
       "    .dataframe tbody tr th:only-of-type {\n",
       "        vertical-align: middle;\n",
       "    }\n",
       "\n",
       "    .dataframe tbody tr th {\n",
       "        vertical-align: top;\n",
       "    }\n",
       "\n",
       "    .dataframe thead th {\n",
       "        text-align: right;\n",
       "    }\n",
       "</style>\n",
       "<table border=\"1\" class=\"dataframe\">\n",
       "  <thead>\n",
       "    <tr style=\"text-align: right;\">\n",
       "      <th></th>\n",
       "      <th>run</th>\n",
       "      <th>PauseTime</th>\n",
       "      <th>repetition</th>\n",
       "      <th>Module</th>\n",
       "      <th>echoedPk:count</th>\n",
       "      <th>echoedPk:sum(packetBytes)</th>\n",
       "      <th>packetReceived:count</th>\n",
       "      <th>packetReceived:sum(packetBytes)</th>\n",
       "      <th>packets received</th>\n",
       "      <th>packets sent</th>\n",
       "      <th>packetSent:count</th>\n",
       "      <th>packetSent:sum(packetBytes)</th>\n",
       "    </tr>\n",
       "  </thead>\n",
       "  <tbody>\n",
       "    <tr>\n",
       "      <th>0</th>\n",
       "      <td>RandomWaypointMobility-SPD-B-31-20220228-13:58...</td>\n",
       "      <td>600</td>\n",
       "      <td>1</td>\n",
       "      <td>TARPNetwork.node[17].app[0]</td>\n",
       "      <td>NaN</td>\n",
       "      <td>NaN</td>\n",
       "      <td>585.0</td>\n",
       "      <td>585000.0</td>\n",
       "      <td>585.0</td>\n",
       "      <td>900.0</td>\n",
       "      <td>900.0</td>\n",
       "      <td>900000.0</td>\n",
       "    </tr>\n",
       "    <tr>\n",
       "      <th>1</th>\n",
       "      <td>RandomWaypointMobility-SPD-B-31-20220228-13:58...</td>\n",
       "      <td>600</td>\n",
       "      <td>1</td>\n",
       "      <td>TARPNetwork.node[22].app[0]</td>\n",
       "      <td>708.0</td>\n",
       "      <td>708000.0</td>\n",
       "      <td>NaN</td>\n",
       "      <td>NaN</td>\n",
       "      <td>NaN</td>\n",
       "      <td>NaN</td>\n",
       "      <td>NaN</td>\n",
       "      <td>NaN</td>\n",
       "    </tr>\n",
       "    <tr>\n",
       "      <th>2</th>\n",
       "      <td>RandomWaypointMobility-SPD-B-56-20220228-14:08...</td>\n",
       "      <td>600</td>\n",
       "      <td>26</td>\n",
       "      <td>TARPNetwork.node[17].app[0]</td>\n",
       "      <td>NaN</td>\n",
       "      <td>NaN</td>\n",
       "      <td>483.0</td>\n",
       "      <td>483000.0</td>\n",
       "      <td>483.0</td>\n",
       "      <td>900.0</td>\n",
       "      <td>900.0</td>\n",
       "      <td>900000.0</td>\n",
       "    </tr>\n",
       "    <tr>\n",
       "      <th>3</th>\n",
       "      <td>RandomWaypointMobility-SPD-B-38-20220228-14:01...</td>\n",
       "      <td>600</td>\n",
       "      <td>8</td>\n",
       "      <td>TARPNetwork.node[22].app[0]</td>\n",
       "      <td>795.0</td>\n",
       "      <td>795000.0</td>\n",
       "      <td>NaN</td>\n",
       "      <td>NaN</td>\n",
       "      <td>NaN</td>\n",
       "      <td>NaN</td>\n",
       "      <td>NaN</td>\n",
       "      <td>NaN</td>\n",
       "    </tr>\n",
       "    <tr>\n",
       "      <th>4</th>\n",
       "      <td>RandomWaypointMobility-SPD-B-38-20220228-14:01...</td>\n",
       "      <td>600</td>\n",
       "      <td>8</td>\n",
       "      <td>TARPNetwork.node[17].app[0]</td>\n",
       "      <td>NaN</td>\n",
       "      <td>NaN</td>\n",
       "      <td>458.0</td>\n",
       "      <td>458000.0</td>\n",
       "      <td>458.0</td>\n",
       "      <td>900.0</td>\n",
       "      <td>900.0</td>\n",
       "      <td>900000.0</td>\n",
       "    </tr>\n",
       "  </tbody>\n",
       "</table>\n",
       "</div>"
      ],
      "text/plain": [
       "                                                 run  PauseTime  repetition  \\\n",
       "0  RandomWaypointMobility-SPD-B-31-20220228-13:58...        600           1   \n",
       "1  RandomWaypointMobility-SPD-B-31-20220228-13:58...        600           1   \n",
       "2  RandomWaypointMobility-SPD-B-56-20220228-14:08...        600          26   \n",
       "3  RandomWaypointMobility-SPD-B-38-20220228-14:01...        600           8   \n",
       "4  RandomWaypointMobility-SPD-B-38-20220228-14:01...        600           8   \n",
       "\n",
       "                        Module  echoedPk:count  echoedPk:sum(packetBytes)  \\\n",
       "0  TARPNetwork.node[17].app[0]             NaN                        NaN   \n",
       "1  TARPNetwork.node[22].app[0]           708.0                   708000.0   \n",
       "2  TARPNetwork.node[17].app[0]             NaN                        NaN   \n",
       "3  TARPNetwork.node[22].app[0]           795.0                   795000.0   \n",
       "4  TARPNetwork.node[17].app[0]             NaN                        NaN   \n",
       "\n",
       "   packetReceived:count  packetReceived:sum(packetBytes)  packets received  \\\n",
       "0                 585.0                         585000.0             585.0   \n",
       "1                   NaN                              NaN               NaN   \n",
       "2                 483.0                         483000.0             483.0   \n",
       "3                   NaN                              NaN               NaN   \n",
       "4                 458.0                         458000.0             458.0   \n",
       "\n",
       "   packets sent  packetSent:count  packetSent:sum(packetBytes)  \n",
       "0         900.0             900.0                     900000.0  \n",
       "1           NaN               NaN                          NaN  \n",
       "2         900.0             900.0                     900000.0  \n",
       "3           NaN               NaN                          NaN  \n",
       "4         900.0             900.0                     900000.0  "
      ]
     },
     "execution_count": 38,
     "metadata": {},
     "output_type": "execute_result"
    }
   ],
   "source": [
    "df.head()"
   ]
  },
  {
   "cell_type": "code",
   "execution_count": 39,
   "metadata": {},
   "outputs": [],
   "source": [
    "df.Module = df.Module.str.split('[',expand=True)[1].str.split(']',expand=True)[0]"
   ]
  },
  {
   "cell_type": "code",
   "execution_count": 40,
   "metadata": {},
   "outputs": [],
   "source": [
    "df = df.sort_values(by=['repetition'])"
   ]
  },
  {
   "cell_type": "code",
   "execution_count": 41,
   "metadata": {},
   "outputs": [],
   "source": [
    "df_17 = df.loc[df['Module'] == '17']\n",
    "df_22 = df.loc[df['Module'] == '22']"
   ]
  },
  {
   "cell_type": "code",
   "execution_count": 42,
   "metadata": {},
   "outputs": [],
   "source": [
    "results = []\n",
    "results_x = []\n",
    "count = 0\n",
    "\n",
    "for index, row in df_17.iterrows():\n",
    "        x = df_22.iloc[count][\"echoedPk:count\"]\n",
    "        res = round((row['packetReceived:count'] + x)/(x + row['packetSent:count']), 4) \n",
    "        results.append(res)\n",
    "        res_x = round((x)/(row['packetSent:count']), 4) \n",
    "        results_x.append(res_x)\n",
    "        count+=1\n"
   ]
  },
  {
   "cell_type": "code",
   "execution_count": 43,
   "metadata": {},
   "outputs": [
    {
     "name": "stdout",
     "output_type": "stream",
     "text": [
      "[0.6795, 0.8041, 0.9059, 0.74, 0.7398, 0.6818, 0.6894, 0.8715, 0.7392, 0.7441, 0.7881, 0.8228, 0.7256, 0.8621, 0.875, 0.8381, 0.7953, 0.8636, 0.7769, 0.571, 0.7117, 0.851, 0.8862, 0.8574, 0.74, 0.8785, 0.7587, 0.8608, 0.8591, 0.7423]\n"
     ]
    }
   ],
   "source": [
    "print (results)   "
   ]
  },
  {
   "cell_type": "code",
   "execution_count": 44,
   "metadata": {},
   "outputs": [
    {
     "name": "stdout",
     "output_type": "stream",
     "text": [
      "[0.8822, 0.7867, 0.9122, 0.8122, 0.7767, 0.9033, 0.7567, 0.8678, 0.8833, 0.85, 0.8933, 0.9944, 0.9111, 0.8533, 0.9467, 0.8467, 0.9867, 0.9556, 0.9522, 0.5022, 0.9889, 0.9233, 0.9422, 0.8311, 0.9489, 0.9578, 0.92, 0.9078, 0.94, 0.7333]\n"
     ]
    }
   ],
   "source": [
    "print (results_x) "
   ]
  },
  {
   "cell_type": "code",
   "execution_count": 45,
   "metadata": {},
   "outputs": [
    {
     "name": "stdout",
     "output_type": "stream",
     "text": [
      "Mean: 78.86\n"
     ]
    }
   ],
   "source": [
    "print(\"Mean:\", round(sum(results) / len(results)*100,2))"
   ]
  },
  {
   "cell_type": "code",
   "execution_count": 46,
   "metadata": {},
   "outputs": [
    {
     "name": "stdout",
     "output_type": "stream",
     "text": [
      "Mean: 87.89\n"
     ]
    }
   ],
   "source": [
    "print(\"Mean:\", round(sum(results_x) / len(results_x)*100,2))"
   ]
  },
  {
   "cell_type": "code",
   "execution_count": 47,
   "metadata": {},
   "outputs": [],
   "source": [
    "df_dd_x = pd.DataFrame({'PauseTime':[0, 30, 60, 90, 120, 300, 600, 900],\n",
    "                       'PDF':[96.26, 95.25, 94.62, 94.82, 93.74, 92.46, 94.82, 97.98]})\n",
    "\n",
    "dd_x_errors = [0.667, 1.14, 1.21, 1.21, 1.53, 3.4, 2.67, 0.959]\n",
    "\n",
    "\n",
    "df_spd_1_x = pd.DataFrame({'PauseTime':[0, 30, 60, 90, 120, 300, 600, 900],\n",
    "                       'PDF':[72.61, 68.85, 66.5, 66.19, 63.68, 69.43, 80.55, 90.8]})\n",
    "\n",
    "spd_1_x_errors = [2.86, 3.53, 2.37, 3.58, 3.96, 4.46, 2.73, 2.66]\n",
    "\n",
    "\n",
    "df_spd_2_x = pd.DataFrame({'PauseTime':[0, 30, 60, 90, 120, 300, 600, 900],\n",
    "                       'PDF':[82.1, 77.67, 76.65, 77.64, 76.06, 79.23, 87.89, 93.96]})\n",
    "\n",
    "spd_2_x_errors = [2.06, 2.23, 1.61, 3.33, 4.17, 4.49, 3.49, 2.33]"
   ]
  },
  {
   "cell_type": "code",
   "execution_count": 62,
   "metadata": {},
   "outputs": [
    {
     "data": {
      "image/png": "[encoded data removed]",
      "text/plain": [
       "<Figure size 1152x720 with 1 Axes>"
      ]
     },
     "metadata": {
      "needs_background": "light"
     },
     "output_type": "display_data"
    }
   ],
   "source": [
    "plt.xlabel(\"Pause Time (sec)\", fontsize=20)\n",
    "plt.ylabel(\"PDR%\", fontsize=20)\n",
    "plt.title(\"60 Nodes\", fontsize=20)\n",
    "\n",
    "plt.xticks(np.arange(0,901, 30), fontsize=10)\n",
    "plt.yticks(np.arange(0,101, 5), fontsize=10)\n",
    "# plt.grid()\n",
    "\n",
    "# plt.plot(df_dd_x.PauseTime, df_dd_x.PDF,  'g-x') \n",
    "\n",
    "# plt.plot(df_spd_1_x.PauseTime, df_spd_1_x.PDF,  'b-x') \n",
    "\n",
    "# plt.plot(df_spd_2_x.PauseTime, df_spd_2_x.PDF,  'r-x') \n",
    "\n",
    "plt.ylim([50, 100])\n",
    "\n",
    "plt.errorbar(\n",
    "  x=df_dd_x.PauseTime, \n",
    "  y=df_dd_x.PDF, \n",
    "  yerr=dd_x_errors, \n",
    "  capsize=5,\n",
    "  marker='o', \n",
    "  color='#00A36C', \n",
    "  markersize=8, \n",
    "  linewidth=1, \n",
    "  linestyle='-')\n",
    "\n",
    "plt.errorbar(\n",
    "  x=df_spd_1_x.PauseTime, \n",
    "  y=df_spd_1_x.PDF, \n",
    "  yerr=spd_1_x_errors, \n",
    "  capsize=5,\n",
    "  marker='o', \n",
    "  color='#4682B4', \n",
    "  markersize=8, \n",
    "  linewidth=1, \n",
    "  linestyle='-')\n",
    "\n",
    "plt.errorbar(\n",
    "  x=df_spd_2_x.PauseTime, \n",
    "  y=df_spd_2_x.PDF, \n",
    "  yerr=spd_2_x_errors, \n",
    "  capsize=5,\n",
    "  marker='o', \n",
    "  color='#EE4B2B', \n",
    "  markersize=8, \n",
    "  linewidth=1.2, \n",
    "  linestyle='-')\n",
    "\n",
    "\n",
    "red_patch = mpatches.Patch(color='#EE4B2B', label='TARP (slack=2)')\n",
    "green_patch = mpatches.Patch(color='#00A36C', label='Simple Flooding')\n",
    "blue_patch = mpatches.Patch(color='#4682B4', label='TARP (slack=1)')\n",
    "\n",
    "plt.legend(handles=[ green_patch, blue_patch, red_patch])\n",
    "\n",
    "fig = plt.gcf()\n",
    "fig.set_size_inches(16, 10)\n",
    "plt.savefig('final-simulation-pdf-60-new-realistic.png', dpi=300)"
   ]
  },
  {
   "cell_type": "code",
   "execution_count": null,
   "metadata": {},
   "outputs": [],
   "source": []
  },
  {
   "cell_type": "markdown",
   "metadata": {},
   "source": [
    "## Average no. of packets"
   ]
  },
  {
   "cell_type": "code",
   "execution_count": 49,
   "metadata": {},
   "outputs": [],
   "source": [
    "df_sp = pd.read_csv('C:\\\\omnetpp-5.6.2\\\\samples\\\\tarp-sim\\\\results\\\\new\\\\data_18\\\\data_dd_n_60_p_900_dpf.csv')\n",
    "df_tarp_1 = pd.read_csv('C:\\\\omnetpp-5.6.2\\\\samples\\\\tarp-sim\\\\results\\\\new\\\\data_18\\\\data_spd_1_n_60_p_900_dpf.csv')\n",
    "df_tarp_2 = pd.read_csv('C:\\\\omnetpp-5.6.2\\\\samples\\\\tarp-sim\\\\results\\\\new\\\\data_18\\\\data_spd_2_n_60_p_900_dpf.csv')"
   ]
  },
  {
   "cell_type": "code",
   "execution_count": 50,
   "metadata": {},
   "outputs": [],
   "source": [
    "df_sp.Module = df_sp.Module.str.split('[',expand=True)[1].str.split(']',expand=True)[0]\n",
    "df_tarp_1.Module = df_tarp_1.Module.str.split('[',expand=True)[1].str.split(']',expand=True)[0]\n",
    "df_tarp_2.Module = df_tarp_2.Module.str.split('[',expand=True)[1].str.split(']',expand=True)[0]"
   ]
  },
  {
   "cell_type": "code",
   "execution_count": 51,
   "metadata": {},
   "outputs": [],
   "source": [
    "# Calculate the average\n",
    "sp_mean = np.mean(df_sp.nbDataPacketsForwarded)\n",
    "tarp_1_mean = np.mean(df_tarp_1.nbDataPacketsForwarded)\n",
    "tarp_2_mean = np.mean(df_tarp_2.nbDataPacketsForwarded)\n",
    "\n",
    "# Calculate the standard deviation\n",
    "sp_std = np.std(df_sp.nbDataPacketsForwarded)\n",
    "tarp_1_std = np.std(df_tarp_1.nbDataPacketsForwarded)\n",
    "tarp_2_std = np.std(df_tarp_2.nbDataPacketsForwarded)\n"
   ]
  },
  {
   "cell_type": "code",
   "execution_count": 52,
   "metadata": {},
   "outputs": [],
   "source": [
    "# Create lists for the plot\n",
    "protocols = [ \"Simple Flooding\", 'TARP (slack=2)', 'TARP (slack=1)']\n",
    "x_pos = np.arange(len(protocols))\n",
    "CTEs = [sp_mean, tarp_2_mean, tarp_1_mean]\n",
    "error = [sp_std, tarp_2_std, tarp_1_std]"
   ]
  },
  {
   "cell_type": "code",
   "execution_count": 59,
   "metadata": {},
   "outputs": [
    {
     "data": {
      "image/png": "[encoded data removed]",
      "text/plain": [
       "<Figure size 576x360 with 1 Axes>"
      ]
     },
     "metadata": {
      "needs_background": "light"
     },
     "output_type": "display_data"
    }
   ],
   "source": [
    "# Build the plot\n",
    "fig, ax = plt.subplots()\n",
    "ax.bar(x_pos, CTEs, yerr=error, align='center', alpha=0.5, ecolor='black', capsize=10, color=['#00A36C', '#4682B4', '#EE4B2B'])\n",
    "ax.set_ylabel('Average no. of packets', fontsize=15)\n",
    "ax.set_xticks(x_pos)\n",
    "plt.xlabel(\"Protocol\", fontsize=15)\n",
    "ax.set_xticklabels(protocols, fontsize=12)\n",
    "ax.set_title('60 Nodes', fontsize=15)\n",
    "ax.yaxis.grid(False)\n",
    "\n",
    "fig.set_size_inches(8, 5)\n",
    "\n",
    "# Save the figure and show\n",
    "plt.tight_layout()\n",
    "plt.savefig('bar_plot_with_error_bars_60_real.png', dpi=300)\n",
    "plt.show()"
   ]
  },
  {
   "cell_type": "code",
   "execution_count": null,
   "metadata": {},
   "outputs": [],
   "source": []
  },
  {
   "cell_type": "code",
   "execution_count": null,
   "metadata": {},
   "outputs": [],
   "source": []
  },
  {
   "cell_type": "code",
   "execution_count": null,
   "metadata": {},
   "outputs": [],
   "source": []
  },
  {
   "cell_type": "markdown",
   "metadata": {},
   "source": [
    "## Mean no. of hops"
   ]
  },
  {
   "cell_type": "code",
   "execution_count": 167,
   "metadata": {},
   "outputs": [],
   "source": [
    "df = pd.read_csv('C:\\\\omnetpp-5.6.2\\\\samples\\\\tarp-sim\\\\results\\\\new\\\\data_17\\\\data_spd_2_n_60_p_900_pdf_csma_hops.csv')"
   ]
  },
  {
   "cell_type": "code",
   "execution_count": 168,
   "metadata": {},
   "outputs": [
    {
     "data": {
      "text/html": [
       "<div>\n",
       "<style scoped>\n",
       "    .dataframe tbody tr th:only-of-type {\n",
       "        vertical-align: middle;\n",
       "    }\n",
       "\n",
       "    .dataframe tbody tr th {\n",
       "        vertical-align: top;\n",
       "    }\n",
       "\n",
       "    .dataframe thead th {\n",
       "        text-align: right;\n",
       "    }\n",
       "</style>\n",
       "<table border=\"1\" class=\"dataframe\">\n",
       "  <thead>\n",
       "    <tr style=\"text-align: right;\">\n",
       "      <th></th>\n",
       "      <th>run</th>\n",
       "      <th>PauseTime</th>\n",
       "      <th>repetition</th>\n",
       "      <th>Module</th>\n",
       "      <th>meanNbHops</th>\n",
       "    </tr>\n",
       "  </thead>\n",
       "  <tbody>\n",
       "    <tr>\n",
       "      <th>0</th>\n",
       "      <td>RandomWaypointMobility-SPD-B-60-20220228-13:57...</td>\n",
       "      <td>900</td>\n",
       "      <td>0</td>\n",
       "      <td>TARPNetwork.node[56].generic.np</td>\n",
       "      <td>0.0</td>\n",
       "    </tr>\n",
       "    <tr>\n",
       "      <th>1</th>\n",
       "      <td>RandomWaypointMobility-SPD-B-60-20220228-13:57...</td>\n",
       "      <td>900</td>\n",
       "      <td>0</td>\n",
       "      <td>TARPNetwork.node[42].generic.np</td>\n",
       "      <td>0.0</td>\n",
       "    </tr>\n",
       "    <tr>\n",
       "      <th>2</th>\n",
       "      <td>RandomWaypointMobility-SPD-B-60-20220228-13:57...</td>\n",
       "      <td>900</td>\n",
       "      <td>0</td>\n",
       "      <td>TARPNetwork.node[43].generic.np</td>\n",
       "      <td>0.0</td>\n",
       "    </tr>\n",
       "    <tr>\n",
       "      <th>3</th>\n",
       "      <td>RandomWaypointMobility-SPD-B-60-20220228-13:57...</td>\n",
       "      <td>900</td>\n",
       "      <td>0</td>\n",
       "      <td>TARPNetwork.node[44].generic.np</td>\n",
       "      <td>0.0</td>\n",
       "    </tr>\n",
       "    <tr>\n",
       "      <th>4</th>\n",
       "      <td>RandomWaypointMobility-SPD-B-60-20220228-13:57...</td>\n",
       "      <td>900</td>\n",
       "      <td>0</td>\n",
       "      <td>TARPNetwork.node[45].generic.np</td>\n",
       "      <td>0.0</td>\n",
       "    </tr>\n",
       "  </tbody>\n",
       "</table>\n",
       "</div>"
      ],
      "text/plain": [
       "                                                 run  PauseTime  repetition  \\\n",
       "0  RandomWaypointMobility-SPD-B-60-20220228-13:57...        900           0   \n",
       "1  RandomWaypointMobility-SPD-B-60-20220228-13:57...        900           0   \n",
       "2  RandomWaypointMobility-SPD-B-60-20220228-13:57...        900           0   \n",
       "3  RandomWaypointMobility-SPD-B-60-20220228-13:57...        900           0   \n",
       "4  RandomWaypointMobility-SPD-B-60-20220228-13:57...        900           0   \n",
       "\n",
       "                            Module  meanNbHops  \n",
       "0  TARPNetwork.node[56].generic.np         0.0  \n",
       "1  TARPNetwork.node[42].generic.np         0.0  \n",
       "2  TARPNetwork.node[43].generic.np         0.0  \n",
       "3  TARPNetwork.node[44].generic.np         0.0  \n",
       "4  TARPNetwork.node[45].generic.np         0.0  "
      ]
     },
     "execution_count": 168,
     "metadata": {},
     "output_type": "execute_result"
    }
   ],
   "source": [
    "df.head()"
   ]
  },
  {
   "cell_type": "code",
   "execution_count": 169,
   "metadata": {},
   "outputs": [],
   "source": [
    "df.Module = df.Module.str.split('[',expand=True)[1].str.split(']',expand=True)[0]"
   ]
  },
  {
   "cell_type": "code",
   "execution_count": 170,
   "metadata": {},
   "outputs": [],
   "source": [
    "df = df.sort_values(by=['repetition'])"
   ]
  },
  {
   "cell_type": "code",
   "execution_count": 171,
   "metadata": {},
   "outputs": [],
   "source": [
    "df_17 = df.loc[df['Module'] == '17']\n",
    "df_22 = df.loc[df['Module'] == '22']"
   ]
  },
  {
   "cell_type": "code",
   "execution_count": 172,
   "metadata": {},
   "outputs": [
    {
     "data": {
      "text/plain": [
       "[1.1969,\n",
       " 1.2892,\n",
       " 1.5811,\n",
       " 2.0358,\n",
       " 2.3749,\n",
       " 2.6225,\n",
       " 3.0022,\n",
       " 3.3794,\n",
       " 3.9044,\n",
       " 3.9603,\n",
       " 4.0408,\n",
       " 4.0574,\n",
       " 4.0859,\n",
       " 4.1853,\n",
       " 4.2047,\n",
       " 4.4065,\n",
       " 4.4673,\n",
       " 4.5167,\n",
       " 4.8992,\n",
       " 5.0779,\n",
       " 5.4017,\n",
       " 5.9852,\n",
       " 5.9915,\n",
       " 6.9529,\n",
       " 7.0624,\n",
       " 7.1828,\n",
       " 7.3387,\n",
       " 7.5492,\n",
       " 7.9481,\n",
       " 8.9559]"
      ]
     },
     "execution_count": 172,
     "metadata": {},
     "output_type": "execute_result"
    }
   ],
   "source": [
    "sorted(df_22.meanNbHops.round(decimals = 4).tolist())"
   ]
  },
  {
   "cell_type": "code",
   "execution_count": 173,
   "metadata": {},
   "outputs": [
    {
     "data": {
      "text/plain": [
       "4.655226666666667"
      ]
     },
     "execution_count": 173,
     "metadata": {},
     "output_type": "execute_result"
    }
   ],
   "source": [
    "df_22.meanNbHops.round(decimals = 4).mean()"
   ]
  },
  {
   "cell_type": "code",
   "execution_count": 174,
   "metadata": {},
   "outputs": [],
   "source": [
    "df_dd_x = pd.DataFrame({'PauseTime':[0, 30, 60, 90, 120, 300, 600, 900],\n",
    "                       'meanNbHops':[3.4122, 3.8854, 3.964, 3.9806, 4.0614, 4.2483, 4.5538, 4.7231]})\n",
    "\n",
    "dd_x_errors = [0.142, 0.187, 0.193, 0.249, 0.28, 0.409, 0.564, 0.726]\n",
    "\n",
    "\n",
    "df_spd_1_x = pd.DataFrame({'PauseTime':[0, 30, 60, 90, 120, 300, 600, 900],\n",
    "                       'meanNbHops':[2.7701, 2.8448, 3.2403, 3.1551, 3.1896, 3.9267, 3.9919, 4.5846]})\n",
    "\n",
    "spd_1_x_errors = [0.16, 0.146, 0.244, 0.227, 0.278, 0.425, 0.535, 0.714]\n",
    "\n",
    "\n",
    "df_spd_2_x = pd.DataFrame({'PauseTime':[0, 30, 60, 90, 120, 300, 600, 900],\n",
    "                       'meanNbHops':[2.9632, 3.1576, 3.3583, 3.2433, 3.6197, 4.2328, 4.2927, 4.6552]})\n",
    "\n",
    "spd_2_x_errors = [0.149, 0.148, 0.227, 0.198, 0.237, 0.407, 0.555, 0.724]"
   ]
  },
  {
   "cell_type": "code",
   "execution_count": 175,
   "metadata": {},
   "outputs": [
    {
     "data": {
      "image/png": "[encoded data removed]",
      "text/plain": [
       "<Figure size 1152x720 with 1 Axes>"
      ]
     },
     "metadata": {
      "needs_background": "light"
     },
     "output_type": "display_data"
    }
   ],
   "source": [
    "plt.xlabel(\"Pause Time (sec)\", fontsize=20)\n",
    "plt.ylabel(\"Mean No. of Hops\", fontsize=20)\n",
    "plt.title(\"60 Nodes\", fontsize=20)\n",
    "\n",
    "plt.xticks(np.arange(0,901, 30))\n",
    "plt.yticks(np.arange(0,7, 0.5))\n",
    "# plt.grid()\n",
    "\n",
    "\n",
    "plt.ylim([2, 5.5])\n",
    "\n",
    "plt.errorbar(\n",
    "  x=df_dd_x.PauseTime, \n",
    "  y=df_dd_x.meanNbHops, \n",
    "  yerr=dd_x_errors, \n",
    "  capsize=5,\n",
    "  marker='o', \n",
    "  color='#00A36C', \n",
    "  markersize=8, \n",
    "  linewidth=1, \n",
    "  linestyle='-')\n",
    "\n",
    "plt.errorbar(\n",
    "  x=df_spd_1_x.PauseTime, \n",
    "  y=df_spd_1_x.meanNbHops, \n",
    "  yerr=spd_1_x_errors, \n",
    "  capsize=5,\n",
    "  marker='o', \n",
    "  color='#4682B4', \n",
    "  markersize=8, \n",
    "  linewidth=1, \n",
    "  linestyle='-')\n",
    "\n",
    "plt.errorbar(\n",
    "  x=df_spd_2_x.PauseTime, \n",
    "  y=df_spd_2_x.meanNbHops, \n",
    "  yerr=spd_2_x_errors, \n",
    "  capsize=5,\n",
    "  marker='o', \n",
    "  color='#EE4B2B', \n",
    "  markersize=8, \n",
    "  linewidth=1.2, \n",
    "  linestyle='-')\n",
    "\n",
    "red_patch = mpatches.Patch(color='#EE4B2B', label='TARP (slack=2)')\n",
    "green_patch = mpatches.Patch(color='#00A36C', label='Simple Flooding')\n",
    "blue_patch = mpatches.Patch(color='#4682B4', label='TARP (slack=1)')\n",
    "\n",
    "plt.legend(handles=[ green_patch, blue_patch, red_patch])\n",
    "\n",
    "fig = plt.gcf()\n",
    "fig.set_size_inches(16, 10)\n",
    "plt.savefig('final-simulation-pdf-60-new-realistic-hops.png', dpi=300)"
   ]
  },
  {
   "cell_type": "code",
   "execution_count": null,
   "metadata": {},
   "outputs": [],
   "source": []
  }
 ],
 "metadata": {
  "kernelspec": {
   "display_name": "Python 3",
   "language": "python",
   "name": "python3"
  },
  "language_info": {
   "codemirror_mode": {
    "name": "ipython",
    "version": 3
   },
   "file_extension": ".py",
   "mimetype": "text/x-python",
   "name": "python",
   "nbconvert_exporter": "python",
   "pygments_lexer": "ipython3",
   "version": "3.8.3"
  }
 },
 "nbformat": 4,
 "nbformat_minor": 4
}
