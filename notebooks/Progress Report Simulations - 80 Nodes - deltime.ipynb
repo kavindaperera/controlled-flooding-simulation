{
 "cells": [
  {
   "cell_type": "code",
   "execution_count": 1,
   "metadata": {},
   "outputs": [],
   "source": [
    "import pandas as pd\n",
    "import numpy as np\n",
    "import matplotlib.pyplot as plt\n",
    "import seaborn as sns\n",
    "import re\n",
    "import matplotlib.patches as mpatches"
   ]
  },
  {
   "cell_type": "markdown",
   "metadata": {},
   "source": [
    "## SPD - delete time parameter study - 40,60,80 Nodes"
   ]
  },
  {
   "cell_type": "code",
   "execution_count": 761,
   "metadata": {},
   "outputs": [],
   "source": [
    "df = pd.read_csv('C:\\\\omnetpp-5.6.2\\\\samples\\\\tarp-sim\\\\results\\\\data_10\\\\data_spd_2_n_40_del_100_pdf.csv')"
   ]
  },
  {
   "cell_type": "code",
   "execution_count": 762,
   "metadata": {},
   "outputs": [
    {
     "data": {
      "text/html": [
       "<div>\n",
       "<style scoped>\n",
       "    .dataframe tbody tr th:only-of-type {\n",
       "        vertical-align: middle;\n",
       "    }\n",
       "\n",
       "    .dataframe tbody tr th {\n",
       "        vertical-align: top;\n",
       "    }\n",
       "\n",
       "    .dataframe thead th {\n",
       "        text-align: right;\n",
       "    }\n",
       "</style>\n",
       "<table border=\"1\" class=\"dataframe\">\n",
       "  <thead>\n",
       "    <tr style=\"text-align: right;\">\n",
       "      <th></th>\n",
       "      <th>run</th>\n",
       "      <th>numNodes</th>\n",
       "      <th>spdDelTime</th>\n",
       "      <th>repetition</th>\n",
       "      <th>Module</th>\n",
       "      <th>echoedPk:count</th>\n",
       "      <th>echoedPk:sum(packetBytes)</th>\n",
       "      <th>packetReceived:count</th>\n",
       "      <th>packetReceived:sum(packetBytes)</th>\n",
       "      <th>packets received</th>\n",
       "      <th>packets sent</th>\n",
       "      <th>packetSent:count</th>\n",
       "      <th>packetSent:sum(packetBytes)</th>\n",
       "    </tr>\n",
       "  </thead>\n",
       "  <tbody>\n",
       "    <tr>\n",
       "      <th>0</th>\n",
       "      <td>RandomWaypointMobility-SPD-B-53-20211207-14:27...</td>\n",
       "      <td>40</td>\n",
       "      <td>100</td>\n",
       "      <td>3</td>\n",
       "      <td>TARPNetwork.node[17].app[0]</td>\n",
       "      <td>NaN</td>\n",
       "      <td>NaN</td>\n",
       "      <td>513.0</td>\n",
       "      <td>513000.0</td>\n",
       "      <td>513.0</td>\n",
       "      <td>900.0</td>\n",
       "      <td>900.0</td>\n",
       "      <td>900000.0</td>\n",
       "    </tr>\n",
       "    <tr>\n",
       "      <th>1</th>\n",
       "      <td>RandomWaypointMobility-SPD-B-56-20211207-14:28...</td>\n",
       "      <td>40</td>\n",
       "      <td>100</td>\n",
       "      <td>6</td>\n",
       "      <td>TARPNetwork.node[22].app[0]</td>\n",
       "      <td>631.0</td>\n",
       "      <td>631000.0</td>\n",
       "      <td>NaN</td>\n",
       "      <td>NaN</td>\n",
       "      <td>NaN</td>\n",
       "      <td>NaN</td>\n",
       "      <td>NaN</td>\n",
       "      <td>NaN</td>\n",
       "    </tr>\n",
       "    <tr>\n",
       "      <th>2</th>\n",
       "      <td>RandomWaypointMobility-SPD-B-53-20211207-14:27...</td>\n",
       "      <td>40</td>\n",
       "      <td>100</td>\n",
       "      <td>3</td>\n",
       "      <td>TARPNetwork.node[22].app[0]</td>\n",
       "      <td>697.0</td>\n",
       "      <td>697000.0</td>\n",
       "      <td>NaN</td>\n",
       "      <td>NaN</td>\n",
       "      <td>NaN</td>\n",
       "      <td>NaN</td>\n",
       "      <td>NaN</td>\n",
       "      <td>NaN</td>\n",
       "    </tr>\n",
       "    <tr>\n",
       "      <th>3</th>\n",
       "      <td>RandomWaypointMobility-SPD-B-58-20211207-14:28...</td>\n",
       "      <td>40</td>\n",
       "      <td>100</td>\n",
       "      <td>8</td>\n",
       "      <td>TARPNetwork.node[17].app[0]</td>\n",
       "      <td>NaN</td>\n",
       "      <td>NaN</td>\n",
       "      <td>620.0</td>\n",
       "      <td>620000.0</td>\n",
       "      <td>620.0</td>\n",
       "      <td>900.0</td>\n",
       "      <td>900.0</td>\n",
       "      <td>900000.0</td>\n",
       "    </tr>\n",
       "    <tr>\n",
       "      <th>4</th>\n",
       "      <td>RandomWaypointMobility-SPD-B-54-20211207-14:27...</td>\n",
       "      <td>40</td>\n",
       "      <td>100</td>\n",
       "      <td>4</td>\n",
       "      <td>TARPNetwork.node[17].app[0]</td>\n",
       "      <td>NaN</td>\n",
       "      <td>NaN</td>\n",
       "      <td>309.0</td>\n",
       "      <td>309000.0</td>\n",
       "      <td>309.0</td>\n",
       "      <td>900.0</td>\n",
       "      <td>900.0</td>\n",
       "      <td>900000.0</td>\n",
       "    </tr>\n",
       "  </tbody>\n",
       "</table>\n",
       "</div>"
      ],
      "text/plain": [
       "                                                 run  numNodes  spdDelTime  \\\n",
       "0  RandomWaypointMobility-SPD-B-53-20211207-14:27...        40         100   \n",
       "1  RandomWaypointMobility-SPD-B-56-20211207-14:28...        40         100   \n",
       "2  RandomWaypointMobility-SPD-B-53-20211207-14:27...        40         100   \n",
       "3  RandomWaypointMobility-SPD-B-58-20211207-14:28...        40         100   \n",
       "4  RandomWaypointMobility-SPD-B-54-20211207-14:27...        40         100   \n",
       "\n",
       "   repetition                       Module  echoedPk:count  \\\n",
       "0           3  TARPNetwork.node[17].app[0]             NaN   \n",
       "1           6  TARPNetwork.node[22].app[0]           631.0   \n",
       "2           3  TARPNetwork.node[22].app[0]           697.0   \n",
       "3           8  TARPNetwork.node[17].app[0]             NaN   \n",
       "4           4  TARPNetwork.node[17].app[0]             NaN   \n",
       "\n",
       "   echoedPk:sum(packetBytes)  packetReceived:count  \\\n",
       "0                        NaN                 513.0   \n",
       "1                   631000.0                   NaN   \n",
       "2                   697000.0                   NaN   \n",
       "3                        NaN                 620.0   \n",
       "4                        NaN                 309.0   \n",
       "\n",
       "   packetReceived:sum(packetBytes)  packets received  packets sent  \\\n",
       "0                         513000.0             513.0         900.0   \n",
       "1                              NaN               NaN           NaN   \n",
       "2                              NaN               NaN           NaN   \n",
       "3                         620000.0             620.0         900.0   \n",
       "4                         309000.0             309.0         900.0   \n",
       "\n",
       "   packetSent:count  packetSent:sum(packetBytes)  \n",
       "0             900.0                     900000.0  \n",
       "1               NaN                          NaN  \n",
       "2               NaN                          NaN  \n",
       "3             900.0                     900000.0  \n",
       "4             900.0                     900000.0  "
      ]
     },
     "execution_count": 762,
     "metadata": {},
     "output_type": "execute_result"
    }
   ],
   "source": [
    "df.head()"
   ]
  },
  {
   "cell_type": "code",
   "execution_count": 763,
   "metadata": {},
   "outputs": [],
   "source": [
    "df.Module = df.Module.str.split('[',expand=True)[1].str.split(']',expand=True)[0]"
   ]
  },
  {
   "cell_type": "code",
   "execution_count": 764,
   "metadata": {},
   "outputs": [],
   "source": [
    "df = df.sort_values(by=['repetition'])"
   ]
  },
  {
   "cell_type": "code",
   "execution_count": 765,
   "metadata": {},
   "outputs": [],
   "source": [
    "df_17 = df.loc[df['Module'] == '17']\n",
    "df_22 = df.loc[df['Module'] == '22']"
   ]
  },
  {
   "cell_type": "code",
   "execution_count": 766,
   "metadata": {},
   "outputs": [],
   "source": [
    "results = []\n",
    "results_x = []\n",
    "count = 0\n",
    "\n",
    "for index, row in df_17.iterrows():\n",
    "        x = df_22.iloc[count][\"echoedPk:count\"]\n",
    "        res = round((row['packetReceived:count'] + x)/(x + row['packetSent:count']), 4) \n",
    "        results.append(res)\n",
    "        res_x = round((x)/(row['packetSent:count']), 4) \n",
    "        results_x.append(res_x)\n",
    "        count+=1\n"
   ]
  },
  {
   "cell_type": "code",
   "execution_count": 767,
   "metadata": {},
   "outputs": [
    {
     "name": "stdout",
     "output_type": "stream",
     "text": [
      "[0.6632, 0.7111, 0.7438, 0.7577, 0.5736, 0.5238, 0.7139, 0.688, 0.8348, 0.679]\n"
     ]
    }
   ],
   "source": [
    "print (results)   "
   ]
  },
  {
   "cell_type": "code",
   "execution_count": 768,
   "metadata": {},
   "outputs": [
    {
     "name": "stdout",
     "output_type": "stream",
     "text": [
      "[0.6067, 0.75, 0.6956, 0.7744, 0.54, 0.5656, 0.7011, 0.6133, 0.8833, 0.6822]\n"
     ]
    }
   ],
   "source": [
    "print (results_x) "
   ]
  },
  {
   "cell_type": "code",
   "execution_count": 769,
   "metadata": {},
   "outputs": [
    {
     "name": "stdout",
     "output_type": "stream",
     "text": [
      "Mean: 68.89\n"
     ]
    }
   ],
   "source": [
    "print(\"Mean:\", round(sum(results) / len(results)*100,2))"
   ]
  },
  {
   "cell_type": "code",
   "execution_count": 770,
   "metadata": {},
   "outputs": [
    {
     "name": "stdout",
     "output_type": "stream",
     "text": [
      "Mean: 68.12\n"
     ]
    }
   ],
   "source": [
    "print(\"Mean:\", round(sum(results_x) / len(results_x)*100,2))"
   ]
  },
  {
   "cell_type": "code",
   "execution_count": 781,
   "metadata": {},
   "outputs": [],
   "source": [
    "df_spd_2_80 = pd.DataFrame({'spdDelTime':[50, 60, 70, 80, 90, 100],\n",
    "                       'PDF':[96.93, 95.16, 96.77, 91.4, 94.9, 91.0]})\n",
    "\n",
    "df_spd_2_80_errors = [1.95, 3.42, 2.2, 5.2, 2.07, 6.05]\n",
    "\n",
    "df_spd_2_60 = pd.DataFrame({'spdDelTime':[50, 60, 70, 80, 90, 100],\n",
    "                       'PDF':[93.5, 91.69, 91.54, 90.33, 89.07, 85.59]})\n",
    "\n",
    "df_spd_2_60_errors = [3.32, 4.05, 4.12, 3.81, 3.08 , 6.5]\n",
    "\n",
    "df_spd_2_40 = pd.DataFrame({'spdDelTime':[50, 60, 70, 80, 90, 100],\n",
    "                       'PDF':[75.62, 78.82, 73.81, 74.27, 70.46, 68.12]})\n",
    "\n",
    "df_spd_2_40_errors = [6.35, 6.79, 3.23, 6.02, 7.7, 6.15]\n"
   ]
  },
  {
   "cell_type": "code",
   "execution_count": 782,
   "metadata": {},
   "outputs": [
    {
     "data": {
      "image/png": "[encoded data removed]",
      "text/plain": [
       "<Figure size 936x720 with 1 Axes>"
      ]
     },
     "metadata": {
      "needs_background": "light"
     },
     "output_type": "display_data"
    }
   ],
   "source": [
    "\n",
    "\n",
    "plt.xlabel(\"SDP Cache Reset Time\")\n",
    "plt.ylabel(\"PDF%\")\n",
    "plt.title(\"Parameter Study - SDP cache reset time - (500mx500m)\")\n",
    "\n",
    "plt.xticks(np.arange(50,101, 10))\n",
    "plt.yticks(np.arange(45,101, 5))\n",
    "# plt.grid()\n",
    "\n",
    "# plt.plot(df_dd_x.PauseTime, df_dd_x.PDF,  'g-x') \n",
    "\n",
    "# plt.plot(df_spd_1_x.PauseTime, df_spd_1_x.PDF,  'b-x') \n",
    "\n",
    "# plt.plot(df_spd_2_x.PauseTime, df_spd_2_x.PDF,  'r-x') \n",
    "\n",
    "plt.ylim([45, 100])\n",
    "\n",
    "plt.errorbar(\n",
    "  x=df_spd_2_80.spdDelTime, \n",
    "  y=df_spd_2_80.PDF, \n",
    "  yerr=df_spd_2_80_errors, \n",
    "  capsize=5,\n",
    "  marker='o', \n",
    "  color='green', \n",
    "  markersize=8, \n",
    "  linewidth=1, \n",
    "  linestyle='-')\n",
    "\n",
    "plt.errorbar(\n",
    "  x=df_spd_2_40.spdDelTime, \n",
    "  y=df_spd_2_40.PDF, \n",
    "  yerr=df_spd_2_40_errors, \n",
    "  capsize=5,\n",
    "  marker='o', \n",
    "  color='blue', \n",
    "  markersize=8, \n",
    "  linewidth=1, \n",
    "  linestyle='-')\n",
    "\n",
    "plt.errorbar(\n",
    "  x=df_spd_2_60.spdDelTime, \n",
    "  y=df_spd_2_60.PDF, \n",
    "  yerr=df_spd_2_60_errors, \n",
    "  capsize=5,\n",
    "  marker='o', \n",
    "  color='red', \n",
    "  markersize=8, \n",
    "  linewidth=1.2, \n",
    "  linestyle='-')\n",
    "\n",
    "# red_patch = mpatches.Patch(color='red', label='60 Nodes')\n",
    "# green_patch = mpatches.Patch(color='green', label='80 Nodes')\n",
    "# blue_patch = mpatches.Patch(color='blue', label='40 Nodes')\n",
    "\n",
    "plt.legend(handles=[ green_patch, blue_patch, red_patch])\n",
    "\n",
    "\n",
    "\n",
    "fig = plt.gcf()\n",
    "fig.set_size_inches(13, 10)\n",
    "\n",
    "plt.savefig('simulation-pdf-deltime-parameter study.png', dpi=300)"
   ]
  },
  {
   "cell_type": "code",
   "execution_count": null,
   "metadata": {},
   "outputs": [],
   "source": []
  },
  {
   "cell_type": "code",
   "execution_count": null,
   "metadata": {},
   "outputs": [],
   "source": []
  },
  {
   "cell_type": "code",
   "execution_count": null,
   "metadata": {},
   "outputs": [],
   "source": []
  },
  {
   "cell_type": "code",
   "execution_count": null,
   "metadata": {},
   "outputs": [],
   "source": []
  },
  {
   "cell_type": "code",
   "execution_count": null,
   "metadata": {},
   "outputs": [],
   "source": []
  }
 ],
 "metadata": {
  "kernelspec": {
   "display_name": "Python 3",
   "language": "python",
   "name": "python3"
  },
  "language_info": {
   "codemirror_mode": {
    "name": "ipython",
    "version": 3
   },
   "file_extension": ".py",
   "mimetype": "text/x-python",
   "name": "python",
   "nbconvert_exporter": "python",
   "pygments_lexer": "ipython3",
   "version": "3.8.3"
  }
 },
 "nbformat": 4,
 "nbformat_minor": 4
}
