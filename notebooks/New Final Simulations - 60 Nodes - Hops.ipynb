{
 "cells": [
  {
   "cell_type": "code",
   "execution_count": 2,
   "metadata": {},
   "outputs": [],
   "source": [
    "import pandas as pd\n",
    "import numpy as np\n",
    "import matplotlib.pyplot as plt\n",
    "import seaborn as sns\n",
    "import re\n",
    "import matplotlib.patches as mpatches"
   ]
  },
  {
   "cell_type": "markdown",
   "metadata": {},
   "source": [
    "## SPD - slack parameter study - 60 Nodes"
   ]
  },
  {
   "cell_type": "code",
   "execution_count": 45,
   "metadata": {},
   "outputs": [],
   "source": [
    "df = pd.read_csv('C:\\\\omnetpp-5.6.2\\\\samples\\\\tarp-sim\\\\results\\\\new\\\\data_6\\\\data_spd_2_n_60_p_900_hops.csv')"
   ]
  },
  {
   "cell_type": "code",
   "execution_count": 46,
   "metadata": {},
   "outputs": [
    {
     "data": {
      "text/html": [
       "<div>\n",
       "<style scoped>\n",
       "    .dataframe tbody tr th:only-of-type {\n",
       "        vertical-align: middle;\n",
       "    }\n",
       "\n",
       "    .dataframe tbody tr th {\n",
       "        vertical-align: top;\n",
       "    }\n",
       "\n",
       "    .dataframe thead th {\n",
       "        text-align: right;\n",
       "    }\n",
       "</style>\n",
       "<table border=\"1\" class=\"dataframe\">\n",
       "  <thead>\n",
       "    <tr style=\"text-align: right;\">\n",
       "      <th></th>\n",
       "      <th>run</th>\n",
       "      <th>PauseTime</th>\n",
       "      <th>repetition</th>\n",
       "      <th>Module</th>\n",
       "      <th>meanNbHops</th>\n",
       "    </tr>\n",
       "  </thead>\n",
       "  <tbody>\n",
       "    <tr>\n",
       "      <th>0</th>\n",
       "      <td>RandomWaypointMobility-SPD-B-80-20220108-21:52...</td>\n",
       "      <td>900</td>\n",
       "      <td>20</td>\n",
       "      <td>TARPNetwork.node[14].generic.np</td>\n",
       "      <td>0.000000</td>\n",
       "    </tr>\n",
       "    <tr>\n",
       "      <th>1</th>\n",
       "      <td>RandomWaypointMobility-SPD-B-80-20220108-21:52...</td>\n",
       "      <td>900</td>\n",
       "      <td>20</td>\n",
       "      <td>TARPNetwork.node[15].generic.np</td>\n",
       "      <td>0.000000</td>\n",
       "    </tr>\n",
       "    <tr>\n",
       "      <th>2</th>\n",
       "      <td>RandomWaypointMobility-SPD-B-80-20220108-21:52...</td>\n",
       "      <td>900</td>\n",
       "      <td>20</td>\n",
       "      <td>TARPNetwork.node[18].generic.np</td>\n",
       "      <td>0.000000</td>\n",
       "    </tr>\n",
       "    <tr>\n",
       "      <th>3</th>\n",
       "      <td>RandomWaypointMobility-SPD-B-80-20220108-21:52...</td>\n",
       "      <td>900</td>\n",
       "      <td>20</td>\n",
       "      <td>TARPNetwork.node[17].generic.np</td>\n",
       "      <td>3.109853</td>\n",
       "    </tr>\n",
       "    <tr>\n",
       "      <th>4</th>\n",
       "      <td>RandomWaypointMobility-SPD-B-73-20220108-21:47...</td>\n",
       "      <td>900</td>\n",
       "      <td>13</td>\n",
       "      <td>TARPNetwork.node[26].generic.np</td>\n",
       "      <td>0.000000</td>\n",
       "    </tr>\n",
       "  </tbody>\n",
       "</table>\n",
       "</div>"
      ],
      "text/plain": [
       "                                                 run  PauseTime  repetition  \\\n",
       "0  RandomWaypointMobility-SPD-B-80-20220108-21:52...        900          20   \n",
       "1  RandomWaypointMobility-SPD-B-80-20220108-21:52...        900          20   \n",
       "2  RandomWaypointMobility-SPD-B-80-20220108-21:52...        900          20   \n",
       "3  RandomWaypointMobility-SPD-B-80-20220108-21:52...        900          20   \n",
       "4  RandomWaypointMobility-SPD-B-73-20220108-21:47...        900          13   \n",
       "\n",
       "                            Module  meanNbHops  \n",
       "0  TARPNetwork.node[14].generic.np    0.000000  \n",
       "1  TARPNetwork.node[15].generic.np    0.000000  \n",
       "2  TARPNetwork.node[18].generic.np    0.000000  \n",
       "3  TARPNetwork.node[17].generic.np    3.109853  \n",
       "4  TARPNetwork.node[26].generic.np    0.000000  "
      ]
     },
     "execution_count": 46,
     "metadata": {},
     "output_type": "execute_result"
    }
   ],
   "source": [
    "df.head()"
   ]
  },
  {
   "cell_type": "code",
   "execution_count": 47,
   "metadata": {},
   "outputs": [],
   "source": [
    "df.Module = df.Module.str.split('[',expand=True)[1].str.split(']',expand=True)[0]"
   ]
  },
  {
   "cell_type": "code",
   "execution_count": 48,
   "metadata": {},
   "outputs": [],
   "source": [
    "df = df.sort_values(by=['repetition'])"
   ]
  },
  {
   "cell_type": "code",
   "execution_count": 49,
   "metadata": {},
   "outputs": [],
   "source": [
    "df_17 = df.loc[df['Module'] == '17']\n",
    "df_22 = df.loc[df['Module'] == '22']"
   ]
  },
  {
   "cell_type": "code",
   "execution_count": 50,
   "metadata": {},
   "outputs": [
    {
     "data": {
      "text/plain": [
       "[1.1644,\n",
       " 1.2492,\n",
       " 1.5303,\n",
       " 1.9766,\n",
       " 2.0138,\n",
       " 2.1669,\n",
       " 2.9232,\n",
       " 3.0133,\n",
       " 3.0356,\n",
       " 3.7251,\n",
       " 3.827,\n",
       " 3.8598,\n",
       " 3.8617,\n",
       " 3.9017,\n",
       " 3.98,\n",
       " 3.9833,\n",
       " 4.0106,\n",
       " 4.076,\n",
       " 4.0834,\n",
       " 4.7187,\n",
       " 4.843,\n",
       " 5.573,\n",
       " 5.8127,\n",
       " 5.9499,\n",
       " 6.5446,\n",
       " 6.608,\n",
       " 6.6757,\n",
       " 6.9405,\n",
       " 7.5539,\n",
       " 7.8534]"
      ]
     },
     "execution_count": 50,
     "metadata": {},
     "output_type": "execute_result"
    }
   ],
   "source": [
    "sorted(df_22.meanNbHops.round(decimals = 4).tolist())"
   ]
  },
  {
   "cell_type": "code",
   "execution_count": 52,
   "metadata": {},
   "outputs": [
    {
     "data": {
      "text/plain": [
       "4.2485100000000005"
      ]
     },
     "execution_count": 52,
     "metadata": {},
     "output_type": "execute_result"
    }
   ],
   "source": [
    "df_22.meanNbHops.round(decimals = 4).mean()"
   ]
  },
  {
   "cell_type": "code",
   "execution_count": null,
   "metadata": {},
   "outputs": [],
   "source": []
  },
  {
   "cell_type": "code",
   "execution_count": 10,
   "metadata": {},
   "outputs": [],
   "source": [
    "df_dd_x = pd.DataFrame({'PauseTime':[0, 30, 60, 90, 120, 300, 600, 900],\n",
    "                       'meanNbHops':[3.0202, 3.3191, 3.4062, 3.464, 3.711, 3.979, 4.0783, 4.2428]})\n",
    "\n",
    "dd_x_errors = [0.129, 0.19, 0.155, 0.217, 0.291, 0.312, 0.48, 0.655]\n",
    "\n",
    "\n",
    "df_spd_1_x = pd.DataFrame({'PauseTime':[0, 30, 60, 90, 120, 300, 600, 900],\n",
    "                       'meanNbHops':[2.653, 2.8952, 2.9245, 3.0309, 3.2732, 3.8241, 3.9849, 4.25]})\n",
    "\n",
    "spd_1_x_errors = [0.131, 0.18, 0.174, 0.224, 0.303, 0.333, 0.506, 0.666]\n",
    "\n",
    "\n",
    "df_spd_2_x = pd.DataFrame({'PauseTime':[0, 30, 60, 90, 120, 300, 600, 900],\n",
    "                       'meanNbHops':[2.8234, 3.0508, 3.1263, 3.2321, 3.3927, 3.8601, 4.007, 4.2485]})\n",
    "\n",
    "spd_2_x_errors = [0.124, 0.169, 0.168, 0.226, 0.281, 0.319, 0.497, 0.659]"
   ]
  },
  {
   "cell_type": "code",
   "execution_count": 20,
   "metadata": {},
   "outputs": [
    {
     "data": {
      "image/png": "[encoded data removed]",
      "text/plain": [
       "<Figure size 1152x720 with 1 Axes>"
      ]
     },
     "metadata": {
      "needs_background": "light"
     },
     "output_type": "display_data"
    }
   ],
   "source": [
    "plt.xlabel(\"Pause Time (sec)\", fontsize=20)\n",
    "plt.ylabel(\"Mean No. of Hops\", fontsize=20)\n",
    "plt.title(\"Mean No. of Hops - 60 Nodes\", fontsize=20)\n",
    "\n",
    "plt.xticks(np.arange(0,901, 30))\n",
    "plt.yticks(np.arange(0,6, 0.5))\n",
    "# plt.grid()\n",
    "\n",
    "\n",
    "plt.ylim([2, 5])\n",
    "\n",
    "plt.errorbar(\n",
    "  x=df_dd_x.PauseTime, \n",
    "  y=df_dd_x.meanNbHops, \n",
    "  yerr=dd_x_errors, \n",
    "  capsize=5,\n",
    "  marker='o', \n",
    "  color='#00A36C', \n",
    "  markersize=8, \n",
    "  linewidth=1, \n",
    "  linestyle='-')\n",
    "\n",
    "plt.errorbar(\n",
    "  x=df_spd_1_x.PauseTime, \n",
    "  y=df_spd_1_x.meanNbHops, \n",
    "  yerr=spd_1_x_errors, \n",
    "  capsize=5,\n",
    "  marker='o', \n",
    "  color='#4682B4', \n",
    "  markersize=8, \n",
    "  linewidth=1, \n",
    "  linestyle='-')\n",
    "\n",
    "plt.errorbar(\n",
    "  x=df_spd_2_x.PauseTime, \n",
    "  y=df_spd_2_x.meanNbHops, \n",
    "  yerr=spd_2_x_errors, \n",
    "  capsize=5,\n",
    "  marker='o', \n",
    "  color='#EE4B2B', \n",
    "  markersize=8, \n",
    "  linewidth=1.2, \n",
    "  linestyle='-')\n",
    "\n",
    "red_patch = mpatches.Patch(color='#EE4B2B', label='TARP (slack=2)')\n",
    "green_patch = mpatches.Patch(color='#00A36C', label='Simple Flooding')\n",
    "blue_patch = mpatches.Patch(color='#4682B4', label='TARP (slack=1)')\n",
    "\n",
    "plt.legend(handles=[ green_patch, blue_patch, red_patch])\n",
    "\n",
    "fig = plt.gcf()\n",
    "fig.set_size_inches(16, 10)\n",
    "plt.savefig('final-simulation-pdf-60-new-hops-1.png', dpi=300)"
   ]
  },
  {
   "cell_type": "code",
   "execution_count": null,
   "metadata": {},
   "outputs": [],
   "source": []
  },
  {
   "cell_type": "code",
   "execution_count": null,
   "metadata": {},
   "outputs": [],
   "source": []
  },
  {
   "cell_type": "code",
   "execution_count": null,
   "metadata": {},
   "outputs": [],
   "source": []
  },
  {
   "cell_type": "code",
   "execution_count": null,
   "metadata": {},
   "outputs": [],
   "source": []
  },
  {
   "cell_type": "code",
   "execution_count": null,
   "metadata": {},
   "outputs": [],
   "source": []
  },
  {
   "cell_type": "code",
   "execution_count": null,
   "metadata": {},
   "outputs": [],
   "source": []
  }
 ],
 "metadata": {
  "kernelspec": {
   "display_name": "Python 3",
   "language": "python",
   "name": "python3"
  },
  "language_info": {
   "codemirror_mode": {
    "name": "ipython",
    "version": 3
   },
   "file_extension": ".py",
   "mimetype": "text/x-python",
   "name": "python",
   "nbconvert_exporter": "python",
   "pygments_lexer": "ipython3",
   "version": "3.8.3"
  }
 },
 "nbformat": 4,
 "nbformat_minor": 4
}
