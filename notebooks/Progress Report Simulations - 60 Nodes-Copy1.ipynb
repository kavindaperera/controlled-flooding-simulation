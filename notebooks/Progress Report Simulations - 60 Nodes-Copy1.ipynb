{
 "cells": [
  {
   "cell_type": "code",
   "execution_count": 2,
   "metadata": {},
   "outputs": [],
   "source": [
    "import pandas as pd\n",
    "import numpy as np\n",
    "import matplotlib.pyplot as plt\n",
    "import seaborn as sns\n",
    "import re\n",
    "import matplotlib.patches as mpatches"
   ]
  },
  {
   "cell_type": "markdown",
   "metadata": {},
   "source": [
    "## SPD - slack parameter study - 80 Nodes"
   ]
  },
  {
   "cell_type": "code",
   "execution_count": 224,
   "metadata": {},
   "outputs": [],
   "source": [
    "df = pd.read_csv('C:\\\\omnetpp-5.6.2\\\\samples\\\\tarp-sim\\\\results\\\\data_5\\\\data_dd_n_60_p_0_pdf.csv')"
   ]
  },
  {
   "cell_type": "code",
   "execution_count": 225,
   "metadata": {},
   "outputs": [
    {
     "data": {
      "text/html": [
       "<div>\n",
       "<style scoped>\n",
       "    .dataframe tbody tr th:only-of-type {\n",
       "        vertical-align: middle;\n",
       "    }\n",
       "\n",
       "    .dataframe tbody tr th {\n",
       "        vertical-align: top;\n",
       "    }\n",
       "\n",
       "    .dataframe thead th {\n",
       "        text-align: right;\n",
       "    }\n",
       "</style>\n",
       "<table border=\"1\" class=\"dataframe\">\n",
       "  <thead>\n",
       "    <tr style=\"text-align: right;\">\n",
       "      <th></th>\n",
       "      <th>run</th>\n",
       "      <th>PauseTime</th>\n",
       "      <th>repetition</th>\n",
       "      <th>Module</th>\n",
       "      <th>echoedPk:count</th>\n",
       "      <th>echoedPk:sum(packetBytes)</th>\n",
       "      <th>packetReceived:count</th>\n",
       "      <th>packetReceived:sum(packetBytes)</th>\n",
       "      <th>packets received</th>\n",
       "      <th>packets sent</th>\n",
       "      <th>packetSent:count</th>\n",
       "      <th>packetSent:sum(packetBytes)</th>\n",
       "    </tr>\n",
       "  </thead>\n",
       "  <tbody>\n",
       "    <tr>\n",
       "      <th>0</th>\n",
       "      <td>RandomWaypointMobility-SPD-B-87-20211204-16:18...</td>\n",
       "      <td>900</td>\n",
       "      <td>27</td>\n",
       "      <td>TARPNetwork.node[22].app[0]</td>\n",
       "      <td>899.0</td>\n",
       "      <td>899000.0</td>\n",
       "      <td>NaN</td>\n",
       "      <td>NaN</td>\n",
       "      <td>NaN</td>\n",
       "      <td>NaN</td>\n",
       "      <td>NaN</td>\n",
       "      <td>NaN</td>\n",
       "    </tr>\n",
       "    <tr>\n",
       "      <th>1</th>\n",
       "      <td>RandomWaypointMobility-SPD-B-87-20211204-16:18...</td>\n",
       "      <td>900</td>\n",
       "      <td>27</td>\n",
       "      <td>TARPNetwork.node[17].app[0]</td>\n",
       "      <td>NaN</td>\n",
       "      <td>NaN</td>\n",
       "      <td>859.0</td>\n",
       "      <td>859000.0</td>\n",
       "      <td>859.0</td>\n",
       "      <td>900.0</td>\n",
       "      <td>900.0</td>\n",
       "      <td>900000.0</td>\n",
       "    </tr>\n",
       "    <tr>\n",
       "      <th>2</th>\n",
       "      <td>RandomWaypointMobility-SPD-B-79-20211204-16:07...</td>\n",
       "      <td>900</td>\n",
       "      <td>19</td>\n",
       "      <td>TARPNetwork.node[17].app[0]</td>\n",
       "      <td>NaN</td>\n",
       "      <td>NaN</td>\n",
       "      <td>106.0</td>\n",
       "      <td>106000.0</td>\n",
       "      <td>106.0</td>\n",
       "      <td>900.0</td>\n",
       "      <td>900.0</td>\n",
       "      <td>900000.0</td>\n",
       "    </tr>\n",
       "    <tr>\n",
       "      <th>3</th>\n",
       "      <td>RandomWaypointMobility-SPD-B-64-20211204-16:06...</td>\n",
       "      <td>900</td>\n",
       "      <td>4</td>\n",
       "      <td>TARPNetwork.node[17].app[0]</td>\n",
       "      <td>NaN</td>\n",
       "      <td>NaN</td>\n",
       "      <td>874.0</td>\n",
       "      <td>874000.0</td>\n",
       "      <td>874.0</td>\n",
       "      <td>900.0</td>\n",
       "      <td>900.0</td>\n",
       "      <td>900000.0</td>\n",
       "    </tr>\n",
       "    <tr>\n",
       "      <th>4</th>\n",
       "      <td>RandomWaypointMobility-SPD-B-63-20211204-16:04...</td>\n",
       "      <td>900</td>\n",
       "      <td>3</td>\n",
       "      <td>TARPNetwork.node[17].app[0]</td>\n",
       "      <td>NaN</td>\n",
       "      <td>NaN</td>\n",
       "      <td>811.0</td>\n",
       "      <td>811000.0</td>\n",
       "      <td>811.0</td>\n",
       "      <td>900.0</td>\n",
       "      <td>900.0</td>\n",
       "      <td>900000.0</td>\n",
       "    </tr>\n",
       "  </tbody>\n",
       "</table>\n",
       "</div>"
      ],
      "text/plain": [
       "                                                 run  PauseTime  repetition  \\\n",
       "0  RandomWaypointMobility-SPD-B-87-20211204-16:18...        900          27   \n",
       "1  RandomWaypointMobility-SPD-B-87-20211204-16:18...        900          27   \n",
       "2  RandomWaypointMobility-SPD-B-79-20211204-16:07...        900          19   \n",
       "3  RandomWaypointMobility-SPD-B-64-20211204-16:06...        900           4   \n",
       "4  RandomWaypointMobility-SPD-B-63-20211204-16:04...        900           3   \n",
       "\n",
       "                        Module  echoedPk:count  echoedPk:sum(packetBytes)  \\\n",
       "0  TARPNetwork.node[22].app[0]           899.0                   899000.0   \n",
       "1  TARPNetwork.node[17].app[0]             NaN                        NaN   \n",
       "2  TARPNetwork.node[17].app[0]             NaN                        NaN   \n",
       "3  TARPNetwork.node[17].app[0]             NaN                        NaN   \n",
       "4  TARPNetwork.node[17].app[0]             NaN                        NaN   \n",
       "\n",
       "   packetReceived:count  packetReceived:sum(packetBytes)  packets received  \\\n",
       "0                   NaN                              NaN               NaN   \n",
       "1                 859.0                         859000.0             859.0   \n",
       "2                 106.0                         106000.0             106.0   \n",
       "3                 874.0                         874000.0             874.0   \n",
       "4                 811.0                         811000.0             811.0   \n",
       "\n",
       "   packets sent  packetSent:count  packetSent:sum(packetBytes)  \n",
       "0           NaN               NaN                          NaN  \n",
       "1         900.0             900.0                     900000.0  \n",
       "2         900.0             900.0                     900000.0  \n",
       "3         900.0             900.0                     900000.0  \n",
       "4         900.0             900.0                     900000.0  "
      ]
     },
     "execution_count": 225,
     "metadata": {},
     "output_type": "execute_result"
    }
   ],
   "source": [
    "df.head()"
   ]
  },
  {
   "cell_type": "code",
   "execution_count": 226,
   "metadata": {},
   "outputs": [],
   "source": [
    "df.Module = df.Module.str.split('[',expand=True)[1].str.split(']',expand=True)[0]"
   ]
  },
  {
   "cell_type": "code",
   "execution_count": 227,
   "metadata": {},
   "outputs": [],
   "source": [
    "df = df.sort_values(by=['repetition'])"
   ]
  },
  {
   "cell_type": "code",
   "execution_count": 228,
   "metadata": {},
   "outputs": [],
   "source": [
    "df_17 = df.loc[df['Module'] == '17']\n",
    "df_22 = df.loc[df['Module'] == '22']"
   ]
  },
  {
   "cell_type": "code",
   "execution_count": 229,
   "metadata": {},
   "outputs": [],
   "source": [
    "results = []\n",
    "results_x = []\n",
    "count = 0\n",
    "\n",
    "for index, row in df_17.iterrows():\n",
    "        x = df_22.iloc[count][\"echoedPk:count\"]\n",
    "        res = round((row['packetReceived:count'] + x)/(x + row['packetSent:count']), 4) \n",
    "        results.append(res)\n",
    "        res_x = round((x)/(row['packetSent:count']), 4) \n",
    "        results_x.append(res_x)\n",
    "        count+=1\n"
   ]
  },
  {
   "cell_type": "code",
   "execution_count": 230,
   "metadata": {},
   "outputs": [
    {
     "name": "stdout",
     "output_type": "stream",
     "text": [
      "[0.9867, 0.5681, 0.5542, 0.9505, 0.9855, 0.8983, 0.9711, 0.5842, 0.1782, 0.5548, 0.9855, 0.9533, 0.9531, 0.9889, 0.982, 0.9455, 0.9444, 0.9828, 0.5798, 0.2709, 0.5887, 0.587, 0.9744, 0.9703, 0.9644, 0.2453, 0.9733, 0.9772, 0.5603, 0.9461]\n"
     ]
    }
   ],
   "source": [
    "print (results)   "
   ]
  },
  {
   "cell_type": "code",
   "execution_count": 231,
   "metadata": {},
   "outputs": [
    {
     "name": "stdout",
     "output_type": "stream",
     "text": [
      "[0.9989, 0.9989, 0.9989, 0.9967, 0.9989, 0.8789, 0.9989, 0.9989, 0.1222, 0.9989, 0.9989, 0.9989, 0.99, 0.9989, 0.97, 0.9989, 0.9989, 0.9989, 0.9989, 0.21, 0.9989, 0.9989, 0.9989, 0.9811, 0.9989, 0.1867, 0.9989, 0.9989, 0.9989, 0.9978]\n"
     ]
    }
   ],
   "source": [
    "print (results_x) "
   ]
  },
  {
   "cell_type": "code",
   "execution_count": 232,
   "metadata": {},
   "outputs": [
    {
     "name": "stdout",
     "output_type": "stream",
     "text": [
      "Mean: 78.68\n"
     ]
    }
   ],
   "source": [
    "print(\"Mean:\", round(sum(results) / len(results)*100,2))"
   ]
  },
  {
   "cell_type": "code",
   "execution_count": 233,
   "metadata": {},
   "outputs": [
    {
     "name": "stdout",
     "output_type": "stream",
     "text": [
      "Mean: 91.03\n"
     ]
    }
   ],
   "source": [
    "print(\"Mean:\", round(sum(results_x) / len(results_x)*100,2))"
   ]
  },
  {
   "cell_type": "code",
   "execution_count": 235,
   "metadata": {},
   "outputs": [],
   "source": [
    "df_dd_x = pd.DataFrame({'PauseTime':[0, 50, 100, 300, 600, 900],\n",
    "                       'PDF':[98.9, 97.84, 98.85, 99.13, 95.45, 96.84]})\n",
    "\n",
    "dd_x_errors = [0.489, 1.12, 0.662, 0.654, 0.535 , 4.95]\n",
    "\n",
    "\n",
    "df_spd_1_x = pd.DataFrame({'PauseTime':[0, 50, 100, 300, 600, 900],\n",
    "                       'PDF':[88.47, 88.18, 87.13, 88.47, 88.18, 87.13]})\n",
    "\n",
    "spd_1_x_errors = [2.36, 2.57, 3.14, 2.36, 2.57, 3.14]\n",
    "\n",
    "\n",
    "df_spd_2_x = pd.DataFrame({'PauseTime':[0, 50, 100, 300, 600, 900],\n",
    "                       'PDF':[96.51, 95.2, 97.58, 97.36, 94.82, 91.03]})\n",
    "\n",
    "spd_2_x_errors = [1.15, 1.41 , 0.871, 1.14, 0.557, 8.84]"
   ]
  },
  {
   "cell_type": "code",
   "execution_count": 237,
   "metadata": {},
   "outputs": [
    {
     "data": {
      "image/png": "[encoded data removed]",
      "text/plain": [
       "<Figure size 936x720 with 1 Axes>"
      ]
     },
     "metadata": {
      "needs_background": "light"
     },
     "output_type": "display_data"
    }
   ],
   "source": [
    "plt.xlabel(\"Pause Time (sec)\")\n",
    "plt.ylabel(\"PDF%\")\n",
    "plt.title(\"Random Waypoint Mobility - 80 Nodes\")\n",
    "\n",
    "plt.xticks(np.arange(0,901, 50))\n",
    "plt.yticks(np.arange(70,101, 5))\n",
    "# plt.grid()\n",
    "\n",
    "# plt.plot(df_dd_x.PauseTime, df_dd_x.PDF,  'g-x') \n",
    "\n",
    "# plt.plot(df_spd_1_x.PauseTime, df_spd_1_x.PDF,  'b-x') \n",
    "\n",
    "# plt.plot(df_spd_2_x.PauseTime, df_spd_2_x.PDF,  'r-x') \n",
    "\n",
    "plt.ylim([74, 100])\n",
    "\n",
    "plt.errorbar(\n",
    "  x=df_dd_x.PauseTime, \n",
    "  y=df_dd_x.PDF, \n",
    "  yerr=dd_x_errors, \n",
    "  capsize=5,\n",
    "  marker='o', \n",
    "  color='green', \n",
    "  markersize=8, \n",
    "  linewidth=1, \n",
    "  linestyle='-')\n",
    "\n",
    "plt.errorbar(\n",
    "  x=df_spd_1_x.PauseTime, \n",
    "  y=df_spd_1_x.PDF, \n",
    "  yerr=spd_1_x_errors, \n",
    "  capsize=5,\n",
    "  marker='o', \n",
    "  color='blue', \n",
    "  markersize=8, \n",
    "  linewidth=1, \n",
    "  linestyle='-')\n",
    "\n",
    "plt.errorbar(\n",
    "  x=df_spd_2_x.PauseTime, \n",
    "  y=df_spd_2_x.PDF, \n",
    "  yerr=spd_2_x_errors, \n",
    "  capsize=5,\n",
    "  marker='o', \n",
    "  color='red', \n",
    "  markersize=8, \n",
    "  linewidth=1.2, \n",
    "  linestyle='-')\n",
    "\n",
    "red_patch = mpatches.Patch(color='red', label='TARP-slack-2')\n",
    "green_patch = mpatches.Patch(color='green', label='Simple')\n",
    "blue_patch = mpatches.Patch(color='blue', label='TARP-slack-1')\n",
    "\n",
    "plt.legend(handles=[ green_patch, blue_patch, red_patch])\n",
    "\n",
    "fig = plt.gcf()\n",
    "fig.set_size_inches(13, 10)\n",
    "plt.savefig('simulation-pdf-80-new.png', dpi=300)"
   ]
  },
  {
   "cell_type": "code",
   "execution_count": null,
   "metadata": {},
   "outputs": [],
   "source": []
  },
  {
   "cell_type": "code",
   "execution_count": null,
   "metadata": {},
   "outputs": [],
   "source": []
  },
  {
   "cell_type": "code",
   "execution_count": null,
   "metadata": {},
   "outputs": [],
   "source": []
  },
  {
   "cell_type": "code",
   "execution_count": null,
   "metadata": {},
   "outputs": [],
   "source": []
  },
  {
   "cell_type": "code",
   "execution_count": null,
   "metadata": {},
   "outputs": [],
   "source": []
  },
  {
   "cell_type": "code",
   "execution_count": null,
   "metadata": {},
   "outputs": [],
   "source": []
  }
 ],
 "metadata": {
  "kernelspec": {
   "display_name": "Python 3",
   "language": "python",
   "name": "python3"
  },
  "language_info": {
   "codemirror_mode": {
    "name": "ipython",
    "version": 3
   },
   "file_extension": ".py",
   "mimetype": "text/x-python",
   "name": "python",
   "nbconvert_exporter": "python",
   "pygments_lexer": "ipython3",
   "version": "3.8.3"
  }
 },
 "nbformat": 4,
 "nbformat_minor": 4
}
