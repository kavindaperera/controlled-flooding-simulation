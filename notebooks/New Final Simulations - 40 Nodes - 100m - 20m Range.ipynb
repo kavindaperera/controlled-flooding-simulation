{
 "cells": [
  {
   "cell_type": "code",
   "execution_count": 2,
   "metadata": {},
   "outputs": [],
   "source": [
    "import pandas as pd\n",
    "import numpy as np\n",
    "import matplotlib.pyplot as plt\n",
    "import seaborn as sns\n",
    "import re\n",
    "import matplotlib.patches as mpatches"
   ]
  },
  {
   "cell_type": "markdown",
   "metadata": {},
   "source": [
    "## PDF - 40 Nodes - PG 100x100 - 20m trans range\n"
   ]
  },
  {
   "cell_type": "code",
   "execution_count": 91,
   "metadata": {},
   "outputs": [],
   "source": [
    "df = pd.read_csv('C:\\\\omnetpp-5.6.2\\\\samples\\\\tarp-sim\\\\results\\\\new\\\\data_12\\\\data_dd_n_40_p_120_pdf.csv')"
   ]
  },
  {
   "cell_type": "code",
   "execution_count": 92,
   "metadata": {},
   "outputs": [
    {
     "data": {
      "text/html": [
       "<div>\n",
       "<style scoped>\n",
       "    .dataframe tbody tr th:only-of-type {\n",
       "        vertical-align: middle;\n",
       "    }\n",
       "\n",
       "    .dataframe tbody tr th {\n",
       "        vertical-align: top;\n",
       "    }\n",
       "\n",
       "    .dataframe thead th {\n",
       "        text-align: right;\n",
       "    }\n",
       "</style>\n",
       "<table border=\"1\" class=\"dataframe\">\n",
       "  <thead>\n",
       "    <tr style=\"text-align: right;\">\n",
       "      <th></th>\n",
       "      <th>run</th>\n",
       "      <th>PauseTime</th>\n",
       "      <th>repetition</th>\n",
       "      <th>Module</th>\n",
       "      <th>echoedPk:count</th>\n",
       "      <th>echoedPk:sum(packetBytes)</th>\n",
       "      <th>packetReceived:count</th>\n",
       "      <th>packetReceived:sum(packetBytes)</th>\n",
       "      <th>packets received</th>\n",
       "      <th>packets sent</th>\n",
       "      <th>packetSent:count</th>\n",
       "      <th>packetSent:sum(packetBytes)</th>\n",
       "    </tr>\n",
       "  </thead>\n",
       "  <tbody>\n",
       "    <tr>\n",
       "      <th>0</th>\n",
       "      <td>RandomWaypointMobility-DD-132-20220218-11:39:5...</td>\n",
       "      <td>120</td>\n",
       "      <td>12</td>\n",
       "      <td>TARPNetwork.node[17].app[0]</td>\n",
       "      <td>NaN</td>\n",
       "      <td>NaN</td>\n",
       "      <td>533.0</td>\n",
       "      <td>533000.0</td>\n",
       "      <td>533.0</td>\n",
       "      <td>900.0</td>\n",
       "      <td>900.0</td>\n",
       "      <td>900000.0</td>\n",
       "    </tr>\n",
       "    <tr>\n",
       "      <th>1</th>\n",
       "      <td>RandomWaypointMobility-DD-147-20220218-11:45:2...</td>\n",
       "      <td>120</td>\n",
       "      <td>27</td>\n",
       "      <td>TARPNetwork.node[17].app[0]</td>\n",
       "      <td>NaN</td>\n",
       "      <td>NaN</td>\n",
       "      <td>449.0</td>\n",
       "      <td>449000.0</td>\n",
       "      <td>449.0</td>\n",
       "      <td>900.0</td>\n",
       "      <td>900.0</td>\n",
       "      <td>900000.0</td>\n",
       "    </tr>\n",
       "    <tr>\n",
       "      <th>2</th>\n",
       "      <td>RandomWaypointMobility-DD-129-20220218-11:38:4...</td>\n",
       "      <td>120</td>\n",
       "      <td>9</td>\n",
       "      <td>TARPNetwork.node[22].app[0]</td>\n",
       "      <td>643.0</td>\n",
       "      <td>643000.0</td>\n",
       "      <td>NaN</td>\n",
       "      <td>NaN</td>\n",
       "      <td>NaN</td>\n",
       "      <td>NaN</td>\n",
       "      <td>NaN</td>\n",
       "      <td>NaN</td>\n",
       "    </tr>\n",
       "    <tr>\n",
       "      <th>3</th>\n",
       "      <td>RandomWaypointMobility-DD-129-20220218-11:38:4...</td>\n",
       "      <td>120</td>\n",
       "      <td>9</td>\n",
       "      <td>TARPNetwork.node[17].app[0]</td>\n",
       "      <td>NaN</td>\n",
       "      <td>NaN</td>\n",
       "      <td>546.0</td>\n",
       "      <td>546000.0</td>\n",
       "      <td>546.0</td>\n",
       "      <td>900.0</td>\n",
       "      <td>900.0</td>\n",
       "      <td>900000.0</td>\n",
       "    </tr>\n",
       "    <tr>\n",
       "      <th>4</th>\n",
       "      <td>RandomWaypointMobility-DD-148-20220218-11:45:5...</td>\n",
       "      <td>120</td>\n",
       "      <td>28</td>\n",
       "      <td>TARPNetwork.node[17].app[0]</td>\n",
       "      <td>NaN</td>\n",
       "      <td>NaN</td>\n",
       "      <td>528.0</td>\n",
       "      <td>528000.0</td>\n",
       "      <td>528.0</td>\n",
       "      <td>900.0</td>\n",
       "      <td>900.0</td>\n",
       "      <td>900000.0</td>\n",
       "    </tr>\n",
       "  </tbody>\n",
       "</table>\n",
       "</div>"
      ],
      "text/plain": [
       "                                                 run  PauseTime  repetition  \\\n",
       "0  RandomWaypointMobility-DD-132-20220218-11:39:5...        120          12   \n",
       "1  RandomWaypointMobility-DD-147-20220218-11:45:2...        120          27   \n",
       "2  RandomWaypointMobility-DD-129-20220218-11:38:4...        120           9   \n",
       "3  RandomWaypointMobility-DD-129-20220218-11:38:4...        120           9   \n",
       "4  RandomWaypointMobility-DD-148-20220218-11:45:5...        120          28   \n",
       "\n",
       "                        Module  echoedPk:count  echoedPk:sum(packetBytes)  \\\n",
       "0  TARPNetwork.node[17].app[0]             NaN                        NaN   \n",
       "1  TARPNetwork.node[17].app[0]             NaN                        NaN   \n",
       "2  TARPNetwork.node[22].app[0]           643.0                   643000.0   \n",
       "3  TARPNetwork.node[17].app[0]             NaN                        NaN   \n",
       "4  TARPNetwork.node[17].app[0]             NaN                        NaN   \n",
       "\n",
       "   packetReceived:count  packetReceived:sum(packetBytes)  packets received  \\\n",
       "0                 533.0                         533000.0             533.0   \n",
       "1                 449.0                         449000.0             449.0   \n",
       "2                   NaN                              NaN               NaN   \n",
       "3                 546.0                         546000.0             546.0   \n",
       "4                 528.0                         528000.0             528.0   \n",
       "\n",
       "   packets sent  packetSent:count  packetSent:sum(packetBytes)  \n",
       "0         900.0             900.0                     900000.0  \n",
       "1         900.0             900.0                     900000.0  \n",
       "2           NaN               NaN                          NaN  \n",
       "3         900.0             900.0                     900000.0  \n",
       "4         900.0             900.0                     900000.0  "
      ]
     },
     "execution_count": 92,
     "metadata": {},
     "output_type": "execute_result"
    }
   ],
   "source": [
    "df.head()"
   ]
  },
  {
   "cell_type": "code",
   "execution_count": 93,
   "metadata": {},
   "outputs": [],
   "source": [
    "df.Module = df.Module.str.split('[',expand=True)[1].str.split(']',expand=True)[0]"
   ]
  },
  {
   "cell_type": "code",
   "execution_count": 94,
   "metadata": {},
   "outputs": [],
   "source": [
    "df = df.sort_values(by=['repetition'])"
   ]
  },
  {
   "cell_type": "code",
   "execution_count": 95,
   "metadata": {},
   "outputs": [],
   "source": [
    "df_17 = df.loc[df['Module'] == '17']\n",
    "df_22 = df.loc[df['Module'] == '22']"
   ]
  },
  {
   "cell_type": "code",
   "execution_count": 96,
   "metadata": {},
   "outputs": [],
   "source": [
    "results = []\n",
    "results_x = []\n",
    "count = 0\n",
    "\n",
    "for index, row in df_17.iterrows():\n",
    "        x = df_22.iloc[count][\"echoedPk:count\"]\n",
    "        res = round((row['packetReceived:count'] + x)/(x + row['packetSent:count']), 4) \n",
    "        results.append(res)\n",
    "        res_x = round((x)/(row['packetSent:count']), 4) \n",
    "        results_x.append(res_x)\n",
    "        count+=1\n"
   ]
  },
  {
   "cell_type": "code",
   "execution_count": 97,
   "metadata": {},
   "outputs": [
    {
     "name": "stdout",
     "output_type": "stream",
     "text": [
      "[0.7636, 0.8474, 0.8038, 0.7179, 0.7674, 0.7772, 0.8726, 0.6994, 0.4631, 0.7706, 0.7234, 0.8191, 0.7679, 0.8639, 0.7592, 0.7995, 0.8162, 0.9141, 0.7732, 0.6784, 0.7631, 0.769, 0.7503, 0.6648, 0.6643, 0.7111, 0.7606, 0.6969, 0.7433, 0.6672]\n"
     ]
    }
   ],
   "source": [
    "print (results)   "
   ]
  },
  {
   "cell_type": "code",
   "execution_count": 98,
   "metadata": {},
   "outputs": [
    {
     "name": "stdout",
     "output_type": "stream",
     "text": [
      "[0.6733, 0.8344, 0.8911, 0.7133, 0.6767, 0.7256, 0.8222, 0.6156, 0.4011, 0.7144, 0.6311, 0.7933, 0.7567, 0.8456, 0.6933, 0.8456, 0.7533, 0.9533, 0.7444, 0.6478, 0.7122, 0.7411, 0.7711, 0.5711, 0.5489, 0.7156, 0.7589, 0.6533, 0.61, 0.5289]\n"
     ]
    }
   ],
   "source": [
    "print (results_x) "
   ]
  },
  {
   "cell_type": "code",
   "execution_count": 99,
   "metadata": {},
   "outputs": [
    {
     "name": "stdout",
     "output_type": "stream",
     "text": [
      "Mean: 75.3\n"
     ]
    }
   ],
   "source": [
    "print(\"Mean:\", round(sum(results) / len(results)*100,2))"
   ]
  },
  {
   "cell_type": "code",
   "execution_count": 100,
   "metadata": {},
   "outputs": [
    {
     "name": "stdout",
     "output_type": "stream",
     "text": [
      "Mean: 71.14\n"
     ]
    }
   ],
   "source": [
    "print(\"Mean:\", round(sum(results_x) / len(results_x)*100,2))"
   ]
  },
  {
   "cell_type": "code",
   "execution_count": 101,
   "metadata": {},
   "outputs": [],
   "source": [
    "df_dd_x = pd.DataFrame({'PauseTime':[0, 30, 60, 90, 120, 300, 600, 900],\n",
    "                       'PDF':[89.53, 80.6, 76.25, 75.73, 71.14, 71.34, 68.23, 80.36]})\n",
    "\n",
    "dd_x_errors = [1.49, 1.67, 3.03, 3.97, 0, 0, 0, 1.35]\n",
    "\n",
    "\n",
    "df_spd_1_x = pd.DataFrame({'PauseTime':[0, 30, 60, 90, 120, 300, 600, 900],\n",
    "                       'PDF':[64.03, 56.37, 51.55, 53.91, 50.97, 62.06, 56.86, 76.08]})\n",
    "\n",
    "spd_1_x_errors = [2.91, 3.03, 2.84, 4.1, 3.65, 6.16, 10.5, 12.6]\n",
    "\n",
    "\n",
    "df_spd_2_x = pd.DataFrame({'PauseTime':[0, 30, 60, 90, 120, 300, 600, 900],\n",
    "                       'PDF':[72.84, 66.88, 62.46, 61.42, 60.45, 67.94, 60.2, 78.08]})\n",
    "\n",
    "spd_2_x_errors = [3.23, 2.31, 3.14, 3.75, 4.04, 6.3, 10.4, 12.7]"
   ]
  },
  {
   "cell_type": "code",
   "execution_count": 102,
   "metadata": {},
   "outputs": [
    {
     "data": {
      "image/png": "[encoded data removed]",
      "text/plain": [
       "<Figure size 1152x720 with 1 Axes>"
      ]
     },
     "metadata": {
      "needs_background": "light"
     },
     "output_type": "display_data"
    }
   ],
   "source": [
    "plt.xlabel(\"Pause Time (sec)\")\n",
    "plt.ylabel(\"PDF%\")\n",
    "plt.title(\"40 Nodes\")\n",
    "\n",
    "plt.xticks(np.arange(0,901, 30))\n",
    "plt.yticks(np.arange(0,101, 5))\n",
    "# plt.grid()\n",
    "\n",
    "# plt.plot(df_dd_x.PauseTime, df_dd_x.PDF,  'g-x') \n",
    "\n",
    "# plt.plot(df_spd_1_x.PauseTime, df_spd_1_x.PDF,  'b-x') \n",
    "\n",
    "# plt.plot(df_spd_2_x.PauseTime, df_spd_2_x.PDF,  'r-x') \n",
    "\n",
    "plt.ylim([45, 100])\n",
    "\n",
    "plt.errorbar(\n",
    "  x=df_dd_x.PauseTime, \n",
    "  y=df_dd_x.PDF, \n",
    "  yerr=dd_x_errors, \n",
    "  capsize=5,\n",
    "  marker='o', \n",
    "  color='#00A36C', \n",
    "  markersize=8, \n",
    "  linewidth=1, \n",
    "  linestyle='-')\n",
    "\n",
    "# plt.errorbar(\n",
    "#   x=df_spd_1_x.PauseTime, \n",
    "#   y=df_spd_1_x.PDF, \n",
    "#   yerr=spd_1_x_errors, \n",
    "#   capsize=5,\n",
    "#   marker='o', \n",
    "#   color='#4682B4', \n",
    "#   markersize=8, \n",
    "#   linewidth=1, \n",
    "#   linestyle='-')\n",
    "\n",
    "# plt.errorbar(\n",
    "#   x=df_spd_2_x.PauseTime, \n",
    "#   y=df_spd_2_x.PDF, \n",
    "#   yerr=spd_2_x_errors, \n",
    "#   capsize=5,\n",
    "#   marker='o', \n",
    "#   color='#EE4B2B', \n",
    "#   markersize=8, \n",
    "#   linewidth=1.2, \n",
    "#   linestyle='-')\n",
    "\n",
    "red_patch = mpatches.Patch(color='red', label='TARP (slack=2)')\n",
    "green_patch = mpatches.Patch(color='green', label='Simple Flooding')\n",
    "blue_patch = mpatches.Patch(color='blue', label='TARP (slack=1)')\n",
    "\n",
    "plt.legend(handles=[ green_patch, blue_patch, red_patch])\n",
    "\n",
    "fig = plt.gcf()\n",
    "fig.set_size_inches(16, 10)\n",
    "plt.savefig('final-simulation-pdf-40-100x100-20m.png', dpi=300)"
   ]
  },
  {
   "cell_type": "code",
   "execution_count": null,
   "metadata": {},
   "outputs": [],
   "source": []
  },
  {
   "cell_type": "code",
   "execution_count": null,
   "metadata": {},
   "outputs": [],
   "source": []
  },
  {
   "cell_type": "code",
   "execution_count": null,
   "metadata": {},
   "outputs": [],
   "source": []
  },
  {
   "cell_type": "code",
   "execution_count": null,
   "metadata": {},
   "outputs": [],
   "source": []
  },
  {
   "cell_type": "code",
   "execution_count": null,
   "metadata": {},
   "outputs": [],
   "source": []
  },
  {
   "cell_type": "code",
   "execution_count": null,
   "metadata": {},
   "outputs": [],
   "source": []
  }
 ],
 "metadata": {
  "kernelspec": {
   "display_name": "Python 3",
   "language": "python",
   "name": "python3"
  },
  "language_info": {
   "codemirror_mode": {
    "name": "ipython",
    "version": 3
   },
   "file_extension": ".py",
   "mimetype": "text/x-python",
   "name": "python",
   "nbconvert_exporter": "python",
   "pygments_lexer": "ipython3",
   "version": "3.8.3"
  }
 },
 "nbformat": 4,
 "nbformat_minor": 4
}
