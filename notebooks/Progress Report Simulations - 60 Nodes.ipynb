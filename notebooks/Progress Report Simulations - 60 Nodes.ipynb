{
 "cells": [
  {
   "cell_type": "code",
   "execution_count": 4,
   "metadata": {},
   "outputs": [],
   "source": [
    "import pandas as pd\n",
    "import numpy as np\n",
    "import matplotlib.pyplot as plt\n",
    "import seaborn as sns\n",
    "import re\n",
    "import matplotlib.patches as mpatches"
   ]
  },
  {
   "cell_type": "code",
   "execution_count": 112,
   "metadata": {},
   "outputs": [],
   "source": [
    "df_dd_n_60_p_0 = pd.read_csv('C:\\\\omnetpp-5.6.2\\\\samples\\\\tarp-sim\\\\results\\\\data_4\\\\data_dd_n_60_p_0.csv')\n",
    "df_dd_n_60_p_50 = pd.read_csv('C:\\\\omnetpp-5.6.2\\\\samples\\\\tarp-sim\\\\results\\\\data_4\\\\data_dd_n_60_p_50.csv')\n",
    "df_dd_n_60_p_100 = pd.read_csv('C:\\\\omnetpp-5.6.2\\\\samples\\\\tarp-sim\\\\results\\\\data_4\\\\data_dd_n_60_p_100.csv')"
   ]
  },
  {
   "cell_type": "code",
   "execution_count": 113,
   "metadata": {},
   "outputs": [],
   "source": [
    "df_dd_n_60_p_0.Module = df_dd_n_60_p_0.Module.str.split('[',expand=True)[1].str.split(']',expand=True)[0]\n",
    "df_dd_n_60_p_50.Module = df_dd_n_60_p_50.Module.str.split('[',expand=True)[1].str.split(']',expand=True)[0]\n",
    "df_dd_n_60_p_100.Module = df_dd_n_60_p_100.Module.str.split('[',expand=True)[1].str.split(']',expand=True)[0]"
   ]
  },
  {
   "cell_type": "code",
   "execution_count": 114,
   "metadata": {},
   "outputs": [],
   "source": [
    "df_dd_n_60_p_0['protocol'] = 'Simple'"
   ]
  },
  {
   "cell_type": "code",
   "execution_count": 115,
   "metadata": {},
   "outputs": [],
   "source": [
    "df_dd_n_60_p_50['protocol'] = 'Simple'"
   ]
  },
  {
   "cell_type": "code",
   "execution_count": 116,
   "metadata": {},
   "outputs": [],
   "source": [
    "df_dd_n_60_p_100['protocol'] = 'Simple'"
   ]
  },
  {
   "cell_type": "code",
   "execution_count": 117,
   "metadata": {},
   "outputs": [],
   "source": [
    "df_spd_1_n_60_p_0 = pd.read_csv('C:\\\\omnetpp-5.6.2\\\\samples\\\\tarp-sim\\\\results\\\\data_4\\\\data_spd_1_n_60_p_0.csv')\n",
    "df_spd_1_n_60_p_50 = pd.read_csv('C:\\\\omnetpp-5.6.2\\\\samples\\\\tarp-sim\\\\results\\\\data_4\\\\data_spd_1_n_60_p_50.csv')\n",
    "df_spd_1_n_60_p_100 = pd.read_csv('C:\\\\omnetpp-5.6.2\\\\samples\\\\tarp-sim\\\\results\\\\data_4\\\\data_spd_1_n_60_p_100.csv')"
   ]
  },
  {
   "cell_type": "code",
   "execution_count": 118,
   "metadata": {},
   "outputs": [],
   "source": [
    "df_spd_1_n_60_p_0.Module = df_spd_1_n_60_p_0.Module.str.split('[',expand=True)[1].str.split(']',expand=True)[0]\n",
    "df_spd_1_n_60_p_50.Module = df_spd_1_n_60_p_50.Module.str.split('[',expand=True)[1].str.split(']',expand=True)[0]\n",
    "df_spd_1_n_60_p_100.Module = df_spd_1_n_60_p_100.Module.str.split('[',expand=True)[1].str.split(']',expand=True)[0]"
   ]
  },
  {
   "cell_type": "code",
   "execution_count": 119,
   "metadata": {},
   "outputs": [],
   "source": [
    "df_spd_1_n_60_p_0['protocol'] = 'TARP-slack-1'"
   ]
  },
  {
   "cell_type": "code",
   "execution_count": 120,
   "metadata": {},
   "outputs": [],
   "source": [
    "df_spd_1_n_60_p_50['protocol'] = 'TARP-slack-1'"
   ]
  },
  {
   "cell_type": "code",
   "execution_count": 121,
   "metadata": {},
   "outputs": [],
   "source": [
    "df_spd_1_n_60_p_100['protocol'] = 'TARP-slack-1'"
   ]
  },
  {
   "cell_type": "code",
   "execution_count": 122,
   "metadata": {},
   "outputs": [],
   "source": [
    "df_spd_2_n_60_p_0 = pd.read_csv('C:\\\\omnetpp-5.6.2\\\\samples\\\\tarp-sim\\\\results\\\\data_4\\\\data_spd_2_n_60_p_0.csv')\n",
    "df_spd_2_n_60_p_50 = pd.read_csv('C:\\\\omnetpp-5.6.2\\\\samples\\\\tarp-sim\\\\results\\\\data_4\\\\data_spd_2_n_60_p_50.csv')\n",
    "df_spd_2_n_60_p_100 = pd.read_csv('C:\\\\omnetpp-5.6.2\\\\samples\\\\tarp-sim\\\\results\\\\data_4\\\\data_spd_2_n_60_p_100.csv')"
   ]
  },
  {
   "cell_type": "code",
   "execution_count": 123,
   "metadata": {},
   "outputs": [],
   "source": [
    "df_spd_2_n_60_p_0.Module = df_spd_2_n_60_p_0.Module.str.split('[',expand=True)[1].str.split(']',expand=True)[0]\n",
    "df_spd_2_n_60_p_50.Module = df_spd_2_n_60_p_50.Module.str.split('[',expand=True)[1].str.split(']',expand=True)[0]\n",
    "df_spd_2_n_60_p_100.Module = df_spd_2_n_60_p_100.Module.str.split('[',expand=True)[1].str.split(']',expand=True)[0]"
   ]
  },
  {
   "cell_type": "code",
   "execution_count": 124,
   "metadata": {},
   "outputs": [],
   "source": [
    "df_spd_2_n_60_p_0['protocol'] = 'TARP-slack-2'"
   ]
  },
  {
   "cell_type": "code",
   "execution_count": 125,
   "metadata": {},
   "outputs": [],
   "source": [
    "df_spd_2_n_60_p_50['protocol'] = 'TARP-slack-2'"
   ]
  },
  {
   "cell_type": "code",
   "execution_count": 126,
   "metadata": {},
   "outputs": [],
   "source": [
    "df_spd_2_n_60_p_100['protocol'] = 'TARP-slack-2'"
   ]
  },
  {
   "cell_type": "code",
   "execution_count": 127,
   "metadata": {},
   "outputs": [],
   "source": [
    "frames = [df_dd_n_60_p_0, df_dd_n_60_p_50, df_dd_n_60_p_100,\n",
    "         df_spd_1_n_60_p_0, df_spd_1_n_60_p_50, df_spd_1_n_60_p_100,\n",
    "         df_spd_2_n_60_p_0, df_spd_2_n_60_p_50, df_spd_2_n_60_p_100]"
   ]
  },
  {
   "cell_type": "code",
   "execution_count": 128,
   "metadata": {},
   "outputs": [],
   "source": [
    "result = pd.concat(frames)"
   ]
  },
  {
   "cell_type": "code",
   "execution_count": 129,
   "metadata": {},
   "outputs": [
    {
     "data": {
      "text/html": [
       "<div>\n",
       "<style scoped>\n",
       "    .dataframe tbody tr th:only-of-type {\n",
       "        vertical-align: middle;\n",
       "    }\n",
       "\n",
       "    .dataframe tbody tr th {\n",
       "        vertical-align: top;\n",
       "    }\n",
       "\n",
       "    .dataframe thead th {\n",
       "        text-align: right;\n",
       "    }\n",
       "</style>\n",
       "<table border=\"1\" class=\"dataframe\">\n",
       "  <thead>\n",
       "    <tr style=\"text-align: right;\">\n",
       "      <th></th>\n",
       "      <th>run</th>\n",
       "      <th>PauseTime</th>\n",
       "      <th>repetition</th>\n",
       "      <th>Module</th>\n",
       "      <th>nbDataPacketsForwarded</th>\n",
       "      <th>protocol</th>\n",
       "    </tr>\n",
       "  </thead>\n",
       "  <tbody>\n",
       "    <tr>\n",
       "      <th>0</th>\n",
       "      <td>RandomWaypointMobility-DD-0-20211129-22:43:04-...</td>\n",
       "      <td>0</td>\n",
       "      <td>0</td>\n",
       "      <td>15</td>\n",
       "      <td>1565</td>\n",
       "      <td>Simple</td>\n",
       "    </tr>\n",
       "    <tr>\n",
       "      <th>1</th>\n",
       "      <td>RandomWaypointMobility-DD-0-20211129-22:43:04-...</td>\n",
       "      <td>0</td>\n",
       "      <td>0</td>\n",
       "      <td>25</td>\n",
       "      <td>1513</td>\n",
       "      <td>Simple</td>\n",
       "    </tr>\n",
       "    <tr>\n",
       "      <th>2</th>\n",
       "      <td>RandomWaypointMobility-DD-0-20211129-22:43:04-...</td>\n",
       "      <td>0</td>\n",
       "      <td>0</td>\n",
       "      <td>24</td>\n",
       "      <td>1562</td>\n",
       "      <td>Simple</td>\n",
       "    </tr>\n",
       "    <tr>\n",
       "      <th>3</th>\n",
       "      <td>RandomWaypointMobility-DD-0-20211129-22:43:04-...</td>\n",
       "      <td>0</td>\n",
       "      <td>0</td>\n",
       "      <td>23</td>\n",
       "      <td>1583</td>\n",
       "      <td>Simple</td>\n",
       "    </tr>\n",
       "    <tr>\n",
       "      <th>4</th>\n",
       "      <td>RandomWaypointMobility-DD-0-20211129-22:43:04-...</td>\n",
       "      <td>0</td>\n",
       "      <td>0</td>\n",
       "      <td>22</td>\n",
       "      <td>0</td>\n",
       "      <td>Simple</td>\n",
       "    </tr>\n",
       "    <tr>\n",
       "      <th>...</th>\n",
       "      <td>...</td>\n",
       "      <td>...</td>\n",
       "      <td>...</td>\n",
       "      <td>...</td>\n",
       "      <td>...</td>\n",
       "      <td>...</td>\n",
       "    </tr>\n",
       "    <tr>\n",
       "      <th>1795</th>\n",
       "      <td>RandomWaypointMobility-SPD-B-85-20211130-20:36...</td>\n",
       "      <td>100</td>\n",
       "      <td>25</td>\n",
       "      <td>24</td>\n",
       "      <td>681</td>\n",
       "      <td>TARP-slack-2</td>\n",
       "    </tr>\n",
       "    <tr>\n",
       "      <th>1796</th>\n",
       "      <td>RandomWaypointMobility-SPD-B-85-20211130-20:36...</td>\n",
       "      <td>100</td>\n",
       "      <td>25</td>\n",
       "      <td>25</td>\n",
       "      <td>620</td>\n",
       "      <td>TARP-slack-2</td>\n",
       "    </tr>\n",
       "    <tr>\n",
       "      <th>1797</th>\n",
       "      <td>RandomWaypointMobility-SPD-B-85-20211130-20:36...</td>\n",
       "      <td>100</td>\n",
       "      <td>25</td>\n",
       "      <td>26</td>\n",
       "      <td>394</td>\n",
       "      <td>TARP-slack-2</td>\n",
       "    </tr>\n",
       "    <tr>\n",
       "      <th>1798</th>\n",
       "      <td>RandomWaypointMobility-SPD-B-85-20211130-20:36...</td>\n",
       "      <td>100</td>\n",
       "      <td>25</td>\n",
       "      <td>27</td>\n",
       "      <td>378</td>\n",
       "      <td>TARP-slack-2</td>\n",
       "    </tr>\n",
       "    <tr>\n",
       "      <th>1799</th>\n",
       "      <td>RandomWaypointMobility-SPD-B-85-20211130-20:36...</td>\n",
       "      <td>100</td>\n",
       "      <td>25</td>\n",
       "      <td>28</td>\n",
       "      <td>874</td>\n",
       "      <td>TARP-slack-2</td>\n",
       "    </tr>\n",
       "  </tbody>\n",
       "</table>\n",
       "<p>16200 rows × 6 columns</p>\n",
       "</div>"
      ],
      "text/plain": [
       "                                                    run  PauseTime  \\\n",
       "0     RandomWaypointMobility-DD-0-20211129-22:43:04-...          0   \n",
       "1     RandomWaypointMobility-DD-0-20211129-22:43:04-...          0   \n",
       "2     RandomWaypointMobility-DD-0-20211129-22:43:04-...          0   \n",
       "3     RandomWaypointMobility-DD-0-20211129-22:43:04-...          0   \n",
       "4     RandomWaypointMobility-DD-0-20211129-22:43:04-...          0   \n",
       "...                                                 ...        ...   \n",
       "1795  RandomWaypointMobility-SPD-B-85-20211130-20:36...        100   \n",
       "1796  RandomWaypointMobility-SPD-B-85-20211130-20:36...        100   \n",
       "1797  RandomWaypointMobility-SPD-B-85-20211130-20:36...        100   \n",
       "1798  RandomWaypointMobility-SPD-B-85-20211130-20:36...        100   \n",
       "1799  RandomWaypointMobility-SPD-B-85-20211130-20:36...        100   \n",
       "\n",
       "      repetition Module  nbDataPacketsForwarded      protocol  \n",
       "0              0     15                    1565        Simple  \n",
       "1              0     25                    1513        Simple  \n",
       "2              0     24                    1562        Simple  \n",
       "3              0     23                    1583        Simple  \n",
       "4              0     22                       0        Simple  \n",
       "...          ...    ...                     ...           ...  \n",
       "1795          25     24                     681  TARP-slack-2  \n",
       "1796          25     25                     620  TARP-slack-2  \n",
       "1797          25     26                     394  TARP-slack-2  \n",
       "1798          25     27                     378  TARP-slack-2  \n",
       "1799          25     28                     874  TARP-slack-2  \n",
       "\n",
       "[16200 rows x 6 columns]"
      ]
     },
     "execution_count": 129,
     "metadata": {},
     "output_type": "execute_result"
    }
   ],
   "source": [
    "result"
   ]
  },
  {
   "cell_type": "code",
   "execution_count": 130,
   "metadata": {},
   "outputs": [
    {
     "data": {
      "text/html": [
       "<div>\n",
       "<style scoped>\n",
       "    .dataframe tbody tr th:only-of-type {\n",
       "        vertical-align: middle;\n",
       "    }\n",
       "\n",
       "    .dataframe tbody tr th {\n",
       "        vertical-align: top;\n",
       "    }\n",
       "\n",
       "    .dataframe thead th {\n",
       "        text-align: right;\n",
       "    }\n",
       "</style>\n",
       "<table border=\"1\" class=\"dataframe\">\n",
       "  <thead>\n",
       "    <tr style=\"text-align: right;\">\n",
       "      <th></th>\n",
       "      <th>PauseTime</th>\n",
       "      <th>repetition</th>\n",
       "      <th>nbDataPacketsForwarded</th>\n",
       "    </tr>\n",
       "    <tr>\n",
       "      <th>protocol</th>\n",
       "      <th></th>\n",
       "      <th></th>\n",
       "      <th></th>\n",
       "    </tr>\n",
       "  </thead>\n",
       "  <tbody>\n",
       "    <tr>\n",
       "      <th>Simple</th>\n",
       "      <td>50.0</td>\n",
       "      <td>14.5</td>\n",
       "      <td>1454.972037</td>\n",
       "    </tr>\n",
       "    <tr>\n",
       "      <th>TARP-slack-1</th>\n",
       "      <td>50.0</td>\n",
       "      <td>14.5</td>\n",
       "      <td>481.967407</td>\n",
       "    </tr>\n",
       "    <tr>\n",
       "      <th>TARP-slack-2</th>\n",
       "      <td>50.0</td>\n",
       "      <td>14.5</td>\n",
       "      <td>693.637407</td>\n",
       "    </tr>\n",
       "  </tbody>\n",
       "</table>\n",
       "</div>"
      ],
      "text/plain": [
       "              PauseTime  repetition  nbDataPacketsForwarded\n",
       "protocol                                                   \n",
       "Simple             50.0        14.5             1454.972037\n",
       "TARP-slack-1       50.0        14.5              481.967407\n",
       "TARP-slack-2       50.0        14.5              693.637407"
      ]
     },
     "execution_count": 130,
     "metadata": {},
     "output_type": "execute_result"
    }
   ],
   "source": [
    "result.groupby(['protocol']).mean()"
   ]
  },
  {
   "cell_type": "code",
   "execution_count": 132,
   "metadata": {},
   "outputs": [
    {
     "data": {
      "image/png": "[encoded data removed]",
      "text/plain": [
       "<Figure size 432x288 with 1 Axes>"
      ]
     },
     "metadata": {
      "needs_background": "light"
     },
     "output_type": "display_data"
    }
   ],
   "source": [
    "sns.barplot(x = \"protocol\", y = \"nbDataPacketsForwarded\", data = result, estimator=np.mean, capsize=.1)\n",
    "plt.xlabel(\"Protocol\")\n",
    "plt.ylabel(\"Avg No of Pkts Forwarded\")\n",
    "plt.title(\"Random Waypoint Mobility - 60 Nodes\")\n",
    "plt.savefig('simulation-1.png', dpi=300)\n",
    "plt.show()"
   ]
  },
  {
   "cell_type": "markdown",
   "metadata": {},
   "source": [
    "## SPD - slack parameter study - 60 Nodes"
   ]
  },
  {
   "cell_type": "code",
   "execution_count": 662,
   "metadata": {},
   "outputs": [],
   "source": [
    "df = pd.read_csv('C:\\\\omnetpp-5.6.2\\\\samples\\\\tarp-sim\\\\results\\\\data_3\\\\data_dd_n_60_w_900.csv')"
   ]
  },
  {
   "cell_type": "code",
   "execution_count": 663,
   "metadata": {},
   "outputs": [
    {
     "data": {
      "text/html": [
       "<div>\n",
       "<style scoped>\n",
       "    .dataframe tbody tr th:only-of-type {\n",
       "        vertical-align: middle;\n",
       "    }\n",
       "\n",
       "    .dataframe tbody tr th {\n",
       "        vertical-align: top;\n",
       "    }\n",
       "\n",
       "    .dataframe thead th {\n",
       "        text-align: right;\n",
       "    }\n",
       "</style>\n",
       "<table border=\"1\" class=\"dataframe\">\n",
       "  <thead>\n",
       "    <tr style=\"text-align: right;\">\n",
       "      <th></th>\n",
       "      <th>run</th>\n",
       "      <th>PauseTime</th>\n",
       "      <th>repetition</th>\n",
       "      <th>Module</th>\n",
       "      <th>echoedPk:count</th>\n",
       "      <th>echoedPk:sum(packetBytes)</th>\n",
       "      <th>packetReceived:count</th>\n",
       "      <th>packetReceived:sum(packetBytes)</th>\n",
       "      <th>packets received</th>\n",
       "      <th>packets sent</th>\n",
       "      <th>packetSent:count</th>\n",
       "      <th>packetSent:sum(packetBytes)</th>\n",
       "    </tr>\n",
       "  </thead>\n",
       "  <tbody>\n",
       "    <tr>\n",
       "      <th>0</th>\n",
       "      <td>RandomWaypointMobility-DD-14-20211009-18:30:15...</td>\n",
       "      <td>300</td>\n",
       "      <td>14</td>\n",
       "      <td>TARPNetwork.node[17].app[0]</td>\n",
       "      <td>NaN</td>\n",
       "      <td>NaN</td>\n",
       "      <td>839.0</td>\n",
       "      <td>839000.0</td>\n",
       "      <td>839.0</td>\n",
       "      <td>900.0</td>\n",
       "      <td>900.0</td>\n",
       "      <td>900000.0</td>\n",
       "    </tr>\n",
       "    <tr>\n",
       "      <th>1</th>\n",
       "      <td>RandomWaypointMobility-DD-0-20211009-18:10:03-...</td>\n",
       "      <td>300</td>\n",
       "      <td>0</td>\n",
       "      <td>TARPNetwork.node[17].app[0]</td>\n",
       "      <td>NaN</td>\n",
       "      <td>NaN</td>\n",
       "      <td>804.0</td>\n",
       "      <td>804000.0</td>\n",
       "      <td>804.0</td>\n",
       "      <td>900.0</td>\n",
       "      <td>900.0</td>\n",
       "      <td>900000.0</td>\n",
       "    </tr>\n",
       "    <tr>\n",
       "      <th>2</th>\n",
       "      <td>RandomWaypointMobility-DD-23-20211009-18:21:12...</td>\n",
       "      <td>300</td>\n",
       "      <td>23</td>\n",
       "      <td>TARPNetwork.node[17].app[0]</td>\n",
       "      <td>NaN</td>\n",
       "      <td>NaN</td>\n",
       "      <td>676.0</td>\n",
       "      <td>676000.0</td>\n",
       "      <td>676.0</td>\n",
       "      <td>900.0</td>\n",
       "      <td>900.0</td>\n",
       "      <td>900000.0</td>\n",
       "    </tr>\n",
       "    <tr>\n",
       "      <th>3</th>\n",
       "      <td>RandomWaypointMobility-DD-23-20211009-18:21:12...</td>\n",
       "      <td>300</td>\n",
       "      <td>23</td>\n",
       "      <td>TARPNetwork.node[22].app[0]</td>\n",
       "      <td>869.0</td>\n",
       "      <td>869000.0</td>\n",
       "      <td>NaN</td>\n",
       "      <td>NaN</td>\n",
       "      <td>NaN</td>\n",
       "      <td>NaN</td>\n",
       "      <td>NaN</td>\n",
       "      <td>NaN</td>\n",
       "    </tr>\n",
       "    <tr>\n",
       "      <th>4</th>\n",
       "      <td>RandomWaypointMobility-DD-6-20211009-18:18:52-...</td>\n",
       "      <td>300</td>\n",
       "      <td>6</td>\n",
       "      <td>TARPNetwork.node[22].app[0]</td>\n",
       "      <td>899.0</td>\n",
       "      <td>899000.0</td>\n",
       "      <td>NaN</td>\n",
       "      <td>NaN</td>\n",
       "      <td>NaN</td>\n",
       "      <td>NaN</td>\n",
       "      <td>NaN</td>\n",
       "      <td>NaN</td>\n",
       "    </tr>\n",
       "  </tbody>\n",
       "</table>\n",
       "</div>"
      ],
      "text/plain": [
       "                                                 run  PauseTime  repetition  \\\n",
       "0  RandomWaypointMobility-DD-14-20211009-18:30:15...        300          14   \n",
       "1  RandomWaypointMobility-DD-0-20211009-18:10:03-...        300           0   \n",
       "2  RandomWaypointMobility-DD-23-20211009-18:21:12...        300          23   \n",
       "3  RandomWaypointMobility-DD-23-20211009-18:21:12...        300          23   \n",
       "4  RandomWaypointMobility-DD-6-20211009-18:18:52-...        300           6   \n",
       "\n",
       "                        Module  echoedPk:count  echoedPk:sum(packetBytes)  \\\n",
       "0  TARPNetwork.node[17].app[0]             NaN                        NaN   \n",
       "1  TARPNetwork.node[17].app[0]             NaN                        NaN   \n",
       "2  TARPNetwork.node[17].app[0]             NaN                        NaN   \n",
       "3  TARPNetwork.node[22].app[0]           869.0                   869000.0   \n",
       "4  TARPNetwork.node[22].app[0]           899.0                   899000.0   \n",
       "\n",
       "   packetReceived:count  packetReceived:sum(packetBytes)  packets received  \\\n",
       "0                 839.0                         839000.0             839.0   \n",
       "1                 804.0                         804000.0             804.0   \n",
       "2                 676.0                         676000.0             676.0   \n",
       "3                   NaN                              NaN               NaN   \n",
       "4                   NaN                              NaN               NaN   \n",
       "\n",
       "   packets sent  packetSent:count  packetSent:sum(packetBytes)  \n",
       "0         900.0             900.0                     900000.0  \n",
       "1         900.0             900.0                     900000.0  \n",
       "2         900.0             900.0                     900000.0  \n",
       "3           NaN               NaN                          NaN  \n",
       "4           NaN               NaN                          NaN  "
      ]
     },
     "execution_count": 663,
     "metadata": {},
     "output_type": "execute_result"
    }
   ],
   "source": [
    "df.head()"
   ]
  },
  {
   "cell_type": "code",
   "execution_count": 664,
   "metadata": {},
   "outputs": [],
   "source": [
    "df.Module = df.Module.str.split('[',expand=True)[1].str.split(']',expand=True)[0]"
   ]
  },
  {
   "cell_type": "code",
   "execution_count": 665,
   "metadata": {},
   "outputs": [],
   "source": [
    "df = df.sort_values(by=['repetition'])"
   ]
  },
  {
   "cell_type": "code",
   "execution_count": 666,
   "metadata": {},
   "outputs": [],
   "source": [
    "df_17 = df.loc[df['Module'] == '17']\n",
    "df_22 = df.loc[df['Module'] == '22']"
   ]
  },
  {
   "cell_type": "code",
   "execution_count": 667,
   "metadata": {},
   "outputs": [],
   "source": [
    "results = []\n",
    "results_x = []\n",
    "count = 0\n",
    "\n",
    "for index, row in df_17.iterrows():\n",
    "        x = df_22.iloc[count][\"echoedPk:count\"]\n",
    "        res = round((row['packetReceived:count'] + x)/(x + row['packetSent:count']), 4) \n",
    "        results.append(res)\n",
    "        res_x = round((x)/(row['packetSent:count']), 4) \n",
    "        results_x.append(res_x)\n",
    "        count+=1\n"
   ]
  },
  {
   "cell_type": "code",
   "execution_count": 668,
   "metadata": {},
   "outputs": [
    {
     "name": "stdout",
     "output_type": "stream",
     "text": [
      "[0.9466, 0.9244, 0.831, 0.9215, 0.821, 0.8909, 0.8321, 0.8888, 0.9161, 0.8688, 0.8408, 0.9394, 0.8922, 0.7653, 0.966, 0.8541, 0.8064, 0.9688, 0.9432, 0.8357, 0.8405, 0.9737, 0.7433, 0.8734, 0.9105, 0.9497, 0.7734, 0.8905, 0.9334, 0.9127]\n"
     ]
    }
   ],
   "source": [
    "print (results)   "
   ]
  },
  {
   "cell_type": "code",
   "execution_count": 669,
   "metadata": {},
   "outputs": [
    {
     "name": "stdout",
     "output_type": "stream",
     "text": [
      "[0.9978, 0.9978, 0.9922, 0.9533, 0.9989, 0.9967, 0.9989, 0.8978, 0.9989, 0.9644, 0.9967, 0.9989, 0.9989, 0.6756, 0.9911, 0.98, 0.7622, 0.9956, 0.9944, 0.8467, 0.9989, 0.9856, 0.7489, 0.9656, 0.9989, 0.9867, 0.7011, 0.9989, 0.9344, 0.9478]\n"
     ]
    }
   ],
   "source": [
    "print (results_x) "
   ]
  },
  {
   "cell_type": "code",
   "execution_count": 670,
   "metadata": {},
   "outputs": [
    {
     "name": "stdout",
     "output_type": "stream",
     "text": [
      "Mean: 88.18\n"
     ]
    }
   ],
   "source": [
    "print(\"Mean:\", round(sum(results) / len(results)*100,2))"
   ]
  },
  {
   "cell_type": "code",
   "execution_count": 671,
   "metadata": {},
   "outputs": [
    {
     "name": "stdout",
     "output_type": "stream",
     "text": [
      "Mean: 94.35\n"
     ]
    }
   ],
   "source": [
    "print(\"Mean:\", round(sum(results_x) / len(results_x)*100,2))"
   ]
  },
  {
   "cell_type": "code",
   "execution_count": 672,
   "metadata": {},
   "outputs": [],
   "source": [
    "df_dd = pd.DataFrame({'PauseTime':[0, 50, 100, 300, 600, 900],\n",
    "                       'PDF':[86.38, 87.54, 86.37, 93.19, 90.53, 88.18]})\n",
    "\n",
    "df_dd_x = pd.DataFrame({'PauseTime':[0, 50, 100, 300, 600, 900],\n",
    "                       'PDF':[96.9, 96.66, 94.48, 99.52, 97.14, 94.35]})\n",
    "\n",
    "dd_x_errors = [1.13, 1.19, 2.05, 3.98, 1.59, 3.36]\n",
    "\n",
    "df_spd_1 = pd.DataFrame({'PauseTime':[0, 50, 100, 300, 600, 900],\n",
    "                       'PDF':[74.71, 72.25, 72.94, 76.31, 74.92, 78.56]})\n",
    "\n",
    "df_spd_1_x = pd.DataFrame({'PauseTime':[0, 50, 100, 300, 600, 900],\n",
    "                       'PDF':[84.16, 82.97, 81.68, 81.86, 83.03, 86.51]})\n",
    "\n",
    "spd_1_x_errors = [2.92, 3.56, 3.45, 5.88, 8.08, 9.74]\n",
    "\n",
    "df_spd_2 = pd.DataFrame({'PauseTime':[0, 50, 100, 300, 600, 900],\n",
    "                       'PDF':[82.18, 81.2, 81.64, 82.28, 83.88, 85.99]})\n",
    "\n",
    "df_spd_2_x = pd.DataFrame({'PauseTime':[0, 50, 100, 300, 600, 900],\n",
    "                       'PDF':[94.25, 92.17, 91.41, 88.78, 92.85, 93.66]})\n",
    "\n",
    "spd_2_x_errors = [1.68, 2.23, 2.44, 4.47, 4.15, 7.39]"
   ]
  },
  {
   "cell_type": "code",
   "execution_count": 676,
   "metadata": {},
   "outputs": [
    {
     "data": {
      "image/png": "[encoded data removed]",
      "text/plain": [
       "<Figure size 936x720 with 1 Axes>"
      ]
     },
     "metadata": {
      "needs_background": "light"
     },
     "output_type": "display_data"
    }
   ],
   "source": [
    "plt.xlabel(\"Pause Time (sec)\")\n",
    "plt.ylabel(\"PDF%\")\n",
    "plt.title(\"Random Waypoint Mobility - 60 Nodes\")\n",
    "\n",
    "plt.xticks(np.arange(0,901, 50))\n",
    "plt.yticks(np.arange(70,101, 1))\n",
    "# plt.grid()\n",
    "\n",
    "# plt.plot(df_dd_x.PauseTime, df_dd_x.PDF,  'g-x') \n",
    "\n",
    "# plt.plot(df_spd_1_x.PauseTime, df_spd_1_x.PDF,  'b-x') \n",
    "\n",
    "# plt.plot(df_spd_2_x.PauseTime, df_spd_2_x.PDF,  'r-x') \n",
    "\n",
    "plt.errorbar(\n",
    "  x=df_dd_x.PauseTime, \n",
    "  y=df_dd_x.PDF, \n",
    "  yerr=dd_x_errors, \n",
    "  capsize=5,\n",
    "  marker='o', \n",
    "  color='green', \n",
    "  markersize=8, \n",
    "  linewidth=1, \n",
    "  linestyle='-')\n",
    "\n",
    "plt.errorbar(\n",
    "  x=df_spd_1_x.PauseTime, \n",
    "  y=df_spd_1_x.PDF, \n",
    "  yerr=spd_1_x_errors, \n",
    "  capsize=5,\n",
    "  marker='o', \n",
    "  color='blue', \n",
    "  markersize=8, \n",
    "  linewidth=1, \n",
    "  linestyle='-')\n",
    "\n",
    "plt.errorbar(\n",
    "  x=df_spd_2_x.PauseTime, \n",
    "  y=df_spd_2_x.PDF, \n",
    "  yerr=spd_2_x_errors, \n",
    "  capsize=5,\n",
    "  marker='o', \n",
    "  color='red', \n",
    "  markersize=8, \n",
    "  linewidth=1.2, \n",
    "  linestyle='-')\n",
    "\n",
    "red_patch = mpatches.Patch(color='red', label='TARP-slack-2')\n",
    "green_patch = mpatches.Patch(color='green', label='Simple')\n",
    "blue_patch = mpatches.Patch(color='blue', label='TARP-slack-1')\n",
    "\n",
    "plt.legend(handles=[ green_patch, blue_patch, red_patch])\n",
    "\n",
    "fig = plt.gcf()\n",
    "fig.set_size_inches(13, 10)\n",
    "plt.savefig('simulation-pdf-60.png', dpi=300)"
   ]
  },
  {
   "cell_type": "code",
   "execution_count": null,
   "metadata": {},
   "outputs": [],
   "source": []
  },
  {
   "cell_type": "code",
   "execution_count": null,
   "metadata": {},
   "outputs": [],
   "source": []
  },
  {
   "cell_type": "code",
   "execution_count": null,
   "metadata": {},
   "outputs": [],
   "source": []
  },
  {
   "cell_type": "code",
   "execution_count": null,
   "metadata": {},
   "outputs": [],
   "source": []
  },
  {
   "cell_type": "code",
   "execution_count": null,
   "metadata": {},
   "outputs": [],
   "source": []
  }
 ],
 "metadata": {
  "kernelspec": {
   "display_name": "Python 3",
   "language": "python",
   "name": "python3"
  },
  "language_info": {
   "codemirror_mode": {
    "name": "ipython",
    "version": 3
   },
   "file_extension": ".py",
   "mimetype": "text/x-python",
   "name": "python",
   "nbconvert_exporter": "python",
   "pygments_lexer": "ipython3",
   "version": "3.8.3"
  }
 },
 "nbformat": 4,
 "nbformat_minor": 4
}
