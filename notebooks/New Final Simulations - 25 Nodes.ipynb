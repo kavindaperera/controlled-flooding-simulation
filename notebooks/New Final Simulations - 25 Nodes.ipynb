{
 "cells": [
  {
   "cell_type": "code",
   "execution_count": 2,
   "metadata": {},
   "outputs": [],
   "source": [
    "import pandas as pd\n",
    "import numpy as np\n",
    "import matplotlib.pyplot as plt\n",
    "import seaborn as sns\n",
    "import re\n",
    "import matplotlib.patches as mpatches"
   ]
  },
  {
   "cell_type": "markdown",
   "metadata": {},
   "source": [
    "## PDF - 25 Nodes - PG 100x100 - 40m trans range"
   ]
  },
  {
   "cell_type": "code",
   "execution_count": 140,
   "metadata": {},
   "outputs": [],
   "source": [
    "df = pd.read_csv('C:\\\\omnetpp-5.6.2\\\\samples\\\\tarp-sim\\\\results\\\\new\\\\data_8\\\\data_spd_1_n_25_p_120_pdf_2.csv')"
   ]
  },
  {
   "cell_type": "code",
   "execution_count": 141,
   "metadata": {},
   "outputs": [
    {
     "data": {
      "text/html": [
       "<div>\n",
       "<style scoped>\n",
       "    .dataframe tbody tr th:only-of-type {\n",
       "        vertical-align: middle;\n",
       "    }\n",
       "\n",
       "    .dataframe tbody tr th {\n",
       "        vertical-align: top;\n",
       "    }\n",
       "\n",
       "    .dataframe thead th {\n",
       "        text-align: right;\n",
       "    }\n",
       "</style>\n",
       "<table border=\"1\" class=\"dataframe\">\n",
       "  <thead>\n",
       "    <tr style=\"text-align: right;\">\n",
       "      <th></th>\n",
       "      <th>run</th>\n",
       "      <th>PauseTime</th>\n",
       "      <th>repetition</th>\n",
       "      <th>Module</th>\n",
       "      <th>echoedPk:count</th>\n",
       "      <th>echoedPk:sum(packetBytes)</th>\n",
       "      <th>packetReceived:count</th>\n",
       "      <th>packetReceived:sum(packetBytes)</th>\n",
       "      <th>packets received</th>\n",
       "      <th>packets sent</th>\n",
       "      <th>packetSent:count</th>\n",
       "      <th>packetSent:sum(packetBytes)</th>\n",
       "    </tr>\n",
       "  </thead>\n",
       "  <tbody>\n",
       "    <tr>\n",
       "      <th>0</th>\n",
       "      <td>RandomWaypointMobility-SPD-A-145-20220217-20:4...</td>\n",
       "      <td>120</td>\n",
       "      <td>25</td>\n",
       "      <td>TARPNetwork.node[17].app[0]</td>\n",
       "      <td>NaN</td>\n",
       "      <td>NaN</td>\n",
       "      <td>484.0</td>\n",
       "      <td>484000.0</td>\n",
       "      <td>484.0</td>\n",
       "      <td>900.0</td>\n",
       "      <td>900.0</td>\n",
       "      <td>900000.0</td>\n",
       "    </tr>\n",
       "    <tr>\n",
       "      <th>1</th>\n",
       "      <td>RandomWaypointMobility-SPD-A-123-20220217-20:3...</td>\n",
       "      <td>120</td>\n",
       "      <td>3</td>\n",
       "      <td>TARPNetwork.node[22].app[0]</td>\n",
       "      <td>813.0</td>\n",
       "      <td>813000.0</td>\n",
       "      <td>NaN</td>\n",
       "      <td>NaN</td>\n",
       "      <td>NaN</td>\n",
       "      <td>NaN</td>\n",
       "      <td>NaN</td>\n",
       "      <td>NaN</td>\n",
       "    </tr>\n",
       "    <tr>\n",
       "      <th>2</th>\n",
       "      <td>RandomWaypointMobility-SPD-A-122-20220217-20:3...</td>\n",
       "      <td>120</td>\n",
       "      <td>2</td>\n",
       "      <td>TARPNetwork.node[17].app[0]</td>\n",
       "      <td>NaN</td>\n",
       "      <td>NaN</td>\n",
       "      <td>699.0</td>\n",
       "      <td>699000.0</td>\n",
       "      <td>699.0</td>\n",
       "      <td>900.0</td>\n",
       "      <td>900.0</td>\n",
       "      <td>900000.0</td>\n",
       "    </tr>\n",
       "    <tr>\n",
       "      <th>3</th>\n",
       "      <td>RandomWaypointMobility-SPD-A-120-20220217-20:3...</td>\n",
       "      <td>120</td>\n",
       "      <td>0</td>\n",
       "      <td>TARPNetwork.node[22].app[0]</td>\n",
       "      <td>899.0</td>\n",
       "      <td>899000.0</td>\n",
       "      <td>NaN</td>\n",
       "      <td>NaN</td>\n",
       "      <td>NaN</td>\n",
       "      <td>NaN</td>\n",
       "      <td>NaN</td>\n",
       "      <td>NaN</td>\n",
       "    </tr>\n",
       "    <tr>\n",
       "      <th>4</th>\n",
       "      <td>RandomWaypointMobility-SPD-A-146-20220217-20:4...</td>\n",
       "      <td>120</td>\n",
       "      <td>26</td>\n",
       "      <td>TARPNetwork.node[22].app[0]</td>\n",
       "      <td>899.0</td>\n",
       "      <td>899000.0</td>\n",
       "      <td>NaN</td>\n",
       "      <td>NaN</td>\n",
       "      <td>NaN</td>\n",
       "      <td>NaN</td>\n",
       "      <td>NaN</td>\n",
       "      <td>NaN</td>\n",
       "    </tr>\n",
       "  </tbody>\n",
       "</table>\n",
       "</div>"
      ],
      "text/plain": [
       "                                                 run  PauseTime  repetition  \\\n",
       "0  RandomWaypointMobility-SPD-A-145-20220217-20:4...        120          25   \n",
       "1  RandomWaypointMobility-SPD-A-123-20220217-20:3...        120           3   \n",
       "2  RandomWaypointMobility-SPD-A-122-20220217-20:3...        120           2   \n",
       "3  RandomWaypointMobility-SPD-A-120-20220217-20:3...        120           0   \n",
       "4  RandomWaypointMobility-SPD-A-146-20220217-20:4...        120          26   \n",
       "\n",
       "                        Module  echoedPk:count  echoedPk:sum(packetBytes)  \\\n",
       "0  TARPNetwork.node[17].app[0]             NaN                        NaN   \n",
       "1  TARPNetwork.node[22].app[0]           813.0                   813000.0   \n",
       "2  TARPNetwork.node[17].app[0]             NaN                        NaN   \n",
       "3  TARPNetwork.node[22].app[0]           899.0                   899000.0   \n",
       "4  TARPNetwork.node[22].app[0]           899.0                   899000.0   \n",
       "\n",
       "   packetReceived:count  packetReceived:sum(packetBytes)  packets received  \\\n",
       "0                 484.0                         484000.0             484.0   \n",
       "1                   NaN                              NaN               NaN   \n",
       "2                 699.0                         699000.0             699.0   \n",
       "3                   NaN                              NaN               NaN   \n",
       "4                   NaN                              NaN               NaN   \n",
       "\n",
       "   packets sent  packetSent:count  packetSent:sum(packetBytes)  \n",
       "0         900.0             900.0                     900000.0  \n",
       "1           NaN               NaN                          NaN  \n",
       "2         900.0             900.0                     900000.0  \n",
       "3           NaN               NaN                          NaN  \n",
       "4           NaN               NaN                          NaN  "
      ]
     },
     "execution_count": 141,
     "metadata": {},
     "output_type": "execute_result"
    }
   ],
   "source": [
    "df.head()"
   ]
  },
  {
   "cell_type": "code",
   "execution_count": 142,
   "metadata": {},
   "outputs": [],
   "source": [
    "df.Module = df.Module.str.split('[',expand=True)[1].str.split(']',expand=True)[0]"
   ]
  },
  {
   "cell_type": "code",
   "execution_count": 143,
   "metadata": {},
   "outputs": [],
   "source": [
    "df = df.sort_values(by=['repetition'])"
   ]
  },
  {
   "cell_type": "code",
   "execution_count": 144,
   "metadata": {},
   "outputs": [],
   "source": [
    "df_17 = df.loc[df['Module'] == '17']\n",
    "df_22 = df.loc[df['Module'] == '22']"
   ]
  },
  {
   "cell_type": "code",
   "execution_count": 145,
   "metadata": {},
   "outputs": [],
   "source": [
    "results = []\n",
    "results_x = []\n",
    "count = 0\n",
    "\n",
    "for index, row in df_17.iterrows():\n",
    "        x = df_22.iloc[count][\"echoedPk:count\"]\n",
    "        res = round((row['packetReceived:count'] + x)/(x + row['packetSent:count']), 4) \n",
    "        results.append(res)\n",
    "        res_x = round((x)/(row['packetSent:count']), 4) \n",
    "        results_x.append(res_x)\n",
    "        count+=1\n"
   ]
  },
  {
   "cell_type": "code",
   "execution_count": 146,
   "metadata": {},
   "outputs": [
    {
     "name": "stdout",
     "output_type": "stream",
     "text": [
      "[0.7865, 0.8344, 0.8883, 0.7163, 0.8092, 0.881, 0.751, 0.7353, 0.7139, 0.7647, 0.7341, 0.7422, 0.8014, 0.7715, 0.7905, 0.7604, 0.8456, 0.7498, 0.8377, 0.8205, 0.7193, 0.8633, 0.6816, 0.7952, 0.7676, 0.7654, 0.7293, 0.6995, 0.6321, 0.7129]\n"
     ]
    }
   ],
   "source": [
    "print (results)   "
   ]
  },
  {
   "cell_type": "code",
   "execution_count": 147,
   "metadata": {},
   "outputs": [
    {
     "name": "stdout",
     "output_type": "stream",
     "text": [
      "[0.9989, 0.9122, 0.9989, 0.9033, 0.9222, 0.9989, 0.9678, 0.8889, 0.9844, 0.9878, 0.91, 0.8578, 0.9356, 0.8478, 0.9678, 0.8689, 0.9933, 0.7722, 0.9989, 0.9989, 0.8722, 0.8533, 0.7589, 0.8989, 0.8889, 0.97, 0.9989, 0.8633, 0.7578, 0.9311]\n"
     ]
    }
   ],
   "source": [
    "print (results_x) "
   ]
  },
  {
   "cell_type": "code",
   "execution_count": 148,
   "metadata": {},
   "outputs": [
    {
     "name": "stdout",
     "output_type": "stream",
     "text": [
      "Mean: 77.0\n"
     ]
    }
   ],
   "source": [
    "print(\"Mean:\", round(sum(results) / len(results)*100,2))"
   ]
  },
  {
   "cell_type": "code",
   "execution_count": 149,
   "metadata": {},
   "outputs": [
    {
     "name": "stdout",
     "output_type": "stream",
     "text": [
      "Mean: 91.69\n"
     ]
    }
   ],
   "source": [
    "print(\"Mean:\", round(sum(results_x) / len(results_x)*100,2))"
   ]
  },
  {
   "cell_type": "code",
   "execution_count": 134,
   "metadata": {},
   "outputs": [],
   "source": [
    "df_dd_x = pd.DataFrame({'PauseTime':[0, 30, 60, 90, 120, 300, 600, 900],\n",
    "                       'PDF':[99.66, 99.18, 99.48, 99.51, 99.51, 99.16, 98.99, 96.83]})\n",
    "\n",
    "dd_x_errors = [0.266, 0.503, 0.33, 0.246, 0.352, 1.41, 1.7, 5.9]\n",
    "\n",
    "\n",
    "\n",
    "df_spd_1_x = pd.DataFrame({'PauseTime':[0, 30, 60, 90, 120, 300, 600, 900],\n",
    "                       'PDF':[97.37, 92.87, 92.5, 94.33, 91.69, 95.44, 97.89, 96.21]})\n",
    "\n",
    "spd_1_x_errors = [0.811, 1.05, 1.6, 1.46, 2.59, 2.22, 1.94, 2.9]\n",
    "\n",
    "\n",
    "df_spd_2_x = pd.DataFrame({'PauseTime':[0, 30, 60, 90, 120, 300, 600, 900],\n",
    "                       'PDF':[99.01, 97.74, 98.34, 98.35, 98.26, 97.41, 98.85, 96.83]})\n",
    "\n",
    "spd_2_x_errors = [0.404, 0.623, 0.723, 0.839, 0.884, 1.73, 1.7, 2.9]"
   ]
  },
  {
   "cell_type": "code",
   "execution_count": 169,
   "metadata": {},
   "outputs": [
    {
     "data": {
      "image/png": "[encoded data removed]",
      "text/plain": [
       "<Figure size 1152x720 with 1 Axes>"
      ]
     },
     "metadata": {
      "needs_background": "light"
     },
     "output_type": "display_data"
    }
   ],
   "source": [
    "plt.xlabel(\"Pause Time (sec)\")\n",
    "plt.ylabel(\"PDF%\")\n",
    "plt.title(\"25 Nodes\")\n",
    "\n",
    "plt.xticks(np.arange(0,901, 30))\n",
    "plt.yticks(np.arange(0,101, 1))\n",
    "# plt.grid()\n",
    "\n",
    "# plt.plot(df_dd_x.PauseTime, df_dd_x.PDF,  'g-x') \n",
    "\n",
    "# plt.plot(df_spd_1_x.PauseTime, df_spd_1_x.PDF,  'b-x') \n",
    "\n",
    "# plt.plot(df_spd_2_x.PauseTime, df_spd_2_x.PDF,  'r-x') \n",
    "\n",
    "plt.ylim([85, 100])\n",
    "\n",
    "plt.errorbar(\n",
    "  x=df_dd_x.PauseTime, \n",
    "  y=df_dd_x.PDF, \n",
    "  yerr=dd_x_errors, \n",
    "  capsize=5,\n",
    "  marker='o', \n",
    "  color='green', \n",
    "  markersize=8, \n",
    "  linewidth=1, \n",
    "  linestyle='-')\n",
    "\n",
    "plt.errorbar(\n",
    "  x=df_spd_1_x.PauseTime, \n",
    "  y=df_spd_1_x.PDF, \n",
    "  yerr=spd_1_x_errors, \n",
    "  capsize=5,\n",
    "  marker='o', \n",
    "  color='blue', \n",
    "  markersize=8, \n",
    "  linewidth=1, \n",
    "  linestyle='-')\n",
    "\n",
    "plt.errorbar(\n",
    "  x=df_spd_2_x.PauseTime, \n",
    "  y=df_spd_2_x.PDF, \n",
    "  yerr=spd_2_x_errors, \n",
    "  capsize=5,\n",
    "  marker='o', \n",
    "  color='#EE4B2B', \n",
    "  markersize=8, \n",
    "  linewidth=1.2, \n",
    "  linestyle='-')\n",
    "\n",
    "red_patch = mpatches.Patch(color='red', label='TARP (slack=2)')\n",
    "green_patch = mpatches.Patch(color='green', label='Simple Flooding')\n",
    "blue_patch = mpatches.Patch(color='blue', label='TARP (slack=1)')\n",
    "\n",
    "plt.legend(handles=[ green_patch, blue_patch, red_patch])\n",
    "\n",
    "fig = plt.gcf()\n",
    "fig.set_size_inches(16, 10)\n",
    "plt.savefig('final-simulation-pdf-25-new.png', dpi=300)"
   ]
  },
  {
   "cell_type": "code",
   "execution_count": null,
   "metadata": {},
   "outputs": [],
   "source": []
  },
  {
   "cell_type": "code",
   "execution_count": 227,
   "metadata": {},
   "outputs": [],
   "source": [
    "df_tarp_1 = pd.read_csv('C:\\\\omnetpp-5.6.2\\\\samples\\\\tarp-sim\\\\results\\\\new\\\\data_11\\\\data_spd_1_n_25_p_0_dpf.csv')\n",
    "df_tarp_2 = pd.read_csv('C:\\\\omnetpp-5.6.2\\\\samples\\\\tarp-sim\\\\results\\\\new\\\\data_11\\\\data_spd_2_n_25_p_0_dpf.csv')\n",
    "df_sp = pd.read_csv('C:\\\\omnetpp-5.6.2\\\\samples\\\\tarp-sim\\\\results\\\\new\\\\data_11\\\\data_dd_n_25_p_0_dpf.csv')"
   ]
  },
  {
   "cell_type": "code",
   "execution_count": 228,
   "metadata": {},
   "outputs": [
    {
     "data": {
      "text/html": [
       "<div>\n",
       "<style scoped>\n",
       "    .dataframe tbody tr th:only-of-type {\n",
       "        vertical-align: middle;\n",
       "    }\n",
       "\n",
       "    .dataframe tbody tr th {\n",
       "        vertical-align: top;\n",
       "    }\n",
       "\n",
       "    .dataframe thead th {\n",
       "        text-align: right;\n",
       "    }\n",
       "</style>\n",
       "<table border=\"1\" class=\"dataframe\">\n",
       "  <thead>\n",
       "    <tr style=\"text-align: right;\">\n",
       "      <th></th>\n",
       "      <th>run</th>\n",
       "      <th>PauseTime</th>\n",
       "      <th>repetition</th>\n",
       "      <th>Module</th>\n",
       "      <th>meanNbHops</th>\n",
       "      <th>nbDataPacketsForwarded</th>\n",
       "      <th>nbDataPacketsReceived</th>\n",
       "      <th>nbDataPacketsSent</th>\n",
       "      <th>nbSpdDrops</th>\n",
       "    </tr>\n",
       "  </thead>\n",
       "  <tbody>\n",
       "    <tr>\n",
       "      <th>0</th>\n",
       "      <td>RandomWaypointMobility-SPD-A-16-20220213-16:10...</td>\n",
       "      <td>0</td>\n",
       "      <td>16</td>\n",
       "      <td>TARPNetwork.node[19].generic.np</td>\n",
       "      <td>NaN</td>\n",
       "      <td>816.0</td>\n",
       "      <td>0.0</td>\n",
       "      <td>0.0</td>\n",
       "      <td>NaN</td>\n",
       "    </tr>\n",
       "    <tr>\n",
       "      <th>1</th>\n",
       "      <td>RandomWaypointMobility-SPD-A-16-20220213-16:10...</td>\n",
       "      <td>0</td>\n",
       "      <td>16</td>\n",
       "      <td>TARPNetwork.node[18].generic.np</td>\n",
       "      <td>0.000000</td>\n",
       "      <td>766.0</td>\n",
       "      <td>0.0</td>\n",
       "      <td>0.0</td>\n",
       "      <td>531.0</td>\n",
       "    </tr>\n",
       "    <tr>\n",
       "      <th>2</th>\n",
       "      <td>RandomWaypointMobility-SPD-A-16-20220213-16:10...</td>\n",
       "      <td>0</td>\n",
       "      <td>16</td>\n",
       "      <td>TARPNetwork.node[8].generic.np</td>\n",
       "      <td>0.000000</td>\n",
       "      <td>873.0</td>\n",
       "      <td>0.0</td>\n",
       "      <td>0.0</td>\n",
       "      <td>387.0</td>\n",
       "    </tr>\n",
       "    <tr>\n",
       "      <th>3</th>\n",
       "      <td>RandomWaypointMobility-SPD-A-16-20220213-16:10...</td>\n",
       "      <td>0</td>\n",
       "      <td>16</td>\n",
       "      <td>TARPNetwork.node[9].generic.np</td>\n",
       "      <td>0.000000</td>\n",
       "      <td>850.0</td>\n",
       "      <td>0.0</td>\n",
       "      <td>NaN</td>\n",
       "      <td>448.0</td>\n",
       "    </tr>\n",
       "    <tr>\n",
       "      <th>4</th>\n",
       "      <td>RandomWaypointMobility-SPD-A-21-20220213-16:11...</td>\n",
       "      <td>0</td>\n",
       "      <td>21</td>\n",
       "      <td>TARPNetwork.node[9].generic.np</td>\n",
       "      <td>0.000000</td>\n",
       "      <td>783.0</td>\n",
       "      <td>0.0</td>\n",
       "      <td>0.0</td>\n",
       "      <td>467.0</td>\n",
       "    </tr>\n",
       "    <tr>\n",
       "      <th>...</th>\n",
       "      <td>...</td>\n",
       "      <td>...</td>\n",
       "      <td>...</td>\n",
       "      <td>...</td>\n",
       "      <td>...</td>\n",
       "      <td>...</td>\n",
       "      <td>...</td>\n",
       "      <td>...</td>\n",
       "      <td>...</td>\n",
       "    </tr>\n",
       "    <tr>\n",
       "      <th>741</th>\n",
       "      <td>RandomWaypointMobility-SPD-A-26-20220213-16:12...</td>\n",
       "      <td>0</td>\n",
       "      <td>26</td>\n",
       "      <td>TARPNetwork.node[11].generic.np</td>\n",
       "      <td>0.000000</td>\n",
       "      <td>836.0</td>\n",
       "      <td>0.0</td>\n",
       "      <td>0.0</td>\n",
       "      <td>559.0</td>\n",
       "    </tr>\n",
       "    <tr>\n",
       "      <th>742</th>\n",
       "      <td>RandomWaypointMobility-SPD-A-26-20220213-16:12...</td>\n",
       "      <td>0</td>\n",
       "      <td>26</td>\n",
       "      <td>TARPNetwork.node[8].generic.np</td>\n",
       "      <td>0.000000</td>\n",
       "      <td>739.0</td>\n",
       "      <td>0.0</td>\n",
       "      <td>0.0</td>\n",
       "      <td>661.0</td>\n",
       "    </tr>\n",
       "    <tr>\n",
       "      <th>743</th>\n",
       "      <td>RandomWaypointMobility-SPD-A-6-20220213-16:09:...</td>\n",
       "      <td>0</td>\n",
       "      <td>6</td>\n",
       "      <td>TARPNetwork.node[22].generic.np</td>\n",
       "      <td>1.737194</td>\n",
       "      <td>0.0</td>\n",
       "      <td>898.0</td>\n",
       "      <td>898.0</td>\n",
       "      <td>0.0</td>\n",
       "    </tr>\n",
       "    <tr>\n",
       "      <th>744</th>\n",
       "      <td>RandomWaypointMobility-SPD-A-6-20220213-16:09:...</td>\n",
       "      <td>0</td>\n",
       "      <td>6</td>\n",
       "      <td>TARPNetwork.node[23].generic.np</td>\n",
       "      <td>0.000000</td>\n",
       "      <td>701.0</td>\n",
       "      <td>0.0</td>\n",
       "      <td>0.0</td>\n",
       "      <td>651.0</td>\n",
       "    </tr>\n",
       "    <tr>\n",
       "      <th>745</th>\n",
       "      <td>RandomWaypointMobility-SPD-A-26-20220213-16:12...</td>\n",
       "      <td>0</td>\n",
       "      <td>26</td>\n",
       "      <td>TARPNetwork.node[0].generic.np</td>\n",
       "      <td>0.000000</td>\n",
       "      <td>763.0</td>\n",
       "      <td>0.0</td>\n",
       "      <td>0.0</td>\n",
       "      <td>576.0</td>\n",
       "    </tr>\n",
       "  </tbody>\n",
       "</table>\n",
       "<p>746 rows × 9 columns</p>\n",
       "</div>"
      ],
      "text/plain": [
       "                                                   run  PauseTime  repetition  \\\n",
       "0    RandomWaypointMobility-SPD-A-16-20220213-16:10...          0          16   \n",
       "1    RandomWaypointMobility-SPD-A-16-20220213-16:10...          0          16   \n",
       "2    RandomWaypointMobility-SPD-A-16-20220213-16:10...          0          16   \n",
       "3    RandomWaypointMobility-SPD-A-16-20220213-16:10...          0          16   \n",
       "4    RandomWaypointMobility-SPD-A-21-20220213-16:11...          0          21   \n",
       "..                                                 ...        ...         ...   \n",
       "741  RandomWaypointMobility-SPD-A-26-20220213-16:12...          0          26   \n",
       "742  RandomWaypointMobility-SPD-A-26-20220213-16:12...          0          26   \n",
       "743  RandomWaypointMobility-SPD-A-6-20220213-16:09:...          0           6   \n",
       "744  RandomWaypointMobility-SPD-A-6-20220213-16:09:...          0           6   \n",
       "745  RandomWaypointMobility-SPD-A-26-20220213-16:12...          0          26   \n",
       "\n",
       "                              Module  meanNbHops  nbDataPacketsForwarded  \\\n",
       "0    TARPNetwork.node[19].generic.np         NaN                   816.0   \n",
       "1    TARPNetwork.node[18].generic.np    0.000000                   766.0   \n",
       "2     TARPNetwork.node[8].generic.np    0.000000                   873.0   \n",
       "3     TARPNetwork.node[9].generic.np    0.000000                   850.0   \n",
       "4     TARPNetwork.node[9].generic.np    0.000000                   783.0   \n",
       "..                               ...         ...                     ...   \n",
       "741  TARPNetwork.node[11].generic.np    0.000000                   836.0   \n",
       "742   TARPNetwork.node[8].generic.np    0.000000                   739.0   \n",
       "743  TARPNetwork.node[22].generic.np    1.737194                     0.0   \n",
       "744  TARPNetwork.node[23].generic.np    0.000000                   701.0   \n",
       "745   TARPNetwork.node[0].generic.np    0.000000                   763.0   \n",
       "\n",
       "     nbDataPacketsReceived  nbDataPacketsSent  nbSpdDrops  \n",
       "0                      0.0                0.0         NaN  \n",
       "1                      0.0                0.0       531.0  \n",
       "2                      0.0                0.0       387.0  \n",
       "3                      0.0                NaN       448.0  \n",
       "4                      0.0                0.0       467.0  \n",
       "..                     ...                ...         ...  \n",
       "741                    0.0                0.0       559.0  \n",
       "742                    0.0                0.0       661.0  \n",
       "743                  898.0              898.0         0.0  \n",
       "744                    0.0                0.0       651.0  \n",
       "745                    0.0                0.0       576.0  \n",
       "\n",
       "[746 rows x 9 columns]"
      ]
     },
     "execution_count": 228,
     "metadata": {},
     "output_type": "execute_result"
    }
   ],
   "source": [
    "df_tarp_1"
   ]
  },
  {
   "cell_type": "code",
   "execution_count": 222,
   "metadata": {},
   "outputs": [],
   "source": [
    "df_tarp_1.Module = df_tarp_1.Module.str.split('[',expand=True)[1].str.split(']',expand=True)[0]\n",
    "df_tarp_2.Module = df_tarp_2.Module.str.split('[',expand=True)[1].str.split(']',expand=True)[0]\n",
    "df_sp.Module = df_sp.Module.str.split('[',expand=True)[1].str.split(']',expand=True)[0]"
   ]
  },
  {
   "cell_type": "code",
   "execution_count": 223,
   "metadata": {},
   "outputs": [],
   "source": [
    "# Calculate the average\n",
    "tarp_1_mean = np.mean(df_tarp_1.nbDataPacketsForwarded)\n",
    "tarp_2_mean = np.mean(df_tarp_2.nbDataPacketsForwarded)\n",
    "sp_mean = np.mean(df_sp.nbDataPacketsForwarded)\n",
    "\n",
    "# Calculate the standard deviation\n",
    "tarp_1_std = np.std(df_tarp_1.nbDataPacketsForwarded)\n",
    "tarp_2_std = np.std(df_tarp_2.nbDataPacketsForwarded)\n",
    "sp_std = np.std(df_sp.nbDataPacketsForwarded)"
   ]
  },
  {
   "cell_type": "code",
   "execution_count": null,
   "metadata": {},
   "outputs": [],
   "source": []
  },
  {
   "cell_type": "code",
   "execution_count": null,
   "metadata": {},
   "outputs": [],
   "source": []
  },
  {
   "cell_type": "code",
   "execution_count": null,
   "metadata": {},
   "outputs": [],
   "source": []
  },
  {
   "cell_type": "code",
   "execution_count": 224,
   "metadata": {},
   "outputs": [],
   "source": [
    "# Create lists for the plot\n",
    "protocols = [ \"Simple Flooding\", 'TARP (slack=2)', 'TARP (slack=1)']\n",
    "x_pos = np.arange(len(protocols))\n",
    "CTEs = [sp_mean, tarp_2_mean, tarp_1_mean]\n",
    "error = [sp_std, tarp_2_std, tarp_1_std]"
   ]
  },
  {
   "cell_type": "code",
   "execution_count": 225,
   "metadata": {},
   "outputs": [
    {
     "data": {
      "image/png": "[encoded data removed]",
      "text/plain": [
       "<Figure size 432x288 with 1 Axes>"
      ]
     },
     "metadata": {
      "needs_background": "light"
     },
     "output_type": "display_data"
    }
   ],
   "source": [
    "# Build the plot\n",
    "fig, ax = plt.subplots()\n",
    "ax.bar(x_pos, CTEs, yerr=error, align='center', alpha=0.5, ecolor='black', capsize=10)\n",
    "ax.set_ylabel('Coefficient of Thermal Expansion ($\\degree C^{-1}$)')\n",
    "ax.set_xticks(x_pos)\n",
    "ax.set_xticklabels(protocols)\n",
    "ax.set_title('Coefficent of Thermal Expansion (CTE) of Three Metals')\n",
    "ax.yaxis.grid(True)\n",
    "\n",
    "# Save the figure and show\n",
    "plt.tight_layout()\n",
    "# plt.savefig('bar_plot_with_error_bars.png')\n",
    "plt.show()"
   ]
  },
  {
   "cell_type": "code",
   "execution_count": null,
   "metadata": {},
   "outputs": [],
   "source": []
  },
  {
   "cell_type": "code",
   "execution_count": null,
   "metadata": {},
   "outputs": [],
   "source": []
  }
 ],
 "metadata": {
  "kernelspec": {
   "display_name": "Python 3",
   "language": "python",
   "name": "python3"
  },
  "language_info": {
   "codemirror_mode": {
    "name": "ipython",
    "version": 3
   },
   "file_extension": ".py",
   "mimetype": "text/x-python",
   "name": "python",
   "nbconvert_exporter": "python",
   "pygments_lexer": "ipython3",
   "version": "3.8.3"
  }
 },
 "nbformat": 4,
 "nbformat_minor": 4
}
