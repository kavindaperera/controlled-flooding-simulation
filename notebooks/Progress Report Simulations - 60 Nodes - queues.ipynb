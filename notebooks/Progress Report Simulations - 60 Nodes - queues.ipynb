{
 "cells": [
  {
   "cell_type": "code",
   "execution_count": 3,
   "metadata": {},
   "outputs": [],
   "source": [
    "import pandas as pd\n",
    "import numpy as np\n",
    "import matplotlib.pyplot as plt\n",
    "import seaborn as sns\n",
    "import re\n",
    "import matplotlib.patches as mpatches"
   ]
  },
  {
   "cell_type": "markdown",
   "metadata": {},
   "source": [
    "## SPD - queue size parameter study - 80 Nodes"
   ]
  },
  {
   "cell_type": "code",
   "execution_count": 69,
   "metadata": {},
   "outputs": [],
   "source": [
    "df = pd.read_csv('C:\\\\omnetpp-5.6.2\\\\samples\\\\tarp-sim\\\\results\\\\queue_size\\\\data_spd_2_n_60_q_20_0.25_pdf.csv')"
   ]
  },
  {
   "cell_type": "code",
   "execution_count": 70,
   "metadata": {},
   "outputs": [
    {
     "data": {
      "text/html": [
       "<div>\n",
       "<style scoped>\n",
       "    .dataframe tbody tr th:only-of-type {\n",
       "        vertical-align: middle;\n",
       "    }\n",
       "\n",
       "    .dataframe tbody tr th {\n",
       "        vertical-align: top;\n",
       "    }\n",
       "\n",
       "    .dataframe thead th {\n",
       "        text-align: right;\n",
       "    }\n",
       "</style>\n",
       "<table border=\"1\" class=\"dataframe\">\n",
       "  <thead>\n",
       "    <tr style=\"text-align: right;\">\n",
       "      <th></th>\n",
       "      <th>run</th>\n",
       "      <th>packetCapacity</th>\n",
       "      <th>sendInterval</th>\n",
       "      <th>repetition</th>\n",
       "      <th>Module</th>\n",
       "      <th>echoedPk:count</th>\n",
       "      <th>echoedPk:sum(packetBytes)</th>\n",
       "      <th>packetReceived:count</th>\n",
       "      <th>packetReceived:sum(packetBytes)</th>\n",
       "      <th>packets received</th>\n",
       "      <th>packets sent</th>\n",
       "      <th>packetSent:count</th>\n",
       "      <th>packetSent:sum(packetBytes)</th>\n",
       "    </tr>\n",
       "  </thead>\n",
       "  <tbody>\n",
       "    <tr>\n",
       "      <th>0</th>\n",
       "      <td>RandomWaypointMobility-SPD-B-59-20211212-08:47...</td>\n",
       "      <td>20</td>\n",
       "      <td>0.25</td>\n",
       "      <td>9</td>\n",
       "      <td>TARPNetwork.node[22].app[0]</td>\n",
       "      <td>3134.0</td>\n",
       "      <td>3134000.0</td>\n",
       "      <td>NaN</td>\n",
       "      <td>NaN</td>\n",
       "      <td>NaN</td>\n",
       "      <td>NaN</td>\n",
       "      <td>NaN</td>\n",
       "      <td>NaN</td>\n",
       "    </tr>\n",
       "    <tr>\n",
       "      <th>1</th>\n",
       "      <td>RandomWaypointMobility-SPD-B-59-20211212-08:47...</td>\n",
       "      <td>20</td>\n",
       "      <td>0.25</td>\n",
       "      <td>9</td>\n",
       "      <td>TARPNetwork.node[17].app[0]</td>\n",
       "      <td>NaN</td>\n",
       "      <td>NaN</td>\n",
       "      <td>1541.0</td>\n",
       "      <td>1541000.0</td>\n",
       "      <td>1541.0</td>\n",
       "      <td>3600.0</td>\n",
       "      <td>3600.0</td>\n",
       "      <td>3600000.0</td>\n",
       "    </tr>\n",
       "    <tr>\n",
       "      <th>2</th>\n",
       "      <td>RandomWaypointMobility-SPD-B-56-20211212-08:42...</td>\n",
       "      <td>20</td>\n",
       "      <td>0.25</td>\n",
       "      <td>6</td>\n",
       "      <td>TARPNetwork.node[17].app[0]</td>\n",
       "      <td>NaN</td>\n",
       "      <td>NaN</td>\n",
       "      <td>2169.0</td>\n",
       "      <td>2169000.0</td>\n",
       "      <td>2169.0</td>\n",
       "      <td>3600.0</td>\n",
       "      <td>3600.0</td>\n",
       "      <td>3600000.0</td>\n",
       "    </tr>\n",
       "    <tr>\n",
       "      <th>3</th>\n",
       "      <td>RandomWaypointMobility-SPD-B-54-20211212-08:38...</td>\n",
       "      <td>20</td>\n",
       "      <td>0.25</td>\n",
       "      <td>4</td>\n",
       "      <td>TARPNetwork.node[22].app[0]</td>\n",
       "      <td>3287.0</td>\n",
       "      <td>3287000.0</td>\n",
       "      <td>NaN</td>\n",
       "      <td>NaN</td>\n",
       "      <td>NaN</td>\n",
       "      <td>NaN</td>\n",
       "      <td>NaN</td>\n",
       "      <td>NaN</td>\n",
       "    </tr>\n",
       "    <tr>\n",
       "      <th>4</th>\n",
       "      <td>RandomWaypointMobility-SPD-B-54-20211212-08:38...</td>\n",
       "      <td>20</td>\n",
       "      <td>0.25</td>\n",
       "      <td>4</td>\n",
       "      <td>TARPNetwork.node[17].app[0]</td>\n",
       "      <td>NaN</td>\n",
       "      <td>NaN</td>\n",
       "      <td>2679.0</td>\n",
       "      <td>2679000.0</td>\n",
       "      <td>2679.0</td>\n",
       "      <td>3600.0</td>\n",
       "      <td>3600.0</td>\n",
       "      <td>3600000.0</td>\n",
       "    </tr>\n",
       "  </tbody>\n",
       "</table>\n",
       "</div>"
      ],
      "text/plain": [
       "                                                 run  packetCapacity  \\\n",
       "0  RandomWaypointMobility-SPD-B-59-20211212-08:47...              20   \n",
       "1  RandomWaypointMobility-SPD-B-59-20211212-08:47...              20   \n",
       "2  RandomWaypointMobility-SPD-B-56-20211212-08:42...              20   \n",
       "3  RandomWaypointMobility-SPD-B-54-20211212-08:38...              20   \n",
       "4  RandomWaypointMobility-SPD-B-54-20211212-08:38...              20   \n",
       "\n",
       "   sendInterval  repetition                       Module  echoedPk:count  \\\n",
       "0          0.25           9  TARPNetwork.node[22].app[0]          3134.0   \n",
       "1          0.25           9  TARPNetwork.node[17].app[0]             NaN   \n",
       "2          0.25           6  TARPNetwork.node[17].app[0]             NaN   \n",
       "3          0.25           4  TARPNetwork.node[22].app[0]          3287.0   \n",
       "4          0.25           4  TARPNetwork.node[17].app[0]             NaN   \n",
       "\n",
       "   echoedPk:sum(packetBytes)  packetReceived:count  \\\n",
       "0                  3134000.0                   NaN   \n",
       "1                        NaN                1541.0   \n",
       "2                        NaN                2169.0   \n",
       "3                  3287000.0                   NaN   \n",
       "4                        NaN                2679.0   \n",
       "\n",
       "   packetReceived:sum(packetBytes)  packets received  packets sent  \\\n",
       "0                              NaN               NaN           NaN   \n",
       "1                        1541000.0            1541.0        3600.0   \n",
       "2                        2169000.0            2169.0        3600.0   \n",
       "3                              NaN               NaN           NaN   \n",
       "4                        2679000.0            2679.0        3600.0   \n",
       "\n",
       "   packetSent:count  packetSent:sum(packetBytes)  \n",
       "0               NaN                          NaN  \n",
       "1            3600.0                    3600000.0  \n",
       "2            3600.0                    3600000.0  \n",
       "3               NaN                          NaN  \n",
       "4            3600.0                    3600000.0  "
      ]
     },
     "execution_count": 70,
     "metadata": {},
     "output_type": "execute_result"
    }
   ],
   "source": [
    "df.head()"
   ]
  },
  {
   "cell_type": "code",
   "execution_count": 71,
   "metadata": {},
   "outputs": [],
   "source": [
    "df.Module = df.Module.str.split('[',expand=True)[1].str.split(']',expand=True)[0]"
   ]
  },
  {
   "cell_type": "code",
   "execution_count": 72,
   "metadata": {},
   "outputs": [],
   "source": [
    "df = df.sort_values(by=['repetition'])"
   ]
  },
  {
   "cell_type": "code",
   "execution_count": 73,
   "metadata": {},
   "outputs": [],
   "source": [
    "df_17 = df.loc[df['Module'] == '17']\n",
    "df_22 = df.loc[df['Module'] == '22']"
   ]
  },
  {
   "cell_type": "code",
   "execution_count": 74,
   "metadata": {},
   "outputs": [],
   "source": [
    "results = []\n",
    "results_x = []\n",
    "count = 0\n",
    "\n",
    "for index, row in df_17.iterrows():\n",
    "        x = df_22.iloc[count][\"echoedPk:count\"]\n",
    "        res = round((row['packetReceived:count'] + x)/(x + row['packetSent:count']), 4) \n",
    "        results.append(res)\n",
    "        res_x = round((x)/(row['packetSent:count']), 4) \n",
    "        results_x.append(res_x)\n",
    "        count+=1\n"
   ]
  },
  {
   "cell_type": "code",
   "execution_count": 75,
   "metadata": {},
   "outputs": [
    {
     "name": "stdout",
     "output_type": "stream",
     "text": [
      "[0.8514, 0.7469, 0.8041, 0.7011, 0.8663, 0.7466, 0.7864, 0.7891, 0.8279, 0.6942]\n"
     ]
    }
   ],
   "source": [
    "print (results)   "
   ]
  },
  {
   "cell_type": "code",
   "execution_count": 76,
   "metadata": {},
   "outputs": [
    {
     "name": "stdout",
     "output_type": "stream",
     "text": [
      "[0.9428, 0.8842, 0.8792, 0.905, 0.9131, 0.7919, 0.8611, 0.9294, 0.9322, 0.8706]\n"
     ]
    }
   ],
   "source": [
    "print (results_x) "
   ]
  },
  {
   "cell_type": "code",
   "execution_count": 77,
   "metadata": {},
   "outputs": [
    {
     "name": "stdout",
     "output_type": "stream",
     "text": [
      "Mean: 78.14\n"
     ]
    }
   ],
   "source": [
    "print(\"Mean:\", round(sum(results) / len(results)*100,2))"
   ]
  },
  {
   "cell_type": "code",
   "execution_count": 78,
   "metadata": {},
   "outputs": [
    {
     "name": "stdout",
     "output_type": "stream",
     "text": [
      "Mean: 89.1\n"
     ]
    }
   ],
   "source": [
    "print(\"Mean:\", round(sum(results_x) / len(results_x)*100,2))"
   ]
  },
  {
   "cell_type": "code",
   "execution_count": 81,
   "metadata": {},
   "outputs": [],
   "source": [
    "df_spd_2_x_1 = pd.DataFrame({'QueueSize':[2, 4, 5, 10, 15, 20],\n",
    "                       'PDF':[86.96, 85.54, 85.54, 89.93, 89.93, 86.96]})\n",
    "\n",
    "df_spd_2_x_1_errors = [5.18 , 5.46, 5.46, 6.98, 6.53, 5.18]\n",
    "\n",
    "df_spd_2_x_2 = pd.DataFrame({'QueueSize':[2, 4, 5, 10, 15, 20],\n",
    "                       'PDF':[87.53, 87.3, 87.92, 82.12, 90.77, 84.72]})\n",
    "\n",
    "df_spd_2_x_2_errors = [ 3.44, 3.97, 3.94, 7.59, 4.17, 5.33]\n",
    "\n",
    "\n",
    "df_spd_2_x_4 = pd.DataFrame({'QueueSize':[2, 4, 5, 10, 15, 20],\n",
    "                       'PDF':[ 84.23, 88.75, 84.64, 84.53, 87.97, 89.1]})\n",
    "\n",
    "df_spd_2_x_4_errors = [6.74, 4.44, 6.38, 7.02, 3.72, 2.62 ]\n"
   ]
  },
  {
   "cell_type": "code",
   "execution_count": 83,
   "metadata": {},
   "outputs": [
    {
     "data": {
      "image/png": "[encoded data removed]",
      "text/plain": [
       "<Figure size 936x720 with 1 Axes>"
      ]
     },
     "metadata": {
      "needs_background": "light"
     },
     "output_type": "display_data"
    }
   ],
   "source": [
    "plt.xlabel(\"Queue Size\")\n",
    "plt.ylabel(\"PDF%\")\n",
    "plt.title(\"Queue Size Parameter - 60 Nodes\")\n",
    "\n",
    "plt.xticks(np.arange(0,25, 1))\n",
    "plt.yticks(np.arange(70,101, 5))\n",
    "# plt.grid()\n",
    "\n",
    "# plt.plot(df_dd_x.PauseTime, df_dd_x.PDF,  'g-x') \n",
    "\n",
    "# plt.plot(df_spd_1_x.PauseTime, df_spd_1_x.PDF,  'b-x') \n",
    "\n",
    "# plt.plot(df_spd_2_x.PauseTime, df_spd_2_x.PDF,  'r-x') \n",
    "\n",
    "plt.ylim([74, 100])\n",
    "\n",
    "plt.errorbar(\n",
    "  x=df_spd_2_x_1.QueueSize, \n",
    "  y=df_spd_2_x_1.PDF, \n",
    "  yerr=df_spd_2_x_1_errors, \n",
    "  capsize=5,\n",
    "  marker='o', \n",
    "  color='green', \n",
    "  markersize=8, \n",
    "  linewidth=1, \n",
    "  linestyle='-')\n",
    "\n",
    "plt.errorbar(\n",
    "  x=df_spd_2_x_2.QueueSize, \n",
    "  y=df_spd_2_x_2.PDF, \n",
    "  yerr=df_spd_2_x_2_errors, \n",
    "  capsize=5,\n",
    "  marker='o', \n",
    "  color='blue', \n",
    "  markersize=8, \n",
    "  linewidth=1, \n",
    "  linestyle='-')\n",
    "\n",
    "plt.errorbar(\n",
    "  x=df_spd_2_x_4.QueueSize, \n",
    "  y=df_spd_2_x_4.PDF, \n",
    "  yerr=df_spd_2_x_4_errors, \n",
    "  capsize=5,\n",
    "  marker='o', \n",
    "  color='red', \n",
    "  markersize=8, \n",
    "  linewidth=1.2, \n",
    "  linestyle='-')\n",
    "\n",
    "red_patch = mpatches.Patch(color='red', label='4 pkt/s')\n",
    "green_patch = mpatches.Patch(color='green', label='1 pkt/s')\n",
    "blue_patch = mpatches.Patch(color='blue', label='2 pkt/s')\n",
    "\n",
    "plt.legend(handles=[ green_patch, blue_patch, red_patch])\n",
    "\n",
    "fig = plt.gcf()\n",
    "fig.set_size_inches(13, 10)\n",
    "plt.savefig('simulation-pdf-60-new-queue.png', dpi=300)"
   ]
  },
  {
   "cell_type": "code",
   "execution_count": null,
   "metadata": {},
   "outputs": [],
   "source": []
  },
  {
   "cell_type": "code",
   "execution_count": null,
   "metadata": {},
   "outputs": [],
   "source": []
  },
  {
   "cell_type": "code",
   "execution_count": null,
   "metadata": {},
   "outputs": [],
   "source": []
  },
  {
   "cell_type": "code",
   "execution_count": null,
   "metadata": {},
   "outputs": [],
   "source": []
  },
  {
   "cell_type": "code",
   "execution_count": null,
   "metadata": {},
   "outputs": [],
   "source": []
  },
  {
   "cell_type": "code",
   "execution_count": null,
   "metadata": {},
   "outputs": [],
   "source": []
  }
 ],
 "metadata": {
  "kernelspec": {
   "display_name": "Python 3",
   "language": "python",
   "name": "python3"
  },
  "language_info": {
   "codemirror_mode": {
    "name": "ipython",
    "version": 3
   },
   "file_extension": ".py",
   "mimetype": "text/x-python",
   "name": "python",
   "nbconvert_exporter": "python",
   "pygments_lexer": "ipython3",
   "version": "3.8.3"
  }
 },
 "nbformat": 4,
 "nbformat_minor": 4
}
