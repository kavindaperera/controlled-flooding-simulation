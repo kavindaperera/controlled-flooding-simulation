{
 "cells": [
  {
   "cell_type": "code",
   "execution_count": 1,
   "metadata": {},
   "outputs": [],
   "source": [
    "import pandas as pd\n",
    "import numpy as np\n",
    "import matplotlib.pyplot as plt\n",
    "import seaborn as sns\n",
    "import re\n",
    "import matplotlib.patches as mpatches"
   ]
  },
  {
   "cell_type": "markdown",
   "metadata": {},
   "source": [
    "## SPD - slack parameter study - 60 Nodes"
   ]
  },
  {
   "cell_type": "code",
   "execution_count": 2,
   "metadata": {},
   "outputs": [],
   "source": [
    "df = pd.read_csv('C:\\\\omnetpp-5.6.2\\\\samples\\\\tarp-sim\\\\results\\\\new\\\\data_6\\\\data_spd_2_n_60_p_900_pdf.csv')"
   ]
  },
  {
   "cell_type": "code",
   "execution_count": 3,
   "metadata": {},
   "outputs": [
    {
     "data": {
      "text/html": [
       "<div>\n",
       "<style scoped>\n",
       "    .dataframe tbody tr th:only-of-type {\n",
       "        vertical-align: middle;\n",
       "    }\n",
       "\n",
       "    .dataframe tbody tr th {\n",
       "        vertical-align: top;\n",
       "    }\n",
       "\n",
       "    .dataframe thead th {\n",
       "        text-align: right;\n",
       "    }\n",
       "</style>\n",
       "<table border=\"1\" class=\"dataframe\">\n",
       "  <thead>\n",
       "    <tr style=\"text-align: right;\">\n",
       "      <th></th>\n",
       "      <th>run</th>\n",
       "      <th>PauseTime</th>\n",
       "      <th>repetition</th>\n",
       "      <th>Module</th>\n",
       "      <th>echoedPk:count</th>\n",
       "      <th>echoedPk:sum(packetBytes)</th>\n",
       "      <th>packetReceived:count</th>\n",
       "      <th>packetReceived:sum(packetBytes)</th>\n",
       "      <th>packets received</th>\n",
       "      <th>packets sent</th>\n",
       "      <th>packetSent:count</th>\n",
       "      <th>packetSent:sum(packetBytes)</th>\n",
       "    </tr>\n",
       "  </thead>\n",
       "  <tbody>\n",
       "    <tr>\n",
       "      <th>0</th>\n",
       "      <td>RandomWaypointMobility-SPD-B-81-20220108-21:52...</td>\n",
       "      <td>900</td>\n",
       "      <td>21</td>\n",
       "      <td>TARPNetwork.node[17].app[0]</td>\n",
       "      <td>NaN</td>\n",
       "      <td>NaN</td>\n",
       "      <td>868.0</td>\n",
       "      <td>868000.0</td>\n",
       "      <td>868.0</td>\n",
       "      <td>900.0</td>\n",
       "      <td>900.0</td>\n",
       "      <td>900000.0</td>\n",
       "    </tr>\n",
       "    <tr>\n",
       "      <th>1</th>\n",
       "      <td>RandomWaypointMobility-SPD-B-70-20220108-21:45...</td>\n",
       "      <td>900</td>\n",
       "      <td>10</td>\n",
       "      <td>TARPNetwork.node[17].app[0]</td>\n",
       "      <td>NaN</td>\n",
       "      <td>NaN</td>\n",
       "      <td>781.0</td>\n",
       "      <td>781000.0</td>\n",
       "      <td>781.0</td>\n",
       "      <td>900.0</td>\n",
       "      <td>900.0</td>\n",
       "      <td>900000.0</td>\n",
       "    </tr>\n",
       "    <tr>\n",
       "      <th>2</th>\n",
       "      <td>RandomWaypointMobility-SPD-B-60-20220108-21:40...</td>\n",
       "      <td>900</td>\n",
       "      <td>0</td>\n",
       "      <td>TARPNetwork.node[22].app[0]</td>\n",
       "      <td>875.0</td>\n",
       "      <td>875000.0</td>\n",
       "      <td>NaN</td>\n",
       "      <td>NaN</td>\n",
       "      <td>NaN</td>\n",
       "      <td>NaN</td>\n",
       "      <td>NaN</td>\n",
       "      <td>NaN</td>\n",
       "    </tr>\n",
       "    <tr>\n",
       "      <th>3</th>\n",
       "      <td>RandomWaypointMobility-SPD-B-60-20220108-21:40...</td>\n",
       "      <td>900</td>\n",
       "      <td>0</td>\n",
       "      <td>TARPNetwork.node[17].app[0]</td>\n",
       "      <td>NaN</td>\n",
       "      <td>NaN</td>\n",
       "      <td>78.0</td>\n",
       "      <td>78000.0</td>\n",
       "      <td>78.0</td>\n",
       "      <td>900.0</td>\n",
       "      <td>900.0</td>\n",
       "      <td>900000.0</td>\n",
       "    </tr>\n",
       "    <tr>\n",
       "      <th>4</th>\n",
       "      <td>RandomWaypointMobility-SPD-B-70-20220108-21:45...</td>\n",
       "      <td>900</td>\n",
       "      <td>10</td>\n",
       "      <td>TARPNetwork.node[22].app[0]</td>\n",
       "      <td>826.0</td>\n",
       "      <td>826000.0</td>\n",
       "      <td>NaN</td>\n",
       "      <td>NaN</td>\n",
       "      <td>NaN</td>\n",
       "      <td>NaN</td>\n",
       "      <td>NaN</td>\n",
       "      <td>NaN</td>\n",
       "    </tr>\n",
       "  </tbody>\n",
       "</table>\n",
       "</div>"
      ],
      "text/plain": [
       "                                                 run  PauseTime  repetition  \\\n",
       "0  RandomWaypointMobility-SPD-B-81-20220108-21:52...        900          21   \n",
       "1  RandomWaypointMobility-SPD-B-70-20220108-21:45...        900          10   \n",
       "2  RandomWaypointMobility-SPD-B-60-20220108-21:40...        900           0   \n",
       "3  RandomWaypointMobility-SPD-B-60-20220108-21:40...        900           0   \n",
       "4  RandomWaypointMobility-SPD-B-70-20220108-21:45...        900          10   \n",
       "\n",
       "                        Module  echoedPk:count  echoedPk:sum(packetBytes)  \\\n",
       "0  TARPNetwork.node[17].app[0]             NaN                        NaN   \n",
       "1  TARPNetwork.node[17].app[0]             NaN                        NaN   \n",
       "2  TARPNetwork.node[22].app[0]           875.0                   875000.0   \n",
       "3  TARPNetwork.node[17].app[0]             NaN                        NaN   \n",
       "4  TARPNetwork.node[22].app[0]           826.0                   826000.0   \n",
       "\n",
       "   packetReceived:count  packetReceived:sum(packetBytes)  packets received  \\\n",
       "0                 868.0                         868000.0             868.0   \n",
       "1                 781.0                         781000.0             781.0   \n",
       "2                   NaN                              NaN               NaN   \n",
       "3                  78.0                          78000.0              78.0   \n",
       "4                   NaN                              NaN               NaN   \n",
       "\n",
       "   packets sent  packetSent:count  packetSent:sum(packetBytes)  \n",
       "0         900.0             900.0                     900000.0  \n",
       "1         900.0             900.0                     900000.0  \n",
       "2           NaN               NaN                          NaN  \n",
       "3         900.0             900.0                     900000.0  \n",
       "4           NaN               NaN                          NaN  "
      ]
     },
     "execution_count": 3,
     "metadata": {},
     "output_type": "execute_result"
    }
   ],
   "source": [
    "df.head()"
   ]
  },
  {
   "cell_type": "code",
   "execution_count": 4,
   "metadata": {},
   "outputs": [],
   "source": [
    "df.Module = df.Module.str.split('[',expand=True)[1].str.split(']',expand=True)[0]"
   ]
  },
  {
   "cell_type": "code",
   "execution_count": 5,
   "metadata": {},
   "outputs": [],
   "source": [
    "df = df.sort_values(by=['repetition'])"
   ]
  },
  {
   "cell_type": "code",
   "execution_count": 6,
   "metadata": {},
   "outputs": [],
   "source": [
    "df_17 = df.loc[df['Module'] == '17']\n",
    "df_22 = df.loc[df['Module'] == '22']"
   ]
  },
  {
   "cell_type": "code",
   "execution_count": 7,
   "metadata": {},
   "outputs": [],
   "source": [
    "results = []\n",
    "results_x = []\n",
    "count = 0\n",
    "\n",
    "for index, row in df_17.iterrows():\n",
    "        x = df_22.iloc[count][\"echoedPk:count\"]\n",
    "        res = round((row['packetReceived:count'] + x)/(x + row['packetSent:count']), 4) \n",
    "        results.append(res)\n",
    "        res_x = round((x)/(row['packetSent:count']), 4) \n",
    "        results_x.append(res_x)\n",
    "        count+=1\n"
   ]
  },
  {
   "cell_type": "code",
   "execution_count": 8,
   "metadata": {},
   "outputs": [
    {
     "name": "stdout",
     "output_type": "stream",
     "text": [
      "[0.5369, 0.8908, 0.5564, 0.9767, 0.571, 0.9861, 0.9983, 0.562, 0.5503, 0.9501, 0.9311, 0.4864, 0.9493, 0.9444, 0.5528, 0.9651, 0.9537, 0.9939, 0.5937, 0.5069, 0.9906, 0.9822, 0.9733, 0.9612, 0.5297, 0.9826, 0.9683, 0.9905, 0.5431, 0.9712]\n"
     ]
    }
   ],
   "source": [
    "print (results)   "
   ]
  },
  {
   "cell_type": "code",
   "execution_count": 9,
   "metadata": {},
   "outputs": [
    {
     "name": "stdout",
     "output_type": "stream",
     "text": [
      "[0.9722, 0.8211, 0.9989, 0.9989, 0.9944, 0.9933, 0.9989, 0.9989, 0.9989, 0.9133, 0.9178, 0.8344, 0.9722, 0.9989, 0.9678, 0.9422, 0.92, 0.9944, 0.9856, 0.9989, 0.9989, 0.9944, 0.9956, 0.9467, 0.9989, 0.9811, 0.9989, 0.9967, 0.9989, 0.9656]\n"
     ]
    }
   ],
   "source": [
    "print (results_x) "
   ]
  },
  {
   "cell_type": "code",
   "execution_count": 10,
   "metadata": {},
   "outputs": [
    {
     "name": "stdout",
     "output_type": "stream",
     "text": [
      "Mean: 81.16\n"
     ]
    }
   ],
   "source": [
    "print(\"Mean:\", round(sum(results) / len(results)*100,2))"
   ]
  },
  {
   "cell_type": "code",
   "execution_count": 11,
   "metadata": {},
   "outputs": [
    {
     "name": "stdout",
     "output_type": "stream",
     "text": [
      "Mean: 96.99\n"
     ]
    }
   ],
   "source": [
    "print(\"Mean:\", round(sum(results_x) / len(results_x)*100,2))"
   ]
  },
  {
   "cell_type": "code",
   "execution_count": 12,
   "metadata": {},
   "outputs": [],
   "source": [
    "df_dd_x = pd.DataFrame({'PauseTime':[0, 30, 60, 90, 120, 300, 600, 900],\n",
    "                       'PDF':[98.17, 96.41, 95.8, 96.56, 93.03, 95.88, 98.27, 99.33]})\n",
    "\n",
    "dd_x_errors = [0.591, 1.02, 1.35, 1.18, 2.21, 2.85, 0.948, 0.583]\n",
    "\n",
    "\n",
    "df_spd_1_x = pd.DataFrame({'PauseTime':[0, 30, 60, 90, 120, 300, 600, 900],\n",
    "                       'PDF':[74.77, 71.46, 68.33, 72.6, 66.8, 80.9, 88.88, 94.6]})\n",
    "\n",
    "spd_1_x_errors = [2.74, 2.49, 3.28, 2.33, 3.58, 3.2, 2.13, 2.32]\n",
    "\n",
    "\n",
    "df_spd_2_x = pd.DataFrame({'PauseTime':[0, 30, 60, 90, 120, 300, 600, 900],\n",
    "                       'PDF':[86.44, 81.91, 80.59, 85.38, 77.67, 88.27, 92.86, 96.99]})\n",
    "\n",
    "spd_2_x_errors = [2.05, 2.15, 2.76, 1.98, 3.66, 2.93, 1.99, 1.65]"
   ]
  },
  {
   "cell_type": "code",
   "execution_count": 14,
   "metadata": {},
   "outputs": [
    {
     "data": {
      "image/png": "[encoded data removed]",
      "text/plain": [
       "<Figure size 1152x720 with 1 Axes>"
      ]
     },
     "metadata": {
      "needs_background": "light"
     },
     "output_type": "display_data"
    }
   ],
   "source": [
    "plt.xlabel(\"Pause Time (sec)\", fontsize=20)\n",
    "plt.ylabel(\"PDR%\", fontsize=20)\n",
    "plt.title(\"Packet Delivery Ratio - 60 Nodes\", fontsize=20)\n",
    "\n",
    "plt.xticks(np.arange(0,901, 30), fontsize=10)\n",
    "plt.yticks(np.arange(0,101, 5), fontsize=10)\n",
    "# plt.grid()\n",
    "\n",
    "# plt.plot(df_dd_x.PauseTime, df_dd_x.PDF,  'g-x') \n",
    "\n",
    "# plt.plot(df_spd_1_x.PauseTime, df_spd_1_x.PDF,  'b-x') \n",
    "\n",
    "# plt.plot(df_spd_2_x.PauseTime, df_spd_2_x.PDF,  'r-x') \n",
    "\n",
    "plt.ylim([50, 100])\n",
    "\n",
    "plt.errorbar(\n",
    "  x=df_dd_x.PauseTime, \n",
    "  y=df_dd_x.PDF, \n",
    "  yerr=dd_x_errors, \n",
    "  capsize=5,\n",
    "  marker='o', \n",
    "  color='#00A36C', \n",
    "  markersize=8, \n",
    "  linewidth=1.5, \n",
    "  linestyle='-')\n",
    "\n",
    "plt.errorbar(\n",
    "  x=df_spd_1_x.PauseTime, \n",
    "  y=df_spd_1_x.PDF, \n",
    "  yerr=spd_1_x_errors, \n",
    "  capsize=5,\n",
    "  marker='o', \n",
    "  color='#4682B4', \n",
    "  markersize=8, \n",
    "  linewidth=1.5, \n",
    "  linestyle='-')\n",
    "\n",
    "plt.errorbar(\n",
    "  x=df_spd_2_x.PauseTime, \n",
    "  y=df_spd_2_x.PDF, \n",
    "  yerr=spd_2_x_errors, \n",
    "  capsize=5,\n",
    "  marker='o', \n",
    "  color='#EE4B2B', \n",
    "  markersize=8, \n",
    "  linewidth=1.5, \n",
    "  linestyle='-')\n",
    "\n",
    "red_patch = mpatches.Patch(color='#EE4B2B', label='TARP (slack=2)')\n",
    "green_patch = mpatches.Patch(color='#00A36C', label='Simple Flooding')\n",
    "blue_patch = mpatches.Patch(color='#4682B4', label='TARP (slack=1)')\n",
    "\n",
    "plt.legend(handles=[ green_patch, blue_patch, red_patch])\n",
    "\n",
    "fig = plt.gcf()\n",
    "fig.set_size_inches(16, 10)\n",
    "plt.savefig('final-simulation-pdf-60-new-1.png', dpi=300)"
   ]
  },
  {
   "cell_type": "code",
   "execution_count": null,
   "metadata": {},
   "outputs": [],
   "source": []
  },
  {
   "cell_type": "code",
   "execution_count": null,
   "metadata": {},
   "outputs": [],
   "source": []
  },
  {
   "cell_type": "code",
   "execution_count": 15,
   "metadata": {},
   "outputs": [],
   "source": [
    "df_tarp_1 = pd.read_csv('C:\\\\omnetpp-5.6.2\\\\samples\\\\tarp-sim\\\\results\\\\new\\\\data_11\\\\data_spd_1_n_60_p_900_dpf.csv')\n",
    "df_tarp_2 = pd.read_csv('C:\\\\omnetpp-5.6.2\\\\samples\\\\tarp-sim\\\\results\\\\new\\\\data_11\\\\data_spd_2_n_60_p_900_dpf.csv')\n",
    "df_sp = pd.read_csv('C:\\\\omnetpp-5.6.2\\\\samples\\\\tarp-sim\\\\results\\\\new\\\\data_11\\\\data_dd_n_60_p_900_dpf.csv')"
   ]
  },
  {
   "cell_type": "code",
   "execution_count": 19,
   "metadata": {},
   "outputs": [],
   "source": [
    "df_tarp_1.Module = df_tarp_1.Module.str.split('[',expand=True)[1].str.split(']',expand=True)[0]\n",
    "df_tarp_2.Module = df_tarp_2.Module.str.split('[',expand=True)[1].str.split(']',expand=True)[0]\n",
    "df_sp.Module = df_sp.Module.str.split('[',expand=True)[1].str.split(']',expand=True)[0]"
   ]
  },
  {
   "cell_type": "code",
   "execution_count": 20,
   "metadata": {},
   "outputs": [],
   "source": [
    "# Calculate the average\n",
    "tarp_1_mean = np.mean(df_tarp_1.nbDataPacketsForwarded)\n",
    "tarp_2_mean = np.mean(df_tarp_2.nbDataPacketsForwarded)\n",
    "sp_mean = np.mean(df_sp.nbDataPacketsForwarded)\n",
    "\n",
    "# Calculate the standard deviation\n",
    "tarp_1_std = np.std(df_tarp_1.nbDataPacketsForwarded)\n",
    "tarp_2_std = np.std(df_tarp_2.nbDataPacketsForwarded)\n",
    "sp_std = np.std(df_sp.nbDataPacketsForwarded)"
   ]
  },
  {
   "cell_type": "code",
   "execution_count": 21,
   "metadata": {},
   "outputs": [],
   "source": [
    "# Create lists for the plot\n",
    "protocols = [ \"Simple Flooding\", 'TARP (slack=2)', 'TARP (slack=1)']\n",
    "x_pos = np.arange(len(protocols))\n",
    "CTEs = [sp_mean, tarp_2_mean, tarp_1_mean]\n",
    "error = [sp_std, tarp_2_std, tarp_1_std]"
   ]
  },
  {
   "cell_type": "code",
   "execution_count": 50,
   "metadata": {},
   "outputs": [
    {
     "data": {
      "image/png": "[encoded data removed]",
      "text/plain": [
       "<Figure size 576x360 with 1 Axes>"
      ]
     },
     "metadata": {
      "needs_background": "light"
     },
     "output_type": "display_data"
    }
   ],
   "source": [
    "# Build the plot\n",
    "fig, ax = plt.subplots()\n",
    "ax.bar(x_pos, CTEs, yerr=error, align='center', alpha=0.5, ecolor='black', capsize=10, color=['#00A36C', '#4682B4', '#EE4B2B'])\n",
    "ax.set_ylabel('Average no. of packets', fontsize=15)\n",
    "ax.set_xticks(x_pos)\n",
    "plt.xlabel(\"Protocol\", fontsize=15)\n",
    "ax.set_xticklabels(protocols, fontsize=12)\n",
    "ax.set_title('Average no. of packets forwarded by a node - 60 Nodes', fontsize=15)\n",
    "ax.yaxis.grid(False)\n",
    "\n",
    "fig.set_size_inches(8, 5)\n",
    "\n",
    "# Save the figure and show\n",
    "plt.tight_layout()\n",
    "plt.savefig('bar_plot_with_error_bars.png', dpi=300)\n",
    "plt.show()"
   ]
  },
  {
   "cell_type": "code",
   "execution_count": null,
   "metadata": {},
   "outputs": [],
   "source": []
  },
  {
   "cell_type": "code",
   "execution_count": null,
   "metadata": {},
   "outputs": [],
   "source": []
  },
  {
   "cell_type": "code",
   "execution_count": null,
   "metadata": {},
   "outputs": [],
   "source": []
  }
 ],
 "metadata": {
  "kernelspec": {
   "display_name": "Python 3",
   "language": "python",
   "name": "python3"
  },
  "language_info": {
   "codemirror_mode": {
    "name": "ipython",
    "version": 3
   },
   "file_extension": ".py",
   "mimetype": "text/x-python",
   "name": "python",
   "nbconvert_exporter": "python",
   "pygments_lexer": "ipython3",
   "version": "3.8.3"
  }
 },
 "nbformat": 4,
 "nbformat_minor": 4
}
