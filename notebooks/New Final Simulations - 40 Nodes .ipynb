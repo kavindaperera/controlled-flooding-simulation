{
 "cells": [
  {
   "cell_type": "code",
   "execution_count": 1,
   "metadata": {},
   "outputs": [],
   "source": [
    "import pandas as pd\n",
    "import numpy as np\n",
    "import matplotlib.pyplot as plt\n",
    "import seaborn as sns\n",
    "import re\n",
    "import matplotlib.patches as mpatches"
   ]
  },
  {
   "cell_type": "markdown",
   "metadata": {},
   "source": [
    "## SPD - slack parameter study - 40 Nodes"
   ]
  },
  {
   "cell_type": "code",
   "execution_count": 80,
   "metadata": {},
   "outputs": [],
   "source": [
    "df = pd.read_csv('C:\\\\omnetpp-5.6.2\\\\samples\\\\tarp-sim\\\\results\\\\new\\\\data_3\\\\data_spd_2_n_40_p_900_pdf.csv')"
   ]
  },
  {
   "cell_type": "code",
   "execution_count": 81,
   "metadata": {},
   "outputs": [
    {
     "data": {
      "text/html": [
       "<div>\n",
       "<style scoped>\n",
       "    .dataframe tbody tr th:only-of-type {\n",
       "        vertical-align: middle;\n",
       "    }\n",
       "\n",
       "    .dataframe tbody tr th {\n",
       "        vertical-align: top;\n",
       "    }\n",
       "\n",
       "    .dataframe thead th {\n",
       "        text-align: right;\n",
       "    }\n",
       "</style>\n",
       "<table border=\"1\" class=\"dataframe\">\n",
       "  <thead>\n",
       "    <tr style=\"text-align: right;\">\n",
       "      <th></th>\n",
       "      <th>run</th>\n",
       "      <th>PauseTime</th>\n",
       "      <th>repetition</th>\n",
       "      <th>Module</th>\n",
       "      <th>echoedPk:count</th>\n",
       "      <th>echoedPk:sum(packetBytes)</th>\n",
       "      <th>packetReceived:count</th>\n",
       "      <th>packetReceived:sum(packetBytes)</th>\n",
       "      <th>packets received</th>\n",
       "      <th>packets sent</th>\n",
       "      <th>packetSent:count</th>\n",
       "      <th>packetSent:sum(packetBytes)</th>\n",
       "    </tr>\n",
       "  </thead>\n",
       "  <tbody>\n",
       "    <tr>\n",
       "      <th>0</th>\n",
       "      <td>RandomWaypointMobility-SPD-B-81-20220107-23:53...</td>\n",
       "      <td>900</td>\n",
       "      <td>21</td>\n",
       "      <td>TARPNetwork.node[17].app[0]</td>\n",
       "      <td>NaN</td>\n",
       "      <td>NaN</td>\n",
       "      <td>861.0</td>\n",
       "      <td>861000.0</td>\n",
       "      <td>861.0</td>\n",
       "      <td>900.0</td>\n",
       "      <td>900.0</td>\n",
       "      <td>900000.0</td>\n",
       "    </tr>\n",
       "    <tr>\n",
       "      <th>1</th>\n",
       "      <td>RandomWaypointMobility-SPD-B-70-20220107-23:51...</td>\n",
       "      <td>900</td>\n",
       "      <td>10</td>\n",
       "      <td>TARPNetwork.node[17].app[0]</td>\n",
       "      <td>NaN</td>\n",
       "      <td>NaN</td>\n",
       "      <td>21.0</td>\n",
       "      <td>21000.0</td>\n",
       "      <td>21.0</td>\n",
       "      <td>900.0</td>\n",
       "      <td>900.0</td>\n",
       "      <td>900000.0</td>\n",
       "    </tr>\n",
       "    <tr>\n",
       "      <th>2</th>\n",
       "      <td>RandomWaypointMobility-SPD-B-60-20220107-23:49...</td>\n",
       "      <td>900</td>\n",
       "      <td>0</td>\n",
       "      <td>TARPNetwork.node[22].app[0]</td>\n",
       "      <td>794.0</td>\n",
       "      <td>794000.0</td>\n",
       "      <td>NaN</td>\n",
       "      <td>NaN</td>\n",
       "      <td>NaN</td>\n",
       "      <td>NaN</td>\n",
       "      <td>NaN</td>\n",
       "      <td>NaN</td>\n",
       "    </tr>\n",
       "    <tr>\n",
       "      <th>3</th>\n",
       "      <td>RandomWaypointMobility-SPD-B-60-20220107-23:49...</td>\n",
       "      <td>900</td>\n",
       "      <td>0</td>\n",
       "      <td>TARPNetwork.node[17].app[0]</td>\n",
       "      <td>NaN</td>\n",
       "      <td>NaN</td>\n",
       "      <td>1.0</td>\n",
       "      <td>1000.0</td>\n",
       "      <td>1.0</td>\n",
       "      <td>900.0</td>\n",
       "      <td>900.0</td>\n",
       "      <td>900000.0</td>\n",
       "    </tr>\n",
       "    <tr>\n",
       "      <th>4</th>\n",
       "      <td>RandomWaypointMobility-SPD-B-70-20220107-23:51...</td>\n",
       "      <td>900</td>\n",
       "      <td>10</td>\n",
       "      <td>TARPNetwork.node[22].app[0]</td>\n",
       "      <td>68.0</td>\n",
       "      <td>68000.0</td>\n",
       "      <td>NaN</td>\n",
       "      <td>NaN</td>\n",
       "      <td>NaN</td>\n",
       "      <td>NaN</td>\n",
       "      <td>NaN</td>\n",
       "      <td>NaN</td>\n",
       "    </tr>\n",
       "  </tbody>\n",
       "</table>\n",
       "</div>"
      ],
      "text/plain": [
       "                                                 run  PauseTime  repetition  \\\n",
       "0  RandomWaypointMobility-SPD-B-81-20220107-23:53...        900          21   \n",
       "1  RandomWaypointMobility-SPD-B-70-20220107-23:51...        900          10   \n",
       "2  RandomWaypointMobility-SPD-B-60-20220107-23:49...        900           0   \n",
       "3  RandomWaypointMobility-SPD-B-60-20220107-23:49...        900           0   \n",
       "4  RandomWaypointMobility-SPD-B-70-20220107-23:51...        900          10   \n",
       "\n",
       "                        Module  echoedPk:count  echoedPk:sum(packetBytes)  \\\n",
       "0  TARPNetwork.node[17].app[0]             NaN                        NaN   \n",
       "1  TARPNetwork.node[17].app[0]             NaN                        NaN   \n",
       "2  TARPNetwork.node[22].app[0]           794.0                   794000.0   \n",
       "3  TARPNetwork.node[17].app[0]             NaN                        NaN   \n",
       "4  TARPNetwork.node[22].app[0]            68.0                    68000.0   \n",
       "\n",
       "   packetReceived:count  packetReceived:sum(packetBytes)  packets received  \\\n",
       "0                 861.0                         861000.0             861.0   \n",
       "1                  21.0                          21000.0              21.0   \n",
       "2                   NaN                              NaN               NaN   \n",
       "3                   1.0                           1000.0               1.0   \n",
       "4                   NaN                              NaN               NaN   \n",
       "\n",
       "   packets sent  packetSent:count  packetSent:sum(packetBytes)  \n",
       "0         900.0             900.0                     900000.0  \n",
       "1         900.0             900.0                     900000.0  \n",
       "2           NaN               NaN                          NaN  \n",
       "3         900.0             900.0                     900000.0  \n",
       "4           NaN               NaN                          NaN  "
      ]
     },
     "execution_count": 81,
     "metadata": {},
     "output_type": "execute_result"
    }
   ],
   "source": [
    "df.head()"
   ]
  },
  {
   "cell_type": "code",
   "execution_count": 82,
   "metadata": {},
   "outputs": [],
   "source": [
    "df.Module = df.Module.str.split('[',expand=True)[1].str.split(']',expand=True)[0]"
   ]
  },
  {
   "cell_type": "code",
   "execution_count": 83,
   "metadata": {},
   "outputs": [],
   "source": [
    "df = df.sort_values(by=['repetition'])"
   ]
  },
  {
   "cell_type": "code",
   "execution_count": 84,
   "metadata": {},
   "outputs": [],
   "source": [
    "df_17 = df.loc[df['Module'] == '17']\n",
    "df_22 = df.loc[df['Module'] == '22']"
   ]
  },
  {
   "cell_type": "code",
   "execution_count": 85,
   "metadata": {},
   "outputs": [],
   "source": [
    "results = []\n",
    "results_x = []\n",
    "count = 0\n",
    "\n",
    "for index, row in df_17.iterrows():\n",
    "        x = df_22.iloc[count][\"echoedPk:count\"]\n",
    "        res = round((row['packetReceived:count'] + x)/(x + row['packetSent:count']), 4) \n",
    "        results.append(res)\n",
    "        res_x = round((x)/(row['packetSent:count']), 4) \n",
    "        results_x.append(res_x)\n",
    "        count+=1\n"
   ]
  },
  {
   "cell_type": "code",
   "execution_count": 86,
   "metadata": {},
   "outputs": [
    {
     "name": "stdout",
     "output_type": "stream",
     "text": [
      "[0.4693, 0.9658, 0.9794, 0.9532, 0.9878, 0.9358, 0.9465, 0.9561, 0.9516, 0.9429, 0.0919, 0.1849, 0.9704, 0.5592, 0.166, 0.9861, 0.5162, 0.9882, 0.9383, 0.1238, 0.5469, 0.9782, 0.9473, 0.0392, 0.1385, 0.9498, 0.9071, 0.978, 0.9541, 0.9497]\n"
     ]
    }
   ],
   "source": [
    "print (results)   "
   ]
  },
  {
   "cell_type": "code",
   "execution_count": 87,
   "metadata": {},
   "outputs": [
    {
     "name": "stdout",
     "output_type": "stream",
     "text": [
      "[0.8822, 0.9833, 0.9989, 0.9956, 0.9989, 0.8856, 0.93, 0.9989, 0.9989, 0.9067, 0.0756, 0.1178, 0.9489, 0.9989, 0.0978, 0.9989, 0.9844, 0.9844, 0.8911, 0.0767, 0.9911, 0.9911, 0.9189, 0.0211, 0.0833, 0.9911, 0.8422, 0.9733, 0.9122, 0.9456]\n"
     ]
    }
   ],
   "source": [
    "print (results_x) "
   ]
  },
  {
   "cell_type": "code",
   "execution_count": 88,
   "metadata": {},
   "outputs": [
    {
     "name": "stdout",
     "output_type": "stream",
     "text": [
      "Mean: 73.34\n"
     ]
    }
   ],
   "source": [
    "print(\"Mean:\", round(sum(results) / len(results)*100,2))"
   ]
  },
  {
   "cell_type": "code",
   "execution_count": 89,
   "metadata": {},
   "outputs": [
    {
     "name": "stdout",
     "output_type": "stream",
     "text": [
      "Mean: 78.08\n"
     ]
    }
   ],
   "source": [
    "print(\"Mean:\", round(sum(results_x) / len(results_x)*100,2))"
   ]
  },
  {
   "cell_type": "code",
   "execution_count": 2,
   "metadata": {},
   "outputs": [],
   "source": [
    "df_dd_x = pd.DataFrame({'PauseTime':[0, 30, 60, 90, 120, 300, 600, 900],\n",
    "                       'PDF':[90.18, 83.92, 81.15, 80.29, 74.82, 75.87, 66.47, 80.8]})\n",
    "\n",
    "dd_x_errors = [1.58, 2.15, 2.89, 2.92, 4.59, 6.21, 10.5, 12.7]\n",
    "\n",
    "\n",
    "df_spd_1_x = pd.DataFrame({'PauseTime':[0, 30, 60, 90, 120, 300, 600, 900],\n",
    "                       'PDF':[64.03, 56.37, 51.55, 53.91, 50.97, 62.06, 56.86, 76.08]})\n",
    "\n",
    "spd_1_x_errors = [2.91, 3.03, 2.84, 4.1, 3.65, 6.16, 10.5, 12.6]\n",
    "\n",
    "\n",
    "df_spd_2_x = pd.DataFrame({'PauseTime':[0, 30, 60, 90, 120, 300, 600, 900],\n",
    "                       'PDF':[72.84, 66.88, 62.46, 61.42, 60.45, 67.94, 60.2, 78.08]})\n",
    "\n",
    "spd_2_x_errors = [3.23, 2.31, 3.14, 3.75, 4.04, 6.3, 10.4, 12.7]"
   ]
  },
  {
   "cell_type": "code",
   "execution_count": 4,
   "metadata": {},
   "outputs": [
    {
     "data": {
      "image/png": "[encoded data removed]",
      "text/plain": [
       "<Figure size 1152x720 with 1 Axes>"
      ]
     },
     "metadata": {
      "needs_background": "light"
     },
     "output_type": "display_data"
    }
   ],
   "source": [
    "plt.xlabel(\"Pause Time (sec)\")\n",
    "plt.ylabel(\"PDF%\")\n",
    "plt.title(\"40 Nodes\")\n",
    "\n",
    "plt.xticks(np.arange(0,901, 30))\n",
    "plt.yticks(np.arange(0,101, 5))\n",
    "# plt.grid()\n",
    "\n",
    "# plt.plot(df_dd_x.PauseTime, df_dd_x.PDF,  'g-x') \n",
    "\n",
    "# plt.plot(df_spd_1_x.PauseTime, df_spd_1_x.PDF,  'b-x') \n",
    "\n",
    "# plt.plot(df_spd_2_x.PauseTime, df_spd_2_x.PDF,  'r-x') \n",
    "\n",
    "plt.ylim([45, 100])\n",
    "\n",
    "plt.errorbar(\n",
    "  x=df_dd_x.PauseTime, \n",
    "  y=df_dd_x.PDF, \n",
    "  yerr=dd_x_errors, \n",
    "  capsize=5,\n",
    "  marker='o', \n",
    "  color='green', \n",
    "  markersize=8, \n",
    "  linewidth=1, \n",
    "  linestyle='-')\n",
    "\n",
    "plt.errorbar(\n",
    "  x=df_spd_1_x.PauseTime, \n",
    "  y=df_spd_1_x.PDF, \n",
    "  yerr=spd_1_x_errors, \n",
    "  capsize=5,\n",
    "  marker='o', \n",
    "  color='blue', \n",
    "  markersize=8, \n",
    "  linewidth=1, \n",
    "  linestyle='-')\n",
    "\n",
    "plt.errorbar(\n",
    "  x=df_spd_2_x.PauseTime, \n",
    "  y=df_spd_2_x.PDF, \n",
    "  yerr=spd_2_x_errors, \n",
    "  capsize=5,\n",
    "  marker='o', \n",
    "  color='red', \n",
    "  markersize=8, \n",
    "  linewidth=1.2, \n",
    "  linestyle='-')\n",
    "\n",
    "red_patch = mpatches.Patch(color='red', label='TARP (slack=2)')\n",
    "green_patch = mpatches.Patch(color='green', label='Simple Flooding')\n",
    "blue_patch = mpatches.Patch(color='blue', label='TARP (slack=1)')\n",
    "\n",
    "plt.legend(handles=[ green_patch, blue_patch, red_patch])\n",
    "\n",
    "fig = plt.gcf()\n",
    "fig.set_size_inches(16, 10)\n",
    "plt.savefig('final-simulation-pdf-40-new-1.png', dpi=300)"
   ]
  },
  {
   "cell_type": "code",
   "execution_count": null,
   "metadata": {},
   "outputs": [],
   "source": []
  },
  {
   "cell_type": "code",
   "execution_count": null,
   "metadata": {},
   "outputs": [],
   "source": []
  },
  {
   "cell_type": "code",
   "execution_count": null,
   "metadata": {},
   "outputs": [],
   "source": []
  },
  {
   "cell_type": "code",
   "execution_count": null,
   "metadata": {},
   "outputs": [],
   "source": []
  },
  {
   "cell_type": "code",
   "execution_count": null,
   "metadata": {},
   "outputs": [],
   "source": []
  },
  {
   "cell_type": "code",
   "execution_count": null,
   "metadata": {},
   "outputs": [],
   "source": []
  }
 ],
 "metadata": {
  "kernelspec": {
   "display_name": "Python 3",
   "language": "python",
   "name": "python3"
  },
  "language_info": {
   "codemirror_mode": {
    "name": "ipython",
    "version": 3
   },
   "file_extension": ".py",
   "mimetype": "text/x-python",
   "name": "python",
   "nbconvert_exporter": "python",
   "pygments_lexer": "ipython3",
   "version": "3.8.3"
  }
 },
 "nbformat": 4,
 "nbformat_minor": 4
}
