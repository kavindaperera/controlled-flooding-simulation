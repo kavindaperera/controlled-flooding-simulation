{
 "cells": [
  {
   "cell_type": "code",
   "execution_count": 3,
   "metadata": {},
   "outputs": [],
   "source": [
    "import pandas as pd\n",
    "import numpy as np\n",
    "import matplotlib.pyplot as plt\n",
    "import seaborn as sns\n",
    "import re\n",
    "import matplotlib.patches as mpatches"
   ]
  },
  {
   "cell_type": "code",
   "execution_count": 112,
   "metadata": {},
   "outputs": [],
   "source": [
    "df_dd_n_60_p_0 = pd.read_csv('C:\\\\omnetpp-5.6.2\\\\samples\\\\tarp-sim\\\\results\\\\data_4\\\\data_dd_n_60_p_0.csv')\n",
    "df_dd_n_60_p_50 = pd.read_csv('C:\\\\omnetpp-5.6.2\\\\samples\\\\tarp-sim\\\\results\\\\data_4\\\\data_dd_n_60_p_50.csv')\n",
    "df_dd_n_60_p_100 = pd.read_csv('C:\\\\omnetpp-5.6.2\\\\samples\\\\tarp-sim\\\\results\\\\data_4\\\\data_dd_n_60_p_100.csv')"
   ]
  },
  {
   "cell_type": "code",
   "execution_count": 113,
   "metadata": {},
   "outputs": [],
   "source": [
    "df_dd_n_60_p_0.Module = df_dd_n_60_p_0.Module.str.split('[',expand=True)[1].str.split(']',expand=True)[0]\n",
    "df_dd_n_60_p_50.Module = df_dd_n_60_p_50.Module.str.split('[',expand=True)[1].str.split(']',expand=True)[0]\n",
    "df_dd_n_60_p_100.Module = df_dd_n_60_p_100.Module.str.split('[',expand=True)[1].str.split(']',expand=True)[0]"
   ]
  },
  {
   "cell_type": "code",
   "execution_count": 114,
   "metadata": {},
   "outputs": [],
   "source": [
    "df_dd_n_60_p_0['protocol'] = 'Simple'"
   ]
  },
  {
   "cell_type": "code",
   "execution_count": 115,
   "metadata": {},
   "outputs": [],
   "source": [
    "df_dd_n_60_p_50['protocol'] = 'Simple'"
   ]
  },
  {
   "cell_type": "code",
   "execution_count": 116,
   "metadata": {},
   "outputs": [],
   "source": [
    "df_dd_n_60_p_100['protocol'] = 'Simple'"
   ]
  },
  {
   "cell_type": "code",
   "execution_count": 117,
   "metadata": {},
   "outputs": [],
   "source": [
    "df_spd_1_n_60_p_0 = pd.read_csv('C:\\\\omnetpp-5.6.2\\\\samples\\\\tarp-sim\\\\results\\\\data_4\\\\data_spd_1_n_60_p_0.csv')\n",
    "df_spd_1_n_60_p_50 = pd.read_csv('C:\\\\omnetpp-5.6.2\\\\samples\\\\tarp-sim\\\\results\\\\data_4\\\\data_spd_1_n_60_p_50.csv')\n",
    "df_spd_1_n_60_p_100 = pd.read_csv('C:\\\\omnetpp-5.6.2\\\\samples\\\\tarp-sim\\\\results\\\\data_4\\\\data_spd_1_n_60_p_100.csv')"
   ]
  },
  {
   "cell_type": "code",
   "execution_count": 118,
   "metadata": {},
   "outputs": [],
   "source": [
    "df_spd_1_n_60_p_0.Module = df_spd_1_n_60_p_0.Module.str.split('[',expand=True)[1].str.split(']',expand=True)[0]\n",
    "df_spd_1_n_60_p_50.Module = df_spd_1_n_60_p_50.Module.str.split('[',expand=True)[1].str.split(']',expand=True)[0]\n",
    "df_spd_1_n_60_p_100.Module = df_spd_1_n_60_p_100.Module.str.split('[',expand=True)[1].str.split(']',expand=True)[0]"
   ]
  },
  {
   "cell_type": "code",
   "execution_count": 119,
   "metadata": {},
   "outputs": [],
   "source": [
    "df_spd_1_n_60_p_0['protocol'] = 'TARP-slack-1'"
   ]
  },
  {
   "cell_type": "code",
   "execution_count": 120,
   "metadata": {},
   "outputs": [],
   "source": [
    "df_spd_1_n_60_p_50['protocol'] = 'TARP-slack-1'"
   ]
  },
  {
   "cell_type": "code",
   "execution_count": 121,
   "metadata": {},
   "outputs": [],
   "source": [
    "df_spd_1_n_60_p_100['protocol'] = 'TARP-slack-1'"
   ]
  },
  {
   "cell_type": "code",
   "execution_count": 122,
   "metadata": {},
   "outputs": [],
   "source": [
    "df_spd_2_n_60_p_0 = pd.read_csv('C:\\\\omnetpp-5.6.2\\\\samples\\\\tarp-sim\\\\results\\\\data_4\\\\data_spd_2_n_60_p_0.csv')\n",
    "df_spd_2_n_60_p_50 = pd.read_csv('C:\\\\omnetpp-5.6.2\\\\samples\\\\tarp-sim\\\\results\\\\data_4\\\\data_spd_2_n_60_p_50.csv')\n",
    "df_spd_2_n_60_p_100 = pd.read_csv('C:\\\\omnetpp-5.6.2\\\\samples\\\\tarp-sim\\\\results\\\\data_4\\\\data_spd_2_n_60_p_100.csv')"
   ]
  },
  {
   "cell_type": "code",
   "execution_count": 123,
   "metadata": {},
   "outputs": [],
   "source": [
    "df_spd_2_n_60_p_0.Module = df_spd_2_n_60_p_0.Module.str.split('[',expand=True)[1].str.split(']',expand=True)[0]\n",
    "df_spd_2_n_60_p_50.Module = df_spd_2_n_60_p_50.Module.str.split('[',expand=True)[1].str.split(']',expand=True)[0]\n",
    "df_spd_2_n_60_p_100.Module = df_spd_2_n_60_p_100.Module.str.split('[',expand=True)[1].str.split(']',expand=True)[0]"
   ]
  },
  {
   "cell_type": "code",
   "execution_count": 124,
   "metadata": {},
   "outputs": [],
   "source": [
    "df_spd_2_n_60_p_0['protocol'] = 'TARP-slack-2'"
   ]
  },
  {
   "cell_type": "code",
   "execution_count": 125,
   "metadata": {},
   "outputs": [],
   "source": [
    "df_spd_2_n_60_p_50['protocol'] = 'TARP-slack-2'"
   ]
  },
  {
   "cell_type": "code",
   "execution_count": 126,
   "metadata": {},
   "outputs": [],
   "source": [
    "df_spd_2_n_60_p_100['protocol'] = 'TARP-slack-2'"
   ]
  },
  {
   "cell_type": "code",
   "execution_count": 127,
   "metadata": {},
   "outputs": [],
   "source": [
    "frames = [df_dd_n_60_p_0, df_dd_n_60_p_50, df_dd_n_60_p_100,\n",
    "         df_spd_1_n_60_p_0, df_spd_1_n_60_p_50, df_spd_1_n_60_p_100,\n",
    "         df_spd_2_n_60_p_0, df_spd_2_n_60_p_50, df_spd_2_n_60_p_100]"
   ]
  },
  {
   "cell_type": "code",
   "execution_count": 128,
   "metadata": {},
   "outputs": [],
   "source": [
    "result = pd.concat(frames)"
   ]
  },
  {
   "cell_type": "code",
   "execution_count": 129,
   "metadata": {},
   "outputs": [
    {
     "data": {
      "text/html": [
       "<div>\n",
       "<style scoped>\n",
       "    .dataframe tbody tr th:only-of-type {\n",
       "        vertical-align: middle;\n",
       "    }\n",
       "\n",
       "    .dataframe tbody tr th {\n",
       "        vertical-align: top;\n",
       "    }\n",
       "\n",
       "    .dataframe thead th {\n",
       "        text-align: right;\n",
       "    }\n",
       "</style>\n",
       "<table border=\"1\" class=\"dataframe\">\n",
       "  <thead>\n",
       "    <tr style=\"text-align: right;\">\n",
       "      <th></th>\n",
       "      <th>run</th>\n",
       "      <th>PauseTime</th>\n",
       "      <th>repetition</th>\n",
       "      <th>Module</th>\n",
       "      <th>nbDataPacketsForwarded</th>\n",
       "      <th>protocol</th>\n",
       "    </tr>\n",
       "  </thead>\n",
       "  <tbody>\n",
       "    <tr>\n",
       "      <th>0</th>\n",
       "      <td>RandomWaypointMobility-DD-0-20211129-22:43:04-...</td>\n",
       "      <td>0</td>\n",
       "      <td>0</td>\n",
       "      <td>15</td>\n",
       "      <td>1565</td>\n",
       "      <td>Simple</td>\n",
       "    </tr>\n",
       "    <tr>\n",
       "      <th>1</th>\n",
       "      <td>RandomWaypointMobility-DD-0-20211129-22:43:04-...</td>\n",
       "      <td>0</td>\n",
       "      <td>0</td>\n",
       "      <td>25</td>\n",
       "      <td>1513</td>\n",
       "      <td>Simple</td>\n",
       "    </tr>\n",
       "    <tr>\n",
       "      <th>2</th>\n",
       "      <td>RandomWaypointMobility-DD-0-20211129-22:43:04-...</td>\n",
       "      <td>0</td>\n",
       "      <td>0</td>\n",
       "      <td>24</td>\n",
       "      <td>1562</td>\n",
       "      <td>Simple</td>\n",
       "    </tr>\n",
       "    <tr>\n",
       "      <th>3</th>\n",
       "      <td>RandomWaypointMobility-DD-0-20211129-22:43:04-...</td>\n",
       "      <td>0</td>\n",
       "      <td>0</td>\n",
       "      <td>23</td>\n",
       "      <td>1583</td>\n",
       "      <td>Simple</td>\n",
       "    </tr>\n",
       "    <tr>\n",
       "      <th>4</th>\n",
       "      <td>RandomWaypointMobility-DD-0-20211129-22:43:04-...</td>\n",
       "      <td>0</td>\n",
       "      <td>0</td>\n",
       "      <td>22</td>\n",
       "      <td>0</td>\n",
       "      <td>Simple</td>\n",
       "    </tr>\n",
       "    <tr>\n",
       "      <th>...</th>\n",
       "      <td>...</td>\n",
       "      <td>...</td>\n",
       "      <td>...</td>\n",
       "      <td>...</td>\n",
       "      <td>...</td>\n",
       "      <td>...</td>\n",
       "    </tr>\n",
       "    <tr>\n",
       "      <th>1795</th>\n",
       "      <td>RandomWaypointMobility-SPD-B-85-20211130-20:36...</td>\n",
       "      <td>100</td>\n",
       "      <td>25</td>\n",
       "      <td>24</td>\n",
       "      <td>681</td>\n",
       "      <td>TARP-slack-2</td>\n",
       "    </tr>\n",
       "    <tr>\n",
       "      <th>1796</th>\n",
       "      <td>RandomWaypointMobility-SPD-B-85-20211130-20:36...</td>\n",
       "      <td>100</td>\n",
       "      <td>25</td>\n",
       "      <td>25</td>\n",
       "      <td>620</td>\n",
       "      <td>TARP-slack-2</td>\n",
       "    </tr>\n",
       "    <tr>\n",
       "      <th>1797</th>\n",
       "      <td>RandomWaypointMobility-SPD-B-85-20211130-20:36...</td>\n",
       "      <td>100</td>\n",
       "      <td>25</td>\n",
       "      <td>26</td>\n",
       "      <td>394</td>\n",
       "      <td>TARP-slack-2</td>\n",
       "    </tr>\n",
       "    <tr>\n",
       "      <th>1798</th>\n",
       "      <td>RandomWaypointMobility-SPD-B-85-20211130-20:36...</td>\n",
       "      <td>100</td>\n",
       "      <td>25</td>\n",
       "      <td>27</td>\n",
       "      <td>378</td>\n",
       "      <td>TARP-slack-2</td>\n",
       "    </tr>\n",
       "    <tr>\n",
       "      <th>1799</th>\n",
       "      <td>RandomWaypointMobility-SPD-B-85-20211130-20:36...</td>\n",
       "      <td>100</td>\n",
       "      <td>25</td>\n",
       "      <td>28</td>\n",
       "      <td>874</td>\n",
       "      <td>TARP-slack-2</td>\n",
       "    </tr>\n",
       "  </tbody>\n",
       "</table>\n",
       "<p>16200 rows × 6 columns</p>\n",
       "</div>"
      ],
      "text/plain": [
       "                                                    run  PauseTime  \\\n",
       "0     RandomWaypointMobility-DD-0-20211129-22:43:04-...          0   \n",
       "1     RandomWaypointMobility-DD-0-20211129-22:43:04-...          0   \n",
       "2     RandomWaypointMobility-DD-0-20211129-22:43:04-...          0   \n",
       "3     RandomWaypointMobility-DD-0-20211129-22:43:04-...          0   \n",
       "4     RandomWaypointMobility-DD-0-20211129-22:43:04-...          0   \n",
       "...                                                 ...        ...   \n",
       "1795  RandomWaypointMobility-SPD-B-85-20211130-20:36...        100   \n",
       "1796  RandomWaypointMobility-SPD-B-85-20211130-20:36...        100   \n",
       "1797  RandomWaypointMobility-SPD-B-85-20211130-20:36...        100   \n",
       "1798  RandomWaypointMobility-SPD-B-85-20211130-20:36...        100   \n",
       "1799  RandomWaypointMobility-SPD-B-85-20211130-20:36...        100   \n",
       "\n",
       "      repetition Module  nbDataPacketsForwarded      protocol  \n",
       "0              0     15                    1565        Simple  \n",
       "1              0     25                    1513        Simple  \n",
       "2              0     24                    1562        Simple  \n",
       "3              0     23                    1583        Simple  \n",
       "4              0     22                       0        Simple  \n",
       "...          ...    ...                     ...           ...  \n",
       "1795          25     24                     681  TARP-slack-2  \n",
       "1796          25     25                     620  TARP-slack-2  \n",
       "1797          25     26                     394  TARP-slack-2  \n",
       "1798          25     27                     378  TARP-slack-2  \n",
       "1799          25     28                     874  TARP-slack-2  \n",
       "\n",
       "[16200 rows x 6 columns]"
      ]
     },
     "execution_count": 129,
     "metadata": {},
     "output_type": "execute_result"
    }
   ],
   "source": [
    "result"
   ]
  },
  {
   "cell_type": "code",
   "execution_count": 130,
   "metadata": {},
   "outputs": [
    {
     "data": {
      "text/html": [
       "<div>\n",
       "<style scoped>\n",
       "    .dataframe tbody tr th:only-of-type {\n",
       "        vertical-align: middle;\n",
       "    }\n",
       "\n",
       "    .dataframe tbody tr th {\n",
       "        vertical-align: top;\n",
       "    }\n",
       "\n",
       "    .dataframe thead th {\n",
       "        text-align: right;\n",
       "    }\n",
       "</style>\n",
       "<table border=\"1\" class=\"dataframe\">\n",
       "  <thead>\n",
       "    <tr style=\"text-align: right;\">\n",
       "      <th></th>\n",
       "      <th>PauseTime</th>\n",
       "      <th>repetition</th>\n",
       "      <th>nbDataPacketsForwarded</th>\n",
       "    </tr>\n",
       "    <tr>\n",
       "      <th>protocol</th>\n",
       "      <th></th>\n",
       "      <th></th>\n",
       "      <th></th>\n",
       "    </tr>\n",
       "  </thead>\n",
       "  <tbody>\n",
       "    <tr>\n",
       "      <th>Simple</th>\n",
       "      <td>50.0</td>\n",
       "      <td>14.5</td>\n",
       "      <td>1454.972037</td>\n",
       "    </tr>\n",
       "    <tr>\n",
       "      <th>TARP-slack-1</th>\n",
       "      <td>50.0</td>\n",
       "      <td>14.5</td>\n",
       "      <td>481.967407</td>\n",
       "    </tr>\n",
       "    <tr>\n",
       "      <th>TARP-slack-2</th>\n",
       "      <td>50.0</td>\n",
       "      <td>14.5</td>\n",
       "      <td>693.637407</td>\n",
       "    </tr>\n",
       "  </tbody>\n",
       "</table>\n",
       "</div>"
      ],
      "text/plain": [
       "              PauseTime  repetition  nbDataPacketsForwarded\n",
       "protocol                                                   \n",
       "Simple             50.0        14.5             1454.972037\n",
       "TARP-slack-1       50.0        14.5              481.967407\n",
       "TARP-slack-2       50.0        14.5              693.637407"
      ]
     },
     "execution_count": 130,
     "metadata": {},
     "output_type": "execute_result"
    }
   ],
   "source": [
    "result.groupby(['protocol']).mean()"
   ]
  },
  {
   "cell_type": "code",
   "execution_count": 132,
   "metadata": {},
   "outputs": [
    {
     "data": {
      "image/png": "[encoded data removed]",
      "text/plain": [
       "<Figure size 432x288 with 1 Axes>"
      ]
     },
     "metadata": {
      "needs_background": "light"
     },
     "output_type": "display_data"
    }
   ],
   "source": [
    "sns.barplot(x = \"protocol\", y = \"nbDataPacketsForwarded\", data = result, estimator=np.mean, capsize=.1)\n",
    "plt.xlabel(\"Protocol\")\n",
    "plt.ylabel(\"Avg No of Pkts Forwarded\")\n",
    "plt.title(\"Random Waypoint Mobility - 60 Nodes\")\n",
    "plt.savefig('simulation-1.png', dpi=300)\n",
    "plt.show()"
   ]
  },
  {
   "cell_type": "markdown",
   "metadata": {},
   "source": [
    "## SPD - slack parameter study - 40 Nodes"
   ]
  },
  {
   "cell_type": "code",
   "execution_count": 234,
   "metadata": {},
   "outputs": [],
   "source": [
    "df = pd.read_csv('C:\\\\omnetpp-5.6.2\\\\samples\\\\tarp-sim\\\\results\\\\data_7\\\\data_spd_2_n_40_p_900_pdf.csv')"
   ]
  },
  {
   "cell_type": "code",
   "execution_count": 235,
   "metadata": {},
   "outputs": [
    {
     "data": {
      "text/html": [
       "<div>\n",
       "<style scoped>\n",
       "    .dataframe tbody tr th:only-of-type {\n",
       "        vertical-align: middle;\n",
       "    }\n",
       "\n",
       "    .dataframe tbody tr th {\n",
       "        vertical-align: top;\n",
       "    }\n",
       "\n",
       "    .dataframe thead th {\n",
       "        text-align: right;\n",
       "    }\n",
       "</style>\n",
       "<table border=\"1\" class=\"dataframe\">\n",
       "  <thead>\n",
       "    <tr style=\"text-align: right;\">\n",
       "      <th></th>\n",
       "      <th>run</th>\n",
       "      <th>PauseTime</th>\n",
       "      <th>repetition</th>\n",
       "      <th>Module</th>\n",
       "      <th>echoedPk:count</th>\n",
       "      <th>echoedPk:sum(packetBytes)</th>\n",
       "      <th>packetReceived:count</th>\n",
       "      <th>packetReceived:sum(packetBytes)</th>\n",
       "      <th>packets received</th>\n",
       "      <th>packets sent</th>\n",
       "      <th>packetSent:count</th>\n",
       "      <th>packetSent:sum(packetBytes)</th>\n",
       "    </tr>\n",
       "  </thead>\n",
       "  <tbody>\n",
       "    <tr>\n",
       "      <th>0</th>\n",
       "      <td>RandomWaypointMobility-SPD-B-87-20211204-21:13...</td>\n",
       "      <td>900</td>\n",
       "      <td>27</td>\n",
       "      <td>TARPNetwork.node[22].app[0]</td>\n",
       "      <td>863.0</td>\n",
       "      <td>863000.0</td>\n",
       "      <td>NaN</td>\n",
       "      <td>NaN</td>\n",
       "      <td>NaN</td>\n",
       "      <td>NaN</td>\n",
       "      <td>NaN</td>\n",
       "      <td>NaN</td>\n",
       "    </tr>\n",
       "    <tr>\n",
       "      <th>1</th>\n",
       "      <td>RandomWaypointMobility-SPD-B-87-20211204-21:13...</td>\n",
       "      <td>900</td>\n",
       "      <td>27</td>\n",
       "      <td>TARPNetwork.node[17].app[0]</td>\n",
       "      <td>NaN</td>\n",
       "      <td>NaN</td>\n",
       "      <td>120.0</td>\n",
       "      <td>120000.0</td>\n",
       "      <td>120.0</td>\n",
       "      <td>900.0</td>\n",
       "      <td>900.0</td>\n",
       "      <td>900000.0</td>\n",
       "    </tr>\n",
       "    <tr>\n",
       "      <th>2</th>\n",
       "      <td>RandomWaypointMobility-SPD-B-79-20211204-21:12...</td>\n",
       "      <td>900</td>\n",
       "      <td>19</td>\n",
       "      <td>TARPNetwork.node[17].app[0]</td>\n",
       "      <td>NaN</td>\n",
       "      <td>NaN</td>\n",
       "      <td>30.0</td>\n",
       "      <td>30000.0</td>\n",
       "      <td>30.0</td>\n",
       "      <td>900.0</td>\n",
       "      <td>900.0</td>\n",
       "      <td>900000.0</td>\n",
       "    </tr>\n",
       "    <tr>\n",
       "      <th>3</th>\n",
       "      <td>RandomWaypointMobility-SPD-B-64-20211204-21:12...</td>\n",
       "      <td>900</td>\n",
       "      <td>4</td>\n",
       "      <td>TARPNetwork.node[17].app[0]</td>\n",
       "      <td>NaN</td>\n",
       "      <td>NaN</td>\n",
       "      <td>804.0</td>\n",
       "      <td>804000.0</td>\n",
       "      <td>804.0</td>\n",
       "      <td>900.0</td>\n",
       "      <td>900.0</td>\n",
       "      <td>900000.0</td>\n",
       "    </tr>\n",
       "    <tr>\n",
       "      <th>4</th>\n",
       "      <td>RandomWaypointMobility-SPD-B-63-20211204-21:12...</td>\n",
       "      <td>900</td>\n",
       "      <td>3</td>\n",
       "      <td>TARPNetwork.node[17].app[0]</td>\n",
       "      <td>NaN</td>\n",
       "      <td>NaN</td>\n",
       "      <td>154.0</td>\n",
       "      <td>154000.0</td>\n",
       "      <td>154.0</td>\n",
       "      <td>900.0</td>\n",
       "      <td>900.0</td>\n",
       "      <td>900000.0</td>\n",
       "    </tr>\n",
       "  </tbody>\n",
       "</table>\n",
       "</div>"
      ],
      "text/plain": [
       "                                                 run  PauseTime  repetition  \\\n",
       "0  RandomWaypointMobility-SPD-B-87-20211204-21:13...        900          27   \n",
       "1  RandomWaypointMobility-SPD-B-87-20211204-21:13...        900          27   \n",
       "2  RandomWaypointMobility-SPD-B-79-20211204-21:12...        900          19   \n",
       "3  RandomWaypointMobility-SPD-B-64-20211204-21:12...        900           4   \n",
       "4  RandomWaypointMobility-SPD-B-63-20211204-21:12...        900           3   \n",
       "\n",
       "                        Module  echoedPk:count  echoedPk:sum(packetBytes)  \\\n",
       "0  TARPNetwork.node[22].app[0]           863.0                   863000.0   \n",
       "1  TARPNetwork.node[17].app[0]             NaN                        NaN   \n",
       "2  TARPNetwork.node[17].app[0]             NaN                        NaN   \n",
       "3  TARPNetwork.node[17].app[0]             NaN                        NaN   \n",
       "4  TARPNetwork.node[17].app[0]             NaN                        NaN   \n",
       "\n",
       "   packetReceived:count  packetReceived:sum(packetBytes)  packets received  \\\n",
       "0                   NaN                              NaN               NaN   \n",
       "1                 120.0                         120000.0             120.0   \n",
       "2                  30.0                          30000.0              30.0   \n",
       "3                 804.0                         804000.0             804.0   \n",
       "4                 154.0                         154000.0             154.0   \n",
       "\n",
       "   packets sent  packetSent:count  packetSent:sum(packetBytes)  \n",
       "0           NaN               NaN                          NaN  \n",
       "1         900.0             900.0                     900000.0  \n",
       "2         900.0             900.0                     900000.0  \n",
       "3         900.0             900.0                     900000.0  \n",
       "4         900.0             900.0                     900000.0  "
      ]
     },
     "execution_count": 235,
     "metadata": {},
     "output_type": "execute_result"
    }
   ],
   "source": [
    "df.head()"
   ]
  },
  {
   "cell_type": "code",
   "execution_count": 236,
   "metadata": {},
   "outputs": [],
   "source": [
    "df.Module = df.Module.str.split('[',expand=True)[1].str.split(']',expand=True)[0]"
   ]
  },
  {
   "cell_type": "code",
   "execution_count": 237,
   "metadata": {},
   "outputs": [],
   "source": [
    "df = df.sort_values(by=['repetition'])"
   ]
  },
  {
   "cell_type": "code",
   "execution_count": 238,
   "metadata": {},
   "outputs": [],
   "source": [
    "df_17 = df.loc[df['Module'] == '17']\n",
    "df_22 = df.loc[df['Module'] == '22']"
   ]
  },
  {
   "cell_type": "code",
   "execution_count": 239,
   "metadata": {},
   "outputs": [],
   "source": [
    "results = []\n",
    "results_x = []\n",
    "count = 0\n",
    "\n",
    "for index, row in df_17.iterrows():\n",
    "        x = df_22.iloc[count][\"echoedPk:count\"]\n",
    "        res = round((row['packetReceived:count'] + x)/(x + row['packetSent:count']), 4) \n",
    "        results.append(res)\n",
    "        res_x = round((x)/(row['packetSent:count']), 4) \n",
    "        results_x.append(res_x)\n",
    "        count+=1\n"
   ]
  },
  {
   "cell_type": "code",
   "execution_count": 240,
   "metadata": {},
   "outputs": [
    {
     "name": "stdout",
     "output_type": "stream",
     "text": [
      "[0.3108, 0.9665, 0.955, 0.3137, 0.9464, 0.2068, 0.9769, 0.9511, 0.9809, 0.9906, 0.2544, 0.9361, 0.3539, 0.9687, 0.23, 0.2205, 0.9462, 0.2545, 0.9608, 0.0695, 0.2495, 0.9641, 0.9687, 0.91, 0.9578, 0.5517, 0.2813, 0.5576, 0.2384, 0.9467]\n"
     ]
    }
   ],
   "source": [
    "print (results)   "
   ]
  },
  {
   "cell_type": "code",
   "execution_count": 241,
   "metadata": {},
   "outputs": [
    {
     "name": "stdout",
     "output_type": "stream",
     "text": [
      "[0.1978, 0.9878, 0.9989, 0.2078, 0.9911, 0.1389, 0.9711, 0.93, 0.9778, 0.9989, 0.1922, 0.9989, 0.2244, 0.9867, 0.15, 0.1689, 0.9833, 0.1833, 0.9844, 0.0389, 0.1489, 0.9811, 0.9867, 0.9378, 0.9989, 0.9778, 0.1811, 0.9589, 0.17, 0.9822]\n"
     ]
    }
   ],
   "source": [
    "print (results_x) "
   ]
  },
  {
   "cell_type": "code",
   "execution_count": 242,
   "metadata": {},
   "outputs": [
    {
     "name": "stdout",
     "output_type": "stream",
     "text": [
      "Mean: 64.73\n"
     ]
    }
   ],
   "source": [
    "print(\"Mean:\", round(sum(results) / len(results)*100,2))"
   ]
  },
  {
   "cell_type": "code",
   "execution_count": 243,
   "metadata": {},
   "outputs": [
    {
     "name": "stdout",
     "output_type": "stream",
     "text": [
      "Mean: 65.45\n"
     ]
    }
   ],
   "source": [
    "print(\"Mean:\", round(sum(results_x) / len(results_x)*100,2))"
   ]
  },
  {
   "cell_type": "code",
   "execution_count": 246,
   "metadata": {},
   "outputs": [],
   "source": [
    "df_dd = pd.DataFrame({'PauseTime':[0, 50, 100, 300, 600, 900],\n",
    "                       'PDF':[85.08, 82.84, 81.33, 77.07, 70.84, 66.79]})\n",
    "\n",
    "df_dd_x = pd.DataFrame({'PauseTime':[0, 50, 100, 300, 600, 900],\n",
    "                       'PDF':[89.33, 83.43, 81.52, 74.2, 68.08, 66.41]})\n",
    "\n",
    "dd_x_errors = [1.68, 2.76, 3.5, 6.92, 9.81, 14.1]\n",
    "\n",
    "df_spd_1 = pd.DataFrame({'PauseTime':[0, 50, 100, 300, 600, 900],\n",
    "                       'PDF':[65.69, 64.85, 65.51, 65.69, 64.85, 65.51]})\n",
    "\n",
    "df_spd_1_x = pd.DataFrame({'PauseTime':[0, 50, 100, 300, 600, 900],\n",
    "                       'PDF':[67.96, 66.31, 66.51, 67.96, 66.31, 66.51]})\n",
    "\n",
    "spd_1_x_errors = [3.64, 3.16, 4.61, 3.64, 3.16, 4.61]\n",
    "\n",
    "df_spd_2 = pd.DataFrame({'PauseTime':[0, 50, 100, 300, 600, 900],\n",
    "                       'PDF':[77.38, 73.19, 73.19, 70.77, 60.17, 64.73]})\n",
    "\n",
    "df_spd_2_x = pd.DataFrame({'PauseTime':[0, 50, 100, 300, 600, 900],\n",
    "                       'PDF':[82.18, 74.57, 74.84, 68.05, 59.3, 65.45]})\n",
    "\n",
    "spd_2_x_errors = [2.09, 2.72, 3.78, 7.04, 10.3, 14.3]"
   ]
  },
  {
   "cell_type": "code",
   "execution_count": 248,
   "metadata": {},
   "outputs": [
    {
     "data": {
      "image/png": "[encoded data removed]",
      "text/plain": [
       "<Figure size 936x720 with 1 Axes>"
      ]
     },
     "metadata": {
      "needs_background": "light"
     },
     "output_type": "display_data"
    }
   ],
   "source": [
    "\n",
    "\n",
    "plt.xlabel(\"Pause Time (sec)\")\n",
    "plt.ylabel(\"PDF%\")\n",
    "plt.title(\"Random Waypoint Mobility - 40 Nodes\")\n",
    "\n",
    "plt.xticks(np.arange(0,901, 50))\n",
    "plt.yticks(np.arange(50,101, 5))\n",
    "# plt.grid()\n",
    "\n",
    "# plt.plot(df_dd_x.PauseTime, df_dd_x.PDF,  'g-x') \n",
    "\n",
    "# plt.plot(df_spd_1_x.PauseTime, df_spd_1_x.PDF,  'b-x') \n",
    "\n",
    "# plt.plot(df_spd_2_x.PauseTime, df_spd_2_x.PDF,  'r-x') \n",
    "\n",
    "plt.ylim([45, 100])\n",
    "\n",
    "plt.errorbar(\n",
    "  x=df_dd_x.PauseTime, \n",
    "  y=df_dd_x.PDF, \n",
    "  yerr=dd_x_errors, \n",
    "  capsize=5,\n",
    "  marker='o', \n",
    "  color='green', \n",
    "  markersize=8, \n",
    "  linewidth=1, \n",
    "  linestyle='-')\n",
    "\n",
    "plt.errorbar(\n",
    "  x=df_spd_1_x.PauseTime, \n",
    "  y=df_spd_1_x.PDF, \n",
    "  yerr=spd_1_x_errors, \n",
    "  capsize=5,\n",
    "  marker='o', \n",
    "  color='blue', \n",
    "  markersize=8, \n",
    "  linewidth=1, \n",
    "  linestyle='-')\n",
    "\n",
    "plt.errorbar(\n",
    "  x=df_spd_2_x.PauseTime, \n",
    "  y=df_spd_2_x.PDF, \n",
    "  yerr=spd_2_x_errors, \n",
    "  capsize=5,\n",
    "  marker='o', \n",
    "  color='red', \n",
    "  markersize=8, \n",
    "  linewidth=1.2, \n",
    "  linestyle='-')\n",
    "\n",
    "red_patch = mpatches.Patch(color='red', label='TARP-slack-2')\n",
    "green_patch = mpatches.Patch(color='green', label='Simple')\n",
    "blue_patch = mpatches.Patch(color='blue', label='TARP-slack-1')\n",
    "\n",
    "plt.legend(handles=[ green_patch, blue_patch, red_patch])\n",
    "\n",
    "fig = plt.gcf()\n",
    "fig.set_size_inches(13, 10)\n",
    "plt.savefig('simulation-pdf-40.png', dpi=300)"
   ]
  },
  {
   "cell_type": "code",
   "execution_count": null,
   "metadata": {},
   "outputs": [],
   "source": []
  },
  {
   "cell_type": "code",
   "execution_count": null,
   "metadata": {},
   "outputs": [],
   "source": []
  },
  {
   "cell_type": "code",
   "execution_count": null,
   "metadata": {},
   "outputs": [],
   "source": []
  },
  {
   "cell_type": "code",
   "execution_count": null,
   "metadata": {},
   "outputs": [],
   "source": []
  },
  {
   "cell_type": "code",
   "execution_count": null,
   "metadata": {},
   "outputs": [],
   "source": []
  }
 ],
 "metadata": {
  "kernelspec": {
   "display_name": "Python 3",
   "language": "python",
   "name": "python3"
  },
  "language_info": {
   "codemirror_mode": {
    "name": "ipython",
    "version": 3
   },
   "file_extension": ".py",
   "mimetype": "text/x-python",
   "name": "python",
   "nbconvert_exporter": "python",
   "pygments_lexer": "ipython3",
   "version": "3.8.3"
  }
 },
 "nbformat": 4,
 "nbformat_minor": 4
}
