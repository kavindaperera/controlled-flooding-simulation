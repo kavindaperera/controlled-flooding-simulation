{
 "cells": [
  {
   "cell_type": "code",
   "execution_count": 129,
   "metadata": {},
   "outputs": [],
   "source": [
    "import pandas as pd\n",
    "import numpy as np\n",
    "import matplotlib.pyplot as plt\n",
    "import seaborn as sns\n",
    "import re\n",
    "import matplotlib.patches as mpatches"
   ]
  },
  {
   "cell_type": "code",
   "execution_count": 145,
   "metadata": {},
   "outputs": [],
   "source": [
    "df_dd_n_60_p_0 = pd.read_csv('C:\\\\omnetpp-5.6.2\\\\samples\\\\tarp-sim\\\\results\\\\data_11\\\\data_dd_n_80_p_0.csv')\n",
    "df_dd_n_60_p_50 = pd.read_csv('C:\\\\omnetpp-5.6.2\\\\samples\\\\tarp-sim\\\\results\\\\data_11\\\\data_dd_n_80_p_50.csv')\n",
    "df_dd_n_60_p_100 = pd.read_csv('C:\\\\omnetpp-5.6.2\\\\samples\\\\tarp-sim\\\\results\\\\data_11\\\\data_dd_n_80_p_100.csv')\n",
    "df_dd_n_60_p_300 = pd.read_csv('C:\\\\omnetpp-5.6.2\\\\samples\\\\tarp-sim\\\\results\\\\data_11\\\\data_dd_n_80_p_300.csv')\n",
    "df_dd_n_60_p_600 = pd.read_csv('C:\\\\omnetpp-5.6.2\\\\samples\\\\tarp-sim\\\\results\\\\data_11\\\\data_dd_n_80_p_600.csv')\n",
    "df_dd_n_60_p_900 = pd.read_csv('C:\\\\omnetpp-5.6.2\\\\samples\\\\tarp-sim\\\\results\\\\data_11\\\\data_dd_n_80_p_900.csv')"
   ]
  },
  {
   "cell_type": "code",
   "execution_count": 146,
   "metadata": {},
   "outputs": [],
   "source": [
    "df_dd_n_60_p_0.Module = df_dd_n_60_p_0.Module.str.split('[',expand=True)[1].str.split(']',expand=True)[0]\n",
    "df_dd_n_60_p_50.Module = df_dd_n_60_p_50.Module.str.split('[',expand=True)[1].str.split(']',expand=True)[0]\n",
    "df_dd_n_60_p_100.Module = df_dd_n_60_p_100.Module.str.split('[',expand=True)[1].str.split(']',expand=True)[0]\n",
    "df_dd_n_60_p_300.Module = df_dd_n_60_p_300.Module.str.split('[',expand=True)[1].str.split(']',expand=True)[0]\n",
    "df_dd_n_60_p_600.Module = df_dd_n_60_p_600.Module.str.split('[',expand=True)[1].str.split(']',expand=True)[0]\n",
    "df_dd_n_60_p_900.Module = df_dd_n_60_p_900.Module.str.split('[',expand=True)[1].str.split(']',expand=True)[0]"
   ]
  },
  {
   "cell_type": "code",
   "execution_count": 147,
   "metadata": {},
   "outputs": [],
   "source": [
    "df_dd_n_60_p_0['protocol'] = 'Simple'\n",
    "df_dd_n_60_p_50['protocol'] = 'Simple'\n",
    "df_dd_n_60_p_100['protocol'] = 'Simple'\n",
    "df_dd_n_60_p_300['protocol'] = 'Simple'\n",
    "df_dd_n_60_p_600['protocol'] = 'Simple'\n",
    "df_dd_n_60_p_900['protocol'] = 'Simple'"
   ]
  },
  {
   "cell_type": "code",
   "execution_count": 148,
   "metadata": {},
   "outputs": [],
   "source": [
    "df_spd_1_n_60_p_0 = pd.read_csv('C:\\\\omnetpp-5.6.2\\\\samples\\\\tarp-sim\\\\results\\\\data_11\\\\data_spd_1_n_80_p_0.csv')\n",
    "df_spd_1_n_60_p_50 = pd.read_csv('C:\\\\omnetpp-5.6.2\\\\samples\\\\tarp-sim\\\\results\\\\data_11\\\\data_spd_1_n_80_p_50.csv')\n",
    "df_spd_1_n_60_p_100 = pd.read_csv('C:\\\\omnetpp-5.6.2\\\\samples\\\\tarp-sim\\\\results\\\\data_11\\\\data_spd_1_n_80_p_100.csv')\n",
    "df_spd_1_n_60_p_300 = pd.read_csv('C:\\\\omnetpp-5.6.2\\\\samples\\\\tarp-sim\\\\results\\\\data_11\\\\data_spd_1_n_80_p_300.csv')\n",
    "df_spd_1_n_60_p_600 = pd.read_csv('C:\\\\omnetpp-5.6.2\\\\samples\\\\tarp-sim\\\\results\\\\data_11\\\\data_spd_1_n_80_p_600.csv')\n",
    "df_spd_1_n_60_p_900 = pd.read_csv('C:\\\\omnetpp-5.6.2\\\\samples\\\\tarp-sim\\\\results\\\\data_11\\\\data_spd_1_n_80_p_900.csv')"
   ]
  },
  {
   "cell_type": "code",
   "execution_count": 149,
   "metadata": {},
   "outputs": [],
   "source": [
    "df_spd_1_n_60_p_0.Module = df_spd_1_n_60_p_0.Module.str.split('[',expand=True)[1].str.split(']',expand=True)[0]\n",
    "df_spd_1_n_60_p_50.Module = df_spd_1_n_60_p_50.Module.str.split('[',expand=True)[1].str.split(']',expand=True)[0]\n",
    "df_spd_1_n_60_p_100.Module = df_spd_1_n_60_p_100.Module.str.split('[',expand=True)[1].str.split(']',expand=True)[0]\n",
    "df_spd_1_n_60_p_300.Module = df_spd_1_n_60_p_300.Module.str.split('[',expand=True)[1].str.split(']',expand=True)[0]\n",
    "df_spd_1_n_60_p_600.Module = df_spd_1_n_60_p_600.Module.str.split('[',expand=True)[1].str.split(']',expand=True)[0]\n",
    "df_spd_1_n_60_p_900.Module = df_spd_1_n_60_p_900.Module.str.split('[',expand=True)[1].str.split(']',expand=True)[0]"
   ]
  },
  {
   "cell_type": "code",
   "execution_count": 150,
   "metadata": {},
   "outputs": [],
   "source": [
    "df_spd_1_n_60_p_0['protocol'] = 'TARP-slack-1'\n",
    "df_spd_1_n_60_p_50['protocol'] = 'TARP-slack-1'\n",
    "df_spd_1_n_60_p_100['protocol'] = 'TARP-slack-1'\n",
    "df_spd_1_n_60_p_300['protocol'] = 'TARP-slack-1'\n",
    "df_spd_1_n_60_p_600['protocol'] = 'TARP-slack-1'\n",
    "df_spd_1_n_60_p_900['protocol'] = 'TARP-slack-1'"
   ]
  },
  {
   "cell_type": "code",
   "execution_count": 156,
   "metadata": {},
   "outputs": [],
   "source": [
    "df_spd_2_n_60_p_0 = pd.read_csv('C:\\\\omnetpp-5.6.2\\\\samples\\\\tarp-sim\\\\results\\\\data_11\\\\data_spd_2_n_80_p_0.csv')\n",
    "df_spd_2_n_60_p_50 = pd.read_csv('C:\\\\omnetpp-5.6.2\\\\samples\\\\tarp-sim\\\\results\\\\data_11\\\\data_spd_2_n_80_p_50.csv')\n",
    "df_spd_2_n_60_p_100 = pd.read_csv('C:\\\\omnetpp-5.6.2\\\\samples\\\\tarp-sim\\\\results\\\\data_11\\\\data_spd_2_n_80_p_100.csv')\n",
    "df_spd_2_n_60_p_300 = pd.read_csv('C:\\\\omnetpp-5.6.2\\\\samples\\\\tarp-sim\\\\results\\\\data_11\\\\data_spd_2_n_80_p_300.csv')\n",
    "df_spd_2_n_60_p_600 = pd.read_csv('C:\\\\omnetpp-5.6.2\\\\samples\\\\tarp-sim\\\\results\\\\data_11\\\\data_spd_2_n_80_p_600.csv')\n",
    "df_spd_2_n_60_p_900 = pd.read_csv('C:\\\\omnetpp-5.6.2\\\\samples\\\\tarp-sim\\\\results\\\\data_11\\\\data_spd_2_n_80_p_900.csv')"
   ]
  },
  {
   "cell_type": "code",
   "execution_count": 157,
   "metadata": {},
   "outputs": [],
   "source": [
    "df_spd_2_n_60_p_0.Module = df_spd_2_n_60_p_0.Module.str.split('[',expand=True)[1].str.split(']',expand=True)[0]\n",
    "df_spd_2_n_60_p_50.Module = df_spd_2_n_60_p_50.Module.str.split('[',expand=True)[1].str.split(']',expand=True)[0]\n",
    "df_spd_2_n_60_p_100.Module = df_spd_2_n_60_p_100.Module.str.split('[',expand=True)[1].str.split(']',expand=True)[0]\n",
    "df_spd_2_n_60_p_300.Module = df_spd_2_n_60_p_300.Module.str.split('[',expand=True)[1].str.split(']',expand=True)[0]\n",
    "df_spd_2_n_60_p_600.Module = df_spd_2_n_60_p_600.Module.str.split('[',expand=True)[1].str.split(']',expand=True)[0]\n",
    "df_spd_2_n_60_p_900.Module = df_spd_2_n_60_p_900.Module.str.split('[',expand=True)[1].str.split(']',expand=True)[0]"
   ]
  },
  {
   "cell_type": "code",
   "execution_count": 158,
   "metadata": {},
   "outputs": [],
   "source": [
    "df_spd_2_n_60_p_0['protocol'] = 'TARP-slack-2'\n",
    "df_spd_2_n_60_p_50['protocol'] = 'TARP-slack-2'\n",
    "df_spd_2_n_60_p_100['protocol'] = 'TARP-slack-2'\n",
    "df_spd_2_n_60_p_300['protocol'] = 'TARP-slack-2'\n",
    "df_spd_2_n_60_p_600['protocol'] = 'TARP-slack-2'\n",
    "df_spd_2_n_60_p_900['protocol'] = 'TARP-slack-2'"
   ]
  },
  {
   "cell_type": "code",
   "execution_count": 160,
   "metadata": {},
   "outputs": [],
   "source": [
    "frames = [df_dd_n_60_p_0, df_dd_n_60_p_50, df_dd_n_60_p_100, df_dd_n_60_p_300, df_dd_n_60_p_600, df_dd_n_60_p_900,\n",
    "         df_spd_1_n_60_p_0, df_spd_1_n_60_p_50, df_spd_1_n_60_p_100,df_spd_1_n_60_p_300,df_spd_1_n_60_p_300,df_spd_1_n_60_p_900,\n",
    "         df_spd_2_n_60_p_0, df_spd_2_n_60_p_50, df_spd_2_n_60_p_100, df_spd_2_n_60_p_300, df_spd_2_n_60_p_600, df_spd_2_n_60_p_900]"
   ]
  },
  {
   "cell_type": "code",
   "execution_count": 161,
   "metadata": {},
   "outputs": [],
   "source": [
    "result = pd.concat(frames)"
   ]
  },
  {
   "cell_type": "code",
   "execution_count": 162,
   "metadata": {},
   "outputs": [
    {
     "data": {
      "text/html": [
       "<div>\n",
       "<style scoped>\n",
       "    .dataframe tbody tr th:only-of-type {\n",
       "        vertical-align: middle;\n",
       "    }\n",
       "\n",
       "    .dataframe tbody tr th {\n",
       "        vertical-align: top;\n",
       "    }\n",
       "\n",
       "    .dataframe thead th {\n",
       "        text-align: right;\n",
       "    }\n",
       "</style>\n",
       "<table border=\"1\" class=\"dataframe\">\n",
       "  <thead>\n",
       "    <tr style=\"text-align: right;\">\n",
       "      <th></th>\n",
       "      <th>run</th>\n",
       "      <th>PauseTime</th>\n",
       "      <th>repetition</th>\n",
       "      <th>Module</th>\n",
       "      <th>nbDataPacketsForwarded</th>\n",
       "      <th>protocol</th>\n",
       "    </tr>\n",
       "  </thead>\n",
       "  <tbody>\n",
       "    <tr>\n",
       "      <th>0</th>\n",
       "      <td>RandomWaypointMobility-DD-19-20211203-23:02:19...</td>\n",
       "      <td>0</td>\n",
       "      <td>19</td>\n",
       "      <td>21</td>\n",
       "      <td>1535</td>\n",
       "      <td>Simple</td>\n",
       "    </tr>\n",
       "    <tr>\n",
       "      <th>1</th>\n",
       "      <td>RandomWaypointMobility-DD-19-20211203-23:02:19...</td>\n",
       "      <td>0</td>\n",
       "      <td>19</td>\n",
       "      <td>33</td>\n",
       "      <td>1540</td>\n",
       "      <td>Simple</td>\n",
       "    </tr>\n",
       "    <tr>\n",
       "      <th>2</th>\n",
       "      <td>RandomWaypointMobility-DD-19-20211203-23:02:19...</td>\n",
       "      <td>0</td>\n",
       "      <td>19</td>\n",
       "      <td>32</td>\n",
       "      <td>1542</td>\n",
       "      <td>Simple</td>\n",
       "    </tr>\n",
       "    <tr>\n",
       "      <th>3</th>\n",
       "      <td>RandomWaypointMobility-DD-19-20211203-23:02:19...</td>\n",
       "      <td>0</td>\n",
       "      <td>19</td>\n",
       "      <td>31</td>\n",
       "      <td>1540</td>\n",
       "      <td>Simple</td>\n",
       "    </tr>\n",
       "    <tr>\n",
       "      <th>4</th>\n",
       "      <td>RandomWaypointMobility-DD-19-20211203-23:02:19...</td>\n",
       "      <td>0</td>\n",
       "      <td>19</td>\n",
       "      <td>30</td>\n",
       "      <td>1520</td>\n",
       "      <td>Simple</td>\n",
       "    </tr>\n",
       "    <tr>\n",
       "      <th>...</th>\n",
       "      <td>...</td>\n",
       "      <td>...</td>\n",
       "      <td>...</td>\n",
       "      <td>...</td>\n",
       "      <td>...</td>\n",
       "      <td>...</td>\n",
       "    </tr>\n",
       "    <tr>\n",
       "      <th>2395</th>\n",
       "      <td>RandomWaypointMobility-SPD-B-83-20211204-16:12...</td>\n",
       "      <td>900</td>\n",
       "      <td>23</td>\n",
       "      <td>53</td>\n",
       "      <td>1720</td>\n",
       "      <td>TARP-slack-2</td>\n",
       "    </tr>\n",
       "    <tr>\n",
       "      <th>2396</th>\n",
       "      <td>RandomWaypointMobility-SPD-B-83-20211204-16:12...</td>\n",
       "      <td>900</td>\n",
       "      <td>23</td>\n",
       "      <td>54</td>\n",
       "      <td>1590</td>\n",
       "      <td>TARP-slack-2</td>\n",
       "    </tr>\n",
       "    <tr>\n",
       "      <th>2397</th>\n",
       "      <td>RandomWaypointMobility-SPD-B-83-20211204-16:12...</td>\n",
       "      <td>900</td>\n",
       "      <td>23</td>\n",
       "      <td>55</td>\n",
       "      <td>1746</td>\n",
       "      <td>TARP-slack-2</td>\n",
       "    </tr>\n",
       "    <tr>\n",
       "      <th>2398</th>\n",
       "      <td>RandomWaypointMobility-SPD-B-83-20211204-16:12...</td>\n",
       "      <td>900</td>\n",
       "      <td>23</td>\n",
       "      <td>56</td>\n",
       "      <td>1625</td>\n",
       "      <td>TARP-slack-2</td>\n",
       "    </tr>\n",
       "    <tr>\n",
       "      <th>2399</th>\n",
       "      <td>RandomWaypointMobility-SPD-B-83-20211204-16:12...</td>\n",
       "      <td>900</td>\n",
       "      <td>23</td>\n",
       "      <td>57</td>\n",
       "      <td>1593</td>\n",
       "      <td>TARP-slack-2</td>\n",
       "    </tr>\n",
       "  </tbody>\n",
       "</table>\n",
       "<p>43200 rows × 6 columns</p>\n",
       "</div>"
      ],
      "text/plain": [
       "                                                    run  PauseTime  \\\n",
       "0     RandomWaypointMobility-DD-19-20211203-23:02:19...          0   \n",
       "1     RandomWaypointMobility-DD-19-20211203-23:02:19...          0   \n",
       "2     RandomWaypointMobility-DD-19-20211203-23:02:19...          0   \n",
       "3     RandomWaypointMobility-DD-19-20211203-23:02:19...          0   \n",
       "4     RandomWaypointMobility-DD-19-20211203-23:02:19...          0   \n",
       "...                                                 ...        ...   \n",
       "2395  RandomWaypointMobility-SPD-B-83-20211204-16:12...        900   \n",
       "2396  RandomWaypointMobility-SPD-B-83-20211204-16:12...        900   \n",
       "2397  RandomWaypointMobility-SPD-B-83-20211204-16:12...        900   \n",
       "2398  RandomWaypointMobility-SPD-B-83-20211204-16:12...        900   \n",
       "2399  RandomWaypointMobility-SPD-B-83-20211204-16:12...        900   \n",
       "\n",
       "      repetition Module  nbDataPacketsForwarded      protocol  \n",
       "0             19     21                    1535        Simple  \n",
       "1             19     33                    1540        Simple  \n",
       "2             19     32                    1542        Simple  \n",
       "3             19     31                    1540        Simple  \n",
       "4             19     30                    1520        Simple  \n",
       "...          ...    ...                     ...           ...  \n",
       "2395          23     53                    1720  TARP-slack-2  \n",
       "2396          23     54                    1590  TARP-slack-2  \n",
       "2397          23     55                    1746  TARP-slack-2  \n",
       "2398          23     56                    1625  TARP-slack-2  \n",
       "2399          23     57                    1593  TARP-slack-2  \n",
       "\n",
       "[43200 rows x 6 columns]"
      ]
     },
     "execution_count": 162,
     "metadata": {},
     "output_type": "execute_result"
    }
   ],
   "source": [
    "result"
   ]
  },
  {
   "cell_type": "code",
   "execution_count": 163,
   "metadata": {},
   "outputs": [
    {
     "data": {
      "text/html": [
       "<div>\n",
       "<style scoped>\n",
       "    .dataframe tbody tr th:only-of-type {\n",
       "        vertical-align: middle;\n",
       "    }\n",
       "\n",
       "    .dataframe tbody tr th {\n",
       "        vertical-align: top;\n",
       "    }\n",
       "\n",
       "    .dataframe thead th {\n",
       "        text-align: right;\n",
       "    }\n",
       "</style>\n",
       "<table border=\"1\" class=\"dataframe\">\n",
       "  <thead>\n",
       "    <tr style=\"text-align: right;\">\n",
       "      <th></th>\n",
       "      <th>PauseTime</th>\n",
       "      <th>repetition</th>\n",
       "      <th>nbDataPacketsForwarded</th>\n",
       "    </tr>\n",
       "    <tr>\n",
       "      <th>protocol</th>\n",
       "      <th></th>\n",
       "      <th></th>\n",
       "      <th></th>\n",
       "    </tr>\n",
       "  </thead>\n",
       "  <tbody>\n",
       "    <tr>\n",
       "      <th>Simple</th>\n",
       "      <td>325.0</td>\n",
       "      <td>14.5</td>\n",
       "      <td>1497.422708</td>\n",
       "    </tr>\n",
       "    <tr>\n",
       "      <th>TARP-slack-1</th>\n",
       "      <td>275.0</td>\n",
       "      <td>14.5</td>\n",
       "      <td>494.866389</td>\n",
       "    </tr>\n",
       "    <tr>\n",
       "      <th>TARP-slack-2</th>\n",
       "      <td>325.0</td>\n",
       "      <td>14.5</td>\n",
       "      <td>715.697500</td>\n",
       "    </tr>\n",
       "  </tbody>\n",
       "</table>\n",
       "</div>"
      ],
      "text/plain": [
       "              PauseTime  repetition  nbDataPacketsForwarded\n",
       "protocol                                                   \n",
       "Simple            325.0        14.5             1497.422708\n",
       "TARP-slack-1      275.0        14.5              494.866389\n",
       "TARP-slack-2      325.0        14.5              715.697500"
      ]
     },
     "execution_count": 163,
     "metadata": {},
     "output_type": "execute_result"
    }
   ],
   "source": [
    "result.groupby(['protocol']).mean()"
   ]
  },
  {
   "cell_type": "code",
   "execution_count": 164,
   "metadata": {},
   "outputs": [
    {
     "data": {
      "image/png": "[encoded data removed]",
      "text/plain": [
       "<Figure size 432x288 with 1 Axes>"
      ]
     },
     "metadata": {
      "needs_background": "light"
     },
     "output_type": "display_data"
    }
   ],
   "source": [
    "# Create an array with the colors you want to use\n",
    "colors = [\"#0AC71A\", \"#0827F5\",  \"#E10600\"]\n",
    "# Set your custom color palette\n",
    "sns.set_palette(sns.color_palette(colors))\n",
    "\n",
    "\n",
    "sns.barplot(x = \"protocol\", y = \"nbDataPacketsForwarded\", data = result, estimator=np.mean, capsize=.1)\n",
    "\n",
    "\n",
    "plt.xlabel(\"Protocol\")\n",
    "plt.ylabel(\"Avg No of Pkts Forwarded\")\n",
    "plt.title(\"Random Waypoint Mobility - 80 Nodes\")\n",
    "plt.savefig('simulation-198.png', dpi=300)\n",
    "plt.show()"
   ]
  },
  {
   "cell_type": "markdown",
   "metadata": {},
   "source": [
    "## SPD - slack parameter study - 40 Nodes"
   ]
  },
  {
   "cell_type": "code",
   "execution_count": 118,
   "metadata": {},
   "outputs": [],
   "source": [
    "df = pd.read_csv('C:\\\\omnetpp-5.6.2\\\\samples\\\\tarp-sim\\\\results\\\\data_9\\\\data_spd_2_n_60_hc_2_pdf.csv')"
   ]
  },
  {
   "cell_type": "code",
   "execution_count": 119,
   "metadata": {},
   "outputs": [
    {
     "data": {
      "text/html": [
       "<div>\n",
       "<style scoped>\n",
       "    .dataframe tbody tr th:only-of-type {\n",
       "        vertical-align: middle;\n",
       "    }\n",
       "\n",
       "    .dataframe tbody tr th {\n",
       "        vertical-align: top;\n",
       "    }\n",
       "\n",
       "    .dataframe thead th {\n",
       "        text-align: right;\n",
       "    }\n",
       "</style>\n",
       "<table border=\"1\" class=\"dataframe\">\n",
       "  <thead>\n",
       "    <tr style=\"text-align: right;\">\n",
       "      <th></th>\n",
       "      <th>run</th>\n",
       "      <th>maxHopCount</th>\n",
       "      <th>numNodes</th>\n",
       "      <th>repetition</th>\n",
       "      <th>Module</th>\n",
       "      <th>echoedPk:count</th>\n",
       "      <th>echoedPk:sum(packetBytes)</th>\n",
       "      <th>packetReceived:count</th>\n",
       "      <th>packetReceived:sum(packetBytes)</th>\n",
       "      <th>packets received</th>\n",
       "      <th>packets sent</th>\n",
       "      <th>packetSent:count</th>\n",
       "      <th>packetSent:sum(packetBytes)</th>\n",
       "    </tr>\n",
       "  </thead>\n",
       "  <tbody>\n",
       "    <tr>\n",
       "      <th>0</th>\n",
       "      <td>RandomWaypointMobility-SPD-B-108-20211207-09:5...</td>\n",
       "      <td>2</td>\n",
       "      <td>60</td>\n",
       "      <td>8</td>\n",
       "      <td>TARPNetwork.node[22].app[0]</td>\n",
       "      <td>449.0</td>\n",
       "      <td>449000.0</td>\n",
       "      <td>NaN</td>\n",
       "      <td>NaN</td>\n",
       "      <td>NaN</td>\n",
       "      <td>NaN</td>\n",
       "      <td>NaN</td>\n",
       "      <td>NaN</td>\n",
       "    </tr>\n",
       "    <tr>\n",
       "      <th>1</th>\n",
       "      <td>RandomWaypointMobility-SPD-B-101-20211207-09:5...</td>\n",
       "      <td>2</td>\n",
       "      <td>60</td>\n",
       "      <td>1</td>\n",
       "      <td>TARPNetwork.node[17].app[0]</td>\n",
       "      <td>NaN</td>\n",
       "      <td>NaN</td>\n",
       "      <td>263.0</td>\n",
       "      <td>263000.0</td>\n",
       "      <td>263.0</td>\n",
       "      <td>900.0</td>\n",
       "      <td>900.0</td>\n",
       "      <td>900000.0</td>\n",
       "    </tr>\n",
       "    <tr>\n",
       "      <th>2</th>\n",
       "      <td>RandomWaypointMobility-SPD-B-109-20211207-09:5...</td>\n",
       "      <td>2</td>\n",
       "      <td>60</td>\n",
       "      <td>9</td>\n",
       "      <td>TARPNetwork.node[17].app[0]</td>\n",
       "      <td>NaN</td>\n",
       "      <td>NaN</td>\n",
       "      <td>234.0</td>\n",
       "      <td>234000.0</td>\n",
       "      <td>234.0</td>\n",
       "      <td>900.0</td>\n",
       "      <td>900.0</td>\n",
       "      <td>900000.0</td>\n",
       "    </tr>\n",
       "    <tr>\n",
       "      <th>3</th>\n",
       "      <td>RandomWaypointMobility-SPD-B-103-20211207-09:5...</td>\n",
       "      <td>2</td>\n",
       "      <td>60</td>\n",
       "      <td>3</td>\n",
       "      <td>TARPNetwork.node[17].app[0]</td>\n",
       "      <td>NaN</td>\n",
       "      <td>NaN</td>\n",
       "      <td>371.0</td>\n",
       "      <td>371000.0</td>\n",
       "      <td>371.0</td>\n",
       "      <td>900.0</td>\n",
       "      <td>900.0</td>\n",
       "      <td>900000.0</td>\n",
       "    </tr>\n",
       "    <tr>\n",
       "      <th>4</th>\n",
       "      <td>RandomWaypointMobility-SPD-B-100-20211207-09:5...</td>\n",
       "      <td>2</td>\n",
       "      <td>60</td>\n",
       "      <td>0</td>\n",
       "      <td>TARPNetwork.node[22].app[0]</td>\n",
       "      <td>437.0</td>\n",
       "      <td>437000.0</td>\n",
       "      <td>NaN</td>\n",
       "      <td>NaN</td>\n",
       "      <td>NaN</td>\n",
       "      <td>NaN</td>\n",
       "      <td>NaN</td>\n",
       "      <td>NaN</td>\n",
       "    </tr>\n",
       "  </tbody>\n",
       "</table>\n",
       "</div>"
      ],
      "text/plain": [
       "                                                 run  maxHopCount  numNodes  \\\n",
       "0  RandomWaypointMobility-SPD-B-108-20211207-09:5...            2        60   \n",
       "1  RandomWaypointMobility-SPD-B-101-20211207-09:5...            2        60   \n",
       "2  RandomWaypointMobility-SPD-B-109-20211207-09:5...            2        60   \n",
       "3  RandomWaypointMobility-SPD-B-103-20211207-09:5...            2        60   \n",
       "4  RandomWaypointMobility-SPD-B-100-20211207-09:5...            2        60   \n",
       "\n",
       "   repetition                       Module  echoedPk:count  \\\n",
       "0           8  TARPNetwork.node[22].app[0]           449.0   \n",
       "1           1  TARPNetwork.node[17].app[0]             NaN   \n",
       "2           9  TARPNetwork.node[17].app[0]             NaN   \n",
       "3           3  TARPNetwork.node[17].app[0]             NaN   \n",
       "4           0  TARPNetwork.node[22].app[0]           437.0   \n",
       "\n",
       "   echoedPk:sum(packetBytes)  packetReceived:count  \\\n",
       "0                   449000.0                   NaN   \n",
       "1                        NaN                 263.0   \n",
       "2                        NaN                 234.0   \n",
       "3                        NaN                 371.0   \n",
       "4                   437000.0                   NaN   \n",
       "\n",
       "   packetReceived:sum(packetBytes)  packets received  packets sent  \\\n",
       "0                              NaN               NaN           NaN   \n",
       "1                         263000.0             263.0         900.0   \n",
       "2                         234000.0             234.0         900.0   \n",
       "3                         371000.0             371.0         900.0   \n",
       "4                              NaN               NaN           NaN   \n",
       "\n",
       "   packetSent:count  packetSent:sum(packetBytes)  \n",
       "0               NaN                          NaN  \n",
       "1             900.0                     900000.0  \n",
       "2             900.0                     900000.0  \n",
       "3             900.0                     900000.0  \n",
       "4               NaN                          NaN  "
      ]
     },
     "execution_count": 119,
     "metadata": {},
     "output_type": "execute_result"
    }
   ],
   "source": [
    "df.head()"
   ]
  },
  {
   "cell_type": "code",
   "execution_count": 120,
   "metadata": {},
   "outputs": [],
   "source": [
    "df.Module = df.Module.str.split('[',expand=True)[1].str.split(']',expand=True)[0]"
   ]
  },
  {
   "cell_type": "code",
   "execution_count": 121,
   "metadata": {},
   "outputs": [],
   "source": [
    "df = df.sort_values(by=['repetition'])"
   ]
  },
  {
   "cell_type": "code",
   "execution_count": 448,
   "metadata": {},
   "outputs": [],
   "source": [
    "df_17 = df.loc[df['Module'] == '17']\n",
    "df_22 = df.loc[df['Module'] == '22']"
   ]
  },
  {
   "cell_type": "code",
   "execution_count": 449,
   "metadata": {},
   "outputs": [],
   "source": [
    "results = []\n",
    "results_x = []\n",
    "count = 0\n",
    "\n",
    "for index, row in df_17.iterrows():\n",
    "        x = df_22.iloc[count][\"echoedPk:count\"]\n",
    "        res = round((row['packetReceived:count'] + x)/(x + row['packetSent:count']), 4) \n",
    "        results.append(res)\n",
    "        res_x = round((x)/(row['packetSent:count']), 4) \n",
    "        results_x.append(res_x)\n",
    "        count+=1\n"
   ]
  },
  {
   "cell_type": "code",
   "execution_count": 450,
   "metadata": {},
   "outputs": [
    {
     "name": "stdout",
     "output_type": "stream",
     "text": [
      "[0.5991, 0.4791, 0.5562, 0.6147, 0.559, 0.6931, 0.787, 0.5064, 0.5849, 0.4417]\n"
     ]
    }
   ],
   "source": [
    "print (results)   "
   ]
  },
  {
   "cell_type": "code",
   "execution_count": 451,
   "metadata": {},
   "outputs": [
    {
     "name": "stdout",
     "output_type": "stream",
     "text": [
      "[0.4856, 0.3589, 0.4322, 0.5256, 0.5067, 0.6511, 0.7733, 0.3911, 0.4989, 0.3256]\n"
     ]
    }
   ],
   "source": [
    "print (results_x) "
   ]
  },
  {
   "cell_type": "code",
   "execution_count": 452,
   "metadata": {},
   "outputs": [
    {
     "name": "stdout",
     "output_type": "stream",
     "text": [
      "Mean: 58.21\n"
     ]
    }
   ],
   "source": [
    "print(\"Mean:\", round(sum(results) / len(results)*100,2))"
   ]
  },
  {
   "cell_type": "code",
   "execution_count": 453,
   "metadata": {},
   "outputs": [
    {
     "name": "stdout",
     "output_type": "stream",
     "text": [
      "Mean: 49.49\n"
     ]
    }
   ],
   "source": [
    "print(\"Mean:\", round(sum(results_x) / len(results_x)*100,2))"
   ]
  },
  {
   "cell_type": "code",
   "execution_count": 777,
   "metadata": {},
   "outputs": [],
   "source": [
    "df_spd_2_80 = pd.DataFrame({'MaxHopCount':[2, 4, 6, 8, 10, 12, 14, 16, 18],\n",
    "                       'PDF':[58.81, 86.13, 94.76, 92.02, 95.14, 91.52, 95.03, 91.0, 93.52]})\n",
    "\n",
    "df_spd_2_80_errors = [14.2, 6.83, 2.48, 3.23, 3.55, 3.99, 1.4, 6.05, 3.08]\n",
    "\n",
    "\n",
    "df_spd_2_40 = pd.DataFrame({'MaxHopCount':[2, 4, 6, 8, 10, 12, 14, 16, 18],\n",
    "                       'PDF':[46.2, 71.99, 69.58, 70.94, 67.18, 68.12, 70.01, 68.71, 72.5]})\n",
    "\n",
    "df_spd_2_40_errors = [10.7, 7.86, 5.74, 6.39, 8.56, 6.15, 6.11, 7.03, 7.22]\n",
    "\n",
    "\n",
    "df_spd_2_60 = pd.DataFrame({'MaxHopCount':[2, 4, 6, 8, 10, 12, 14, 16, 18],\n",
    "                       'PDF':[ 49.49, 80.48, 87.26, 88.11, 85.53, 88.84, 89.32, 89.32, 87.35]})\n",
    "\n",
    "df_spd_2_60_errors = [7.96, 8.44, 4.26, 3.52, 5.66, 3.41, 4.67, 4.43, 4.65]\n"
   ]
  },
  {
   "cell_type": "code",
   "execution_count": 779,
   "metadata": {},
   "outputs": [
    {
     "data": {
      "image/png": "[encoded data removed]",
      "text/plain": [
       "<Figure size 936x720 with 1 Axes>"
      ]
     },
     "metadata": {
      "needs_background": "light"
     },
     "output_type": "display_data"
    }
   ],
   "source": [
    "\n",
    "\n",
    "plt.xlabel(\"Max Hop Count (Hmax)\")\n",
    "plt.ylabel(\"PDF%\")\n",
    "plt.title(\"Parameter Study - Max Hop Count - (500mx500m)\")\n",
    "\n",
    "plt.xticks(np.arange(0,20, 2))\n",
    "plt.yticks(np.arange(45,101, 5))\n",
    "# plt.grid()\n",
    "\n",
    "# plt.plot(df_dd_x.PauseTime, df_dd_x.PDF,  'g-x') \n",
    "\n",
    "# plt.plot(df_spd_1_x.PauseTime, df_spd_1_x.PDF,  'b-x') \n",
    "\n",
    "# plt.plot(df_spd_2_x.PauseTime, df_spd_2_x.PDF,  'r-x') \n",
    "\n",
    "plt.ylim([45, 100])\n",
    "\n",
    "plt.errorbar(\n",
    "  x=df_spd_2_80.MaxHopCount, \n",
    "  y=df_spd_2_80.PDF, \n",
    "  yerr=df_spd_2_80_errors, \n",
    "  capsize=5,\n",
    "  marker='o', \n",
    "  color='green', \n",
    "  markersize=8, \n",
    "  linewidth=1, \n",
    "  linestyle='-')\n",
    "\n",
    "plt.errorbar(\n",
    "  x=df_spd_2_40.MaxHopCount, \n",
    "  y=df_spd_2_40.PDF, \n",
    "  yerr=df_spd_2_40_errors, \n",
    "  capsize=5,\n",
    "  marker='o', \n",
    "  color='blue', \n",
    "  markersize=8, \n",
    "  linewidth=1, \n",
    "  linestyle='-')\n",
    "\n",
    "plt.errorbar(\n",
    "  x=df_spd_2_60.MaxHopCount, \n",
    "  y=df_spd_2_60.PDF, \n",
    "  yerr=df_spd_2_60_errors, \n",
    "  capsize=5,\n",
    "  marker='o', \n",
    "  color='red', \n",
    "  markersize=8, \n",
    "  linewidth=1.2, \n",
    "  linestyle='-')\n",
    "\n",
    "red_patch = mpatches.Patch(color='red', label='60 Nodes')\n",
    "green_patch = mpatches.Patch(color='green', label='80 Nodes')\n",
    "blue_patch = mpatches.Patch(color='blue', label='40 Nodes')\n",
    "\n",
    "plt.legend(handles=[ green_patch, blue_patch, red_patch])\n",
    "\n",
    "\n",
    "\n",
    "fig = plt.gcf()\n",
    "fig.set_size_inches(13, 10)\n",
    "\n",
    "plt.savefig('simulation-pdf-hmax-parameter study.png', dpi=300)"
   ]
  },
  {
   "cell_type": "code",
   "execution_count": null,
   "metadata": {},
   "outputs": [],
   "source": []
  },
  {
   "cell_type": "code",
   "execution_count": null,
   "metadata": {},
   "outputs": [],
   "source": []
  },
  {
   "cell_type": "code",
   "execution_count": null,
   "metadata": {},
   "outputs": [],
   "source": []
  },
  {
   "cell_type": "code",
   "execution_count": null,
   "metadata": {},
   "outputs": [],
   "source": []
  },
  {
   "cell_type": "code",
   "execution_count": null,
   "metadata": {},
   "outputs": [],
   "source": []
  }
 ],
 "metadata": {
  "kernelspec": {
   "display_name": "Python 3",
   "language": "python",
   "name": "python3"
  },
  "language_info": {
   "codemirror_mode": {
    "name": "ipython",
    "version": 3
   },
   "file_extension": ".py",
   "mimetype": "text/x-python",
   "name": "python",
   "nbconvert_exporter": "python",
   "pygments_lexer": "ipython3",
   "version": "3.8.3"
  }
 },
 "nbformat": 4,
 "nbformat_minor": 4
}
